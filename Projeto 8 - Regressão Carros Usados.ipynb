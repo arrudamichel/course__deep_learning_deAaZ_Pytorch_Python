{
 "cells": [
  {
   "cell_type": "markdown",
   "id": "856556ab-19b4-4ec2-82a9-c7575a3d75ed",
   "metadata": {},
   "source": [
    "# Projeto 8 - Regressão Carros Usados"
   ]
  },
  {
   "cell_type": "markdown",
   "id": "bc16ca03-d001-479b-bffa-5d859b2c1159",
   "metadata": {},
   "source": [
    "## 1. Importando as bibliotecas"
   ]
  },
  {
   "cell_type": "code",
   "execution_count": 1,
   "id": "e0649030-3608-4085-98e4-fcf195d2d79b",
   "metadata": {},
   "outputs": [],
   "source": [
    "import pandas as pd\n",
    "import torch\n",
    "import numpy as np\n",
    "import seaborn as sns\n",
    "from torch import nn, optim\n",
    "import torch.nn.functional as F\n",
    "from sklearn.preprocessing import OneHotEncoder\n",
    "from sklearn.compose import ColumnTransformer"
   ]
  },
  {
   "cell_type": "code",
   "execution_count": 2,
   "id": "f7ee38f9-8d66-48e5-a1e6-688a93a4e7b2",
   "metadata": {},
   "outputs": [],
   "source": [
    "torch.set_default_device(\"mps\")\n",
    "device = torch.device(\"mps\")\n",
    "\n",
    "# torch.set_default_device(\"cpu\")\n",
    "# device = torch.device(\"cpu\")"
   ]
  },
  {
   "cell_type": "code",
   "execution_count": 3,
   "id": "0f09d688-38af-4d93-8d80-c5c84ddca12f",
   "metadata": {},
   "outputs": [
    {
     "name": "stdout",
     "output_type": "stream",
     "text": [
      "True\n",
      "True\n"
     ]
    }
   ],
   "source": [
    "print(torch.backends.mps.is_available())  # Deve retornar True\n",
    "print(torch.backends.mps.is_built())  # Deve retornar True"
   ]
  },
  {
   "cell_type": "markdown",
   "id": "ad221e59-bfbc-45e2-99d7-1ae96792c3b6",
   "metadata": {},
   "source": [
    "## 2. Importando a base de dados"
   ]
  },
  {
   "cell_type": "code",
   "execution_count": 4,
   "id": "b6c1e936-527a-4603-be57-0268a1dc41a0",
   "metadata": {},
   "outputs": [
    {
     "data": {
      "text/plain": [
       "<torch._C.Generator at 0x120dd3ef0>"
      ]
     },
     "execution_count": 4,
     "metadata": {},
     "output_type": "execute_result"
    }
   ],
   "source": [
    "np.random.seed(123)\n",
    "torch.manual_seed(123)"
   ]
  },
  {
   "cell_type": "code",
   "execution_count": 5,
   "id": "b45bee12-f712-44b5-b63f-31c5c90dc65f",
   "metadata": {},
   "outputs": [],
   "source": [
    "base = pd.read_csv(\"data/autos.csv\", encoding=\"ISO-8859-1\")"
   ]
  },
  {
   "cell_type": "code",
   "execution_count": 6,
   "id": "ca2b5c9b-981b-4d28-86b4-5a6b08a983cb",
   "metadata": {},
   "outputs": [
    {
     "data": {
      "text/html": [
       "<div>\n",
       "<style scoped>\n",
       "    .dataframe tbody tr th:only-of-type {\n",
       "        vertical-align: middle;\n",
       "    }\n",
       "\n",
       "    .dataframe tbody tr th {\n",
       "        vertical-align: top;\n",
       "    }\n",
       "\n",
       "    .dataframe thead th {\n",
       "        text-align: right;\n",
       "    }\n",
       "</style>\n",
       "<table border=\"1\" class=\"dataframe\">\n",
       "  <thead>\n",
       "    <tr style=\"text-align: right;\">\n",
       "      <th></th>\n",
       "      <th>dateCrawled</th>\n",
       "      <th>name</th>\n",
       "      <th>seller</th>\n",
       "      <th>offerType</th>\n",
       "      <th>price</th>\n",
       "      <th>abtest</th>\n",
       "      <th>vehicleType</th>\n",
       "      <th>yearOfRegistration</th>\n",
       "      <th>gearbox</th>\n",
       "      <th>powerPS</th>\n",
       "      <th>model</th>\n",
       "      <th>kilometer</th>\n",
       "      <th>monthOfRegistration</th>\n",
       "      <th>fuelType</th>\n",
       "      <th>brand</th>\n",
       "      <th>notRepairedDamage</th>\n",
       "      <th>dateCreated</th>\n",
       "      <th>nrOfPictures</th>\n",
       "      <th>postalCode</th>\n",
       "      <th>lastSeen</th>\n",
       "    </tr>\n",
       "  </thead>\n",
       "  <tbody>\n",
       "    <tr>\n",
       "      <th>0</th>\n",
       "      <td>2016-03-24 11:52:17</td>\n",
       "      <td>Golf_3_1.6</td>\n",
       "      <td>privat</td>\n",
       "      <td>Angebot</td>\n",
       "      <td>480</td>\n",
       "      <td>test</td>\n",
       "      <td>NaN</td>\n",
       "      <td>1993</td>\n",
       "      <td>manuell</td>\n",
       "      <td>0</td>\n",
       "      <td>golf</td>\n",
       "      <td>150000</td>\n",
       "      <td>0</td>\n",
       "      <td>benzin</td>\n",
       "      <td>volkswagen</td>\n",
       "      <td>NaN</td>\n",
       "      <td>2016-03-24 00:00:00</td>\n",
       "      <td>0</td>\n",
       "      <td>70435</td>\n",
       "      <td>2016-04-07 03:16:57</td>\n",
       "    </tr>\n",
       "    <tr>\n",
       "      <th>1</th>\n",
       "      <td>2016-03-24 10:58:45</td>\n",
       "      <td>A5_Sportback_2.7_Tdi</td>\n",
       "      <td>privat</td>\n",
       "      <td>Angebot</td>\n",
       "      <td>18300</td>\n",
       "      <td>test</td>\n",
       "      <td>coupe</td>\n",
       "      <td>2011</td>\n",
       "      <td>manuell</td>\n",
       "      <td>190</td>\n",
       "      <td>NaN</td>\n",
       "      <td>125000</td>\n",
       "      <td>5</td>\n",
       "      <td>diesel</td>\n",
       "      <td>audi</td>\n",
       "      <td>ja</td>\n",
       "      <td>2016-03-24 00:00:00</td>\n",
       "      <td>0</td>\n",
       "      <td>66954</td>\n",
       "      <td>2016-04-07 01:46:50</td>\n",
       "    </tr>\n",
       "    <tr>\n",
       "      <th>2</th>\n",
       "      <td>2016-03-14 12:52:21</td>\n",
       "      <td>Jeep_Grand_Cherokee_\"Overland\"</td>\n",
       "      <td>privat</td>\n",
       "      <td>Angebot</td>\n",
       "      <td>9800</td>\n",
       "      <td>test</td>\n",
       "      <td>suv</td>\n",
       "      <td>2004</td>\n",
       "      <td>automatik</td>\n",
       "      <td>163</td>\n",
       "      <td>grand</td>\n",
       "      <td>125000</td>\n",
       "      <td>8</td>\n",
       "      <td>diesel</td>\n",
       "      <td>jeep</td>\n",
       "      <td>NaN</td>\n",
       "      <td>2016-03-14 00:00:00</td>\n",
       "      <td>0</td>\n",
       "      <td>90480</td>\n",
       "      <td>2016-04-05 12:47:46</td>\n",
       "    </tr>\n",
       "    <tr>\n",
       "      <th>3</th>\n",
       "      <td>2016-03-17 16:54:04</td>\n",
       "      <td>GOLF_4_1_4__3TÜRER</td>\n",
       "      <td>privat</td>\n",
       "      <td>Angebot</td>\n",
       "      <td>1500</td>\n",
       "      <td>test</td>\n",
       "      <td>kleinwagen</td>\n",
       "      <td>2001</td>\n",
       "      <td>manuell</td>\n",
       "      <td>75</td>\n",
       "      <td>golf</td>\n",
       "      <td>150000</td>\n",
       "      <td>6</td>\n",
       "      <td>benzin</td>\n",
       "      <td>volkswagen</td>\n",
       "      <td>nein</td>\n",
       "      <td>2016-03-17 00:00:00</td>\n",
       "      <td>0</td>\n",
       "      <td>91074</td>\n",
       "      <td>2016-03-17 17:40:17</td>\n",
       "    </tr>\n",
       "    <tr>\n",
       "      <th>4</th>\n",
       "      <td>2016-03-31 17:25:20</td>\n",
       "      <td>Skoda_Fabia_1.4_TDI_PD_Classic</td>\n",
       "      <td>privat</td>\n",
       "      <td>Angebot</td>\n",
       "      <td>3600</td>\n",
       "      <td>test</td>\n",
       "      <td>kleinwagen</td>\n",
       "      <td>2008</td>\n",
       "      <td>manuell</td>\n",
       "      <td>69</td>\n",
       "      <td>fabia</td>\n",
       "      <td>90000</td>\n",
       "      <td>7</td>\n",
       "      <td>diesel</td>\n",
       "      <td>skoda</td>\n",
       "      <td>nein</td>\n",
       "      <td>2016-03-31 00:00:00</td>\n",
       "      <td>0</td>\n",
       "      <td>60437</td>\n",
       "      <td>2016-04-06 10:17:21</td>\n",
       "    </tr>\n",
       "  </tbody>\n",
       "</table>\n",
       "</div>"
      ],
      "text/plain": [
       "           dateCrawled                            name  seller offerType  \\\n",
       "0  2016-03-24 11:52:17                      Golf_3_1.6  privat   Angebot   \n",
       "1  2016-03-24 10:58:45            A5_Sportback_2.7_Tdi  privat   Angebot   \n",
       "2  2016-03-14 12:52:21  Jeep_Grand_Cherokee_\"Overland\"  privat   Angebot   \n",
       "3  2016-03-17 16:54:04              GOLF_4_1_4__3TÜRER  privat   Angebot   \n",
       "4  2016-03-31 17:25:20  Skoda_Fabia_1.4_TDI_PD_Classic  privat   Angebot   \n",
       "\n",
       "   price abtest vehicleType  yearOfRegistration    gearbox  powerPS  model  \\\n",
       "0    480   test         NaN                1993    manuell        0   golf   \n",
       "1  18300   test       coupe                2011    manuell      190    NaN   \n",
       "2   9800   test         suv                2004  automatik      163  grand   \n",
       "3   1500   test  kleinwagen                2001    manuell       75   golf   \n",
       "4   3600   test  kleinwagen                2008    manuell       69  fabia   \n",
       "\n",
       "   kilometer  monthOfRegistration fuelType       brand notRepairedDamage  \\\n",
       "0     150000                    0   benzin  volkswagen               NaN   \n",
       "1     125000                    5   diesel        audi                ja   \n",
       "2     125000                    8   diesel        jeep               NaN   \n",
       "3     150000                    6   benzin  volkswagen              nein   \n",
       "4      90000                    7   diesel       skoda              nein   \n",
       "\n",
       "           dateCreated  nrOfPictures  postalCode             lastSeen  \n",
       "0  2016-03-24 00:00:00             0       70435  2016-04-07 03:16:57  \n",
       "1  2016-03-24 00:00:00             0       66954  2016-04-07 01:46:50  \n",
       "2  2016-03-14 00:00:00             0       90480  2016-04-05 12:47:46  \n",
       "3  2016-03-17 00:00:00             0       91074  2016-03-17 17:40:17  \n",
       "4  2016-03-31 00:00:00             0       60437  2016-04-06 10:17:21  "
      ]
     },
     "execution_count": 6,
     "metadata": {},
     "output_type": "execute_result"
    }
   ],
   "source": [
    "base.head(5)"
   ]
  },
  {
   "cell_type": "code",
   "execution_count": 7,
   "id": "b33b78b5-63ed-4bb7-9267-0cb57b24910d",
   "metadata": {},
   "outputs": [
    {
     "data": {
      "text/plain": [
       "0           480\n",
       "1         18300\n",
       "2          9800\n",
       "3          1500\n",
       "4          3600\n",
       "          ...  \n",
       "371523     2200\n",
       "371524     1199\n",
       "371525     9200\n",
       "371526     3400\n",
       "371527    28990\n",
       "Name: price, Length: 371528, dtype: int64"
      ]
     },
     "execution_count": 7,
     "metadata": {},
     "output_type": "execute_result"
    }
   ],
   "source": [
    "base[\"price\"]"
   ]
  },
  {
   "cell_type": "code",
   "execution_count": 8,
   "id": "424f90be-d0ce-4b44-98d1-91413fa69ad1",
   "metadata": {},
   "outputs": [
    {
     "data": {
      "text/plain": [
       "Index(['dateCrawled', 'name', 'seller', 'offerType', 'price', 'abtest',\n",
       "       'vehicleType', 'yearOfRegistration', 'gearbox', 'powerPS', 'model',\n",
       "       'kilometer', 'monthOfRegistration', 'fuelType', 'brand',\n",
       "       'notRepairedDamage', 'dateCreated', 'nrOfPictures', 'postalCode',\n",
       "       'lastSeen'],\n",
       "      dtype='object')"
      ]
     },
     "execution_count": 8,
     "metadata": {},
     "output_type": "execute_result"
    }
   ],
   "source": [
    "base.columns"
   ]
  },
  {
   "cell_type": "code",
   "execution_count": 9,
   "id": "c0adc097-9da8-4fca-9c34-34cc248dde43",
   "metadata": {},
   "outputs": [],
   "source": [
    "base.drop(columns=[\"dateCrawled\", \"dateCreated\", \"nrOfPictures\", \"postalCode\", \"lastSeen\"], inplace=True)"
   ]
  },
  {
   "cell_type": "code",
   "execution_count": 10,
   "id": "a91038c9-a86e-4eeb-a60b-9ca0461a9ffe",
   "metadata": {},
   "outputs": [
    {
     "data": {
      "text/plain": [
       "(371528, 15)"
      ]
     },
     "execution_count": 10,
     "metadata": {},
     "output_type": "execute_result"
    }
   ],
   "source": [
    "base.shape"
   ]
  },
  {
   "cell_type": "code",
   "execution_count": 11,
   "id": "eeccdc30-7f14-40d0-b58d-f050213ac417",
   "metadata": {},
   "outputs": [
    {
     "data": {
      "text/html": [
       "<div>\n",
       "<style scoped>\n",
       "    .dataframe tbody tr th:only-of-type {\n",
       "        vertical-align: middle;\n",
       "    }\n",
       "\n",
       "    .dataframe tbody tr th {\n",
       "        vertical-align: top;\n",
       "    }\n",
       "\n",
       "    .dataframe thead th {\n",
       "        text-align: right;\n",
       "    }\n",
       "</style>\n",
       "<table border=\"1\" class=\"dataframe\">\n",
       "  <thead>\n",
       "    <tr style=\"text-align: right;\">\n",
       "      <th></th>\n",
       "      <th>name</th>\n",
       "      <th>seller</th>\n",
       "      <th>offerType</th>\n",
       "      <th>price</th>\n",
       "      <th>abtest</th>\n",
       "      <th>vehicleType</th>\n",
       "      <th>yearOfRegistration</th>\n",
       "      <th>gearbox</th>\n",
       "      <th>powerPS</th>\n",
       "      <th>model</th>\n",
       "      <th>kilometer</th>\n",
       "      <th>monthOfRegistration</th>\n",
       "      <th>fuelType</th>\n",
       "      <th>brand</th>\n",
       "      <th>notRepairedDamage</th>\n",
       "    </tr>\n",
       "  </thead>\n",
       "  <tbody>\n",
       "    <tr>\n",
       "      <th>0</th>\n",
       "      <td>Golf_3_1.6</td>\n",
       "      <td>privat</td>\n",
       "      <td>Angebot</td>\n",
       "      <td>480</td>\n",
       "      <td>test</td>\n",
       "      <td>NaN</td>\n",
       "      <td>1993</td>\n",
       "      <td>manuell</td>\n",
       "      <td>0</td>\n",
       "      <td>golf</td>\n",
       "      <td>150000</td>\n",
       "      <td>0</td>\n",
       "      <td>benzin</td>\n",
       "      <td>volkswagen</td>\n",
       "      <td>NaN</td>\n",
       "    </tr>\n",
       "    <tr>\n",
       "      <th>1</th>\n",
       "      <td>A5_Sportback_2.7_Tdi</td>\n",
       "      <td>privat</td>\n",
       "      <td>Angebot</td>\n",
       "      <td>18300</td>\n",
       "      <td>test</td>\n",
       "      <td>coupe</td>\n",
       "      <td>2011</td>\n",
       "      <td>manuell</td>\n",
       "      <td>190</td>\n",
       "      <td>NaN</td>\n",
       "      <td>125000</td>\n",
       "      <td>5</td>\n",
       "      <td>diesel</td>\n",
       "      <td>audi</td>\n",
       "      <td>ja</td>\n",
       "    </tr>\n",
       "    <tr>\n",
       "      <th>2</th>\n",
       "      <td>Jeep_Grand_Cherokee_\"Overland\"</td>\n",
       "      <td>privat</td>\n",
       "      <td>Angebot</td>\n",
       "      <td>9800</td>\n",
       "      <td>test</td>\n",
       "      <td>suv</td>\n",
       "      <td>2004</td>\n",
       "      <td>automatik</td>\n",
       "      <td>163</td>\n",
       "      <td>grand</td>\n",
       "      <td>125000</td>\n",
       "      <td>8</td>\n",
       "      <td>diesel</td>\n",
       "      <td>jeep</td>\n",
       "      <td>NaN</td>\n",
       "    </tr>\n",
       "    <tr>\n",
       "      <th>3</th>\n",
       "      <td>GOLF_4_1_4__3TÜRER</td>\n",
       "      <td>privat</td>\n",
       "      <td>Angebot</td>\n",
       "      <td>1500</td>\n",
       "      <td>test</td>\n",
       "      <td>kleinwagen</td>\n",
       "      <td>2001</td>\n",
       "      <td>manuell</td>\n",
       "      <td>75</td>\n",
       "      <td>golf</td>\n",
       "      <td>150000</td>\n",
       "      <td>6</td>\n",
       "      <td>benzin</td>\n",
       "      <td>volkswagen</td>\n",
       "      <td>nein</td>\n",
       "    </tr>\n",
       "    <tr>\n",
       "      <th>4</th>\n",
       "      <td>Skoda_Fabia_1.4_TDI_PD_Classic</td>\n",
       "      <td>privat</td>\n",
       "      <td>Angebot</td>\n",
       "      <td>3600</td>\n",
       "      <td>test</td>\n",
       "      <td>kleinwagen</td>\n",
       "      <td>2008</td>\n",
       "      <td>manuell</td>\n",
       "      <td>69</td>\n",
       "      <td>fabia</td>\n",
       "      <td>90000</td>\n",
       "      <td>7</td>\n",
       "      <td>diesel</td>\n",
       "      <td>skoda</td>\n",
       "      <td>nein</td>\n",
       "    </tr>\n",
       "  </tbody>\n",
       "</table>\n",
       "</div>"
      ],
      "text/plain": [
       "                             name  seller offerType  price abtest vehicleType  \\\n",
       "0                      Golf_3_1.6  privat   Angebot    480   test         NaN   \n",
       "1            A5_Sportback_2.7_Tdi  privat   Angebot  18300   test       coupe   \n",
       "2  Jeep_Grand_Cherokee_\"Overland\"  privat   Angebot   9800   test         suv   \n",
       "3              GOLF_4_1_4__3TÜRER  privat   Angebot   1500   test  kleinwagen   \n",
       "4  Skoda_Fabia_1.4_TDI_PD_Classic  privat   Angebot   3600   test  kleinwagen   \n",
       "\n",
       "   yearOfRegistration    gearbox  powerPS  model  kilometer  \\\n",
       "0                1993    manuell        0   golf     150000   \n",
       "1                2011    manuell      190    NaN     125000   \n",
       "2                2004  automatik      163  grand     125000   \n",
       "3                2001    manuell       75   golf     150000   \n",
       "4                2008    manuell       69  fabia      90000   \n",
       "\n",
       "   monthOfRegistration fuelType       brand notRepairedDamage  \n",
       "0                    0   benzin  volkswagen               NaN  \n",
       "1                    5   diesel        audi                ja  \n",
       "2                    8   diesel        jeep               NaN  \n",
       "3                    6   benzin  volkswagen              nein  \n",
       "4                    7   diesel       skoda              nein  "
      ]
     },
     "execution_count": 11,
     "metadata": {},
     "output_type": "execute_result"
    }
   ],
   "source": [
    "base.head()"
   ]
  },
  {
   "cell_type": "code",
   "execution_count": 12,
   "id": "5045ffef-e634-4987-bdf0-03758dcacc47",
   "metadata": {},
   "outputs": [
    {
     "data": {
      "text/plain": [
       "name\n",
       "Ford_Fiesta                                              657\n",
       "BMW_318i                                                 627\n",
       "Opel_Corsa                                               622\n",
       "Volkswagen_Golf_1.4                                      603\n",
       "BMW_316i                                                 523\n",
       "                                                        ... \n",
       "Audi_A4_Avant_Klima_Gruene_Plakette_TÜV_&AU_NEU_XENON      1\n",
       "Renault_clio_in_gold_450VB_!!                              1\n",
       "Fiat_Doblo_1.6_Multijet                                    1\n",
       "Renault_Laguna_1                                           1\n",
       "BMW_M135i_vollausgestattet_NP_52.720____Euro               1\n",
       "Name: count, Length: 233531, dtype: int64"
      ]
     },
     "execution_count": 12,
     "metadata": {},
     "output_type": "execute_result"
    }
   ],
   "source": [
    "base[\"name\"].value_counts()"
   ]
  },
  {
   "cell_type": "code",
   "execution_count": 13,
   "id": "de88d1d9-6d0e-44a9-adf4-dddea7109aac",
   "metadata": {},
   "outputs": [],
   "source": [
    "base.drop(\"name\", axis=1, inplace=True)"
   ]
  },
  {
   "cell_type": "code",
   "execution_count": 14,
   "id": "a51ef6a2-9d8c-43a3-8751-86ce50e9c1a5",
   "metadata": {},
   "outputs": [
    {
     "data": {
      "text/html": [
       "<div>\n",
       "<style scoped>\n",
       "    .dataframe tbody tr th:only-of-type {\n",
       "        vertical-align: middle;\n",
       "    }\n",
       "\n",
       "    .dataframe tbody tr th {\n",
       "        vertical-align: top;\n",
       "    }\n",
       "\n",
       "    .dataframe thead th {\n",
       "        text-align: right;\n",
       "    }\n",
       "</style>\n",
       "<table border=\"1\" class=\"dataframe\">\n",
       "  <thead>\n",
       "    <tr style=\"text-align: right;\">\n",
       "      <th></th>\n",
       "      <th>seller</th>\n",
       "      <th>offerType</th>\n",
       "      <th>price</th>\n",
       "      <th>abtest</th>\n",
       "      <th>vehicleType</th>\n",
       "      <th>yearOfRegistration</th>\n",
       "      <th>gearbox</th>\n",
       "      <th>powerPS</th>\n",
       "      <th>model</th>\n",
       "      <th>kilometer</th>\n",
       "      <th>monthOfRegistration</th>\n",
       "      <th>fuelType</th>\n",
       "      <th>brand</th>\n",
       "      <th>notRepairedDamage</th>\n",
       "    </tr>\n",
       "  </thead>\n",
       "  <tbody>\n",
       "    <tr>\n",
       "      <th>0</th>\n",
       "      <td>privat</td>\n",
       "      <td>Angebot</td>\n",
       "      <td>480</td>\n",
       "      <td>test</td>\n",
       "      <td>NaN</td>\n",
       "      <td>1993</td>\n",
       "      <td>manuell</td>\n",
       "      <td>0</td>\n",
       "      <td>golf</td>\n",
       "      <td>150000</td>\n",
       "      <td>0</td>\n",
       "      <td>benzin</td>\n",
       "      <td>volkswagen</td>\n",
       "      <td>NaN</td>\n",
       "    </tr>\n",
       "    <tr>\n",
       "      <th>1</th>\n",
       "      <td>privat</td>\n",
       "      <td>Angebot</td>\n",
       "      <td>18300</td>\n",
       "      <td>test</td>\n",
       "      <td>coupe</td>\n",
       "      <td>2011</td>\n",
       "      <td>manuell</td>\n",
       "      <td>190</td>\n",
       "      <td>NaN</td>\n",
       "      <td>125000</td>\n",
       "      <td>5</td>\n",
       "      <td>diesel</td>\n",
       "      <td>audi</td>\n",
       "      <td>ja</td>\n",
       "    </tr>\n",
       "    <tr>\n",
       "      <th>2</th>\n",
       "      <td>privat</td>\n",
       "      <td>Angebot</td>\n",
       "      <td>9800</td>\n",
       "      <td>test</td>\n",
       "      <td>suv</td>\n",
       "      <td>2004</td>\n",
       "      <td>automatik</td>\n",
       "      <td>163</td>\n",
       "      <td>grand</td>\n",
       "      <td>125000</td>\n",
       "      <td>8</td>\n",
       "      <td>diesel</td>\n",
       "      <td>jeep</td>\n",
       "      <td>NaN</td>\n",
       "    </tr>\n",
       "    <tr>\n",
       "      <th>3</th>\n",
       "      <td>privat</td>\n",
       "      <td>Angebot</td>\n",
       "      <td>1500</td>\n",
       "      <td>test</td>\n",
       "      <td>kleinwagen</td>\n",
       "      <td>2001</td>\n",
       "      <td>manuell</td>\n",
       "      <td>75</td>\n",
       "      <td>golf</td>\n",
       "      <td>150000</td>\n",
       "      <td>6</td>\n",
       "      <td>benzin</td>\n",
       "      <td>volkswagen</td>\n",
       "      <td>nein</td>\n",
       "    </tr>\n",
       "    <tr>\n",
       "      <th>4</th>\n",
       "      <td>privat</td>\n",
       "      <td>Angebot</td>\n",
       "      <td>3600</td>\n",
       "      <td>test</td>\n",
       "      <td>kleinwagen</td>\n",
       "      <td>2008</td>\n",
       "      <td>manuell</td>\n",
       "      <td>69</td>\n",
       "      <td>fabia</td>\n",
       "      <td>90000</td>\n",
       "      <td>7</td>\n",
       "      <td>diesel</td>\n",
       "      <td>skoda</td>\n",
       "      <td>nein</td>\n",
       "    </tr>\n",
       "  </tbody>\n",
       "</table>\n",
       "</div>"
      ],
      "text/plain": [
       "   seller offerType  price abtest vehicleType  yearOfRegistration    gearbox  \\\n",
       "0  privat   Angebot    480   test         NaN                1993    manuell   \n",
       "1  privat   Angebot  18300   test       coupe                2011    manuell   \n",
       "2  privat   Angebot   9800   test         suv                2004  automatik   \n",
       "3  privat   Angebot   1500   test  kleinwagen                2001    manuell   \n",
       "4  privat   Angebot   3600   test  kleinwagen                2008    manuell   \n",
       "\n",
       "   powerPS  model  kilometer  monthOfRegistration fuelType       brand  \\\n",
       "0        0   golf     150000                    0   benzin  volkswagen   \n",
       "1      190    NaN     125000                    5   diesel        audi   \n",
       "2      163  grand     125000                    8   diesel        jeep   \n",
       "3       75   golf     150000                    6   benzin  volkswagen   \n",
       "4       69  fabia      90000                    7   diesel       skoda   \n",
       "\n",
       "  notRepairedDamage  \n",
       "0               NaN  \n",
       "1                ja  \n",
       "2               NaN  \n",
       "3              nein  \n",
       "4              nein  "
      ]
     },
     "execution_count": 14,
     "metadata": {},
     "output_type": "execute_result"
    }
   ],
   "source": [
    "base.head()"
   ]
  },
  {
   "cell_type": "code",
   "execution_count": 15,
   "id": "404478de-1fa7-4ec0-9ceb-793dfe48777a",
   "metadata": {},
   "outputs": [
    {
     "data": {
      "text/plain": [
       "seller\n",
       "privat        371525\n",
       "gewerblich         3\n",
       "Name: count, dtype: int64"
      ]
     },
     "execution_count": 15,
     "metadata": {},
     "output_type": "execute_result"
    }
   ],
   "source": [
    "base.seller.value_counts()"
   ]
  },
  {
   "cell_type": "code",
   "execution_count": 16,
   "id": "e03e8850-e74b-4829-92af-6baafd8efbc8",
   "metadata": {},
   "outputs": [],
   "source": [
    "base.drop(\"seller\", axis=1, inplace=True)"
   ]
  },
  {
   "cell_type": "code",
   "execution_count": 17,
   "id": "8f2718f9-d303-4f2b-9ce5-d3c7373f44e1",
   "metadata": {},
   "outputs": [
    {
     "data": {
      "text/html": [
       "<div>\n",
       "<style scoped>\n",
       "    .dataframe tbody tr th:only-of-type {\n",
       "        vertical-align: middle;\n",
       "    }\n",
       "\n",
       "    .dataframe tbody tr th {\n",
       "        vertical-align: top;\n",
       "    }\n",
       "\n",
       "    .dataframe thead th {\n",
       "        text-align: right;\n",
       "    }\n",
       "</style>\n",
       "<table border=\"1\" class=\"dataframe\">\n",
       "  <thead>\n",
       "    <tr style=\"text-align: right;\">\n",
       "      <th></th>\n",
       "      <th>offerType</th>\n",
       "      <th>price</th>\n",
       "      <th>abtest</th>\n",
       "      <th>vehicleType</th>\n",
       "      <th>yearOfRegistration</th>\n",
       "      <th>gearbox</th>\n",
       "      <th>powerPS</th>\n",
       "      <th>model</th>\n",
       "      <th>kilometer</th>\n",
       "      <th>monthOfRegistration</th>\n",
       "      <th>fuelType</th>\n",
       "      <th>brand</th>\n",
       "      <th>notRepairedDamage</th>\n",
       "    </tr>\n",
       "  </thead>\n",
       "  <tbody>\n",
       "    <tr>\n",
       "      <th>0</th>\n",
       "      <td>Angebot</td>\n",
       "      <td>480</td>\n",
       "      <td>test</td>\n",
       "      <td>NaN</td>\n",
       "      <td>1993</td>\n",
       "      <td>manuell</td>\n",
       "      <td>0</td>\n",
       "      <td>golf</td>\n",
       "      <td>150000</td>\n",
       "      <td>0</td>\n",
       "      <td>benzin</td>\n",
       "      <td>volkswagen</td>\n",
       "      <td>NaN</td>\n",
       "    </tr>\n",
       "    <tr>\n",
       "      <th>1</th>\n",
       "      <td>Angebot</td>\n",
       "      <td>18300</td>\n",
       "      <td>test</td>\n",
       "      <td>coupe</td>\n",
       "      <td>2011</td>\n",
       "      <td>manuell</td>\n",
       "      <td>190</td>\n",
       "      <td>NaN</td>\n",
       "      <td>125000</td>\n",
       "      <td>5</td>\n",
       "      <td>diesel</td>\n",
       "      <td>audi</td>\n",
       "      <td>ja</td>\n",
       "    </tr>\n",
       "    <tr>\n",
       "      <th>2</th>\n",
       "      <td>Angebot</td>\n",
       "      <td>9800</td>\n",
       "      <td>test</td>\n",
       "      <td>suv</td>\n",
       "      <td>2004</td>\n",
       "      <td>automatik</td>\n",
       "      <td>163</td>\n",
       "      <td>grand</td>\n",
       "      <td>125000</td>\n",
       "      <td>8</td>\n",
       "      <td>diesel</td>\n",
       "      <td>jeep</td>\n",
       "      <td>NaN</td>\n",
       "    </tr>\n",
       "    <tr>\n",
       "      <th>3</th>\n",
       "      <td>Angebot</td>\n",
       "      <td>1500</td>\n",
       "      <td>test</td>\n",
       "      <td>kleinwagen</td>\n",
       "      <td>2001</td>\n",
       "      <td>manuell</td>\n",
       "      <td>75</td>\n",
       "      <td>golf</td>\n",
       "      <td>150000</td>\n",
       "      <td>6</td>\n",
       "      <td>benzin</td>\n",
       "      <td>volkswagen</td>\n",
       "      <td>nein</td>\n",
       "    </tr>\n",
       "    <tr>\n",
       "      <th>4</th>\n",
       "      <td>Angebot</td>\n",
       "      <td>3600</td>\n",
       "      <td>test</td>\n",
       "      <td>kleinwagen</td>\n",
       "      <td>2008</td>\n",
       "      <td>manuell</td>\n",
       "      <td>69</td>\n",
       "      <td>fabia</td>\n",
       "      <td>90000</td>\n",
       "      <td>7</td>\n",
       "      <td>diesel</td>\n",
       "      <td>skoda</td>\n",
       "      <td>nein</td>\n",
       "    </tr>\n",
       "  </tbody>\n",
       "</table>\n",
       "</div>"
      ],
      "text/plain": [
       "  offerType  price abtest vehicleType  yearOfRegistration    gearbox  powerPS  \\\n",
       "0   Angebot    480   test         NaN                1993    manuell        0   \n",
       "1   Angebot  18300   test       coupe                2011    manuell      190   \n",
       "2   Angebot   9800   test         suv                2004  automatik      163   \n",
       "3   Angebot   1500   test  kleinwagen                2001    manuell       75   \n",
       "4   Angebot   3600   test  kleinwagen                2008    manuell       69   \n",
       "\n",
       "   model  kilometer  monthOfRegistration fuelType       brand  \\\n",
       "0   golf     150000                    0   benzin  volkswagen   \n",
       "1    NaN     125000                    5   diesel        audi   \n",
       "2  grand     125000                    8   diesel        jeep   \n",
       "3   golf     150000                    6   benzin  volkswagen   \n",
       "4  fabia      90000                    7   diesel       skoda   \n",
       "\n",
       "  notRepairedDamage  \n",
       "0               NaN  \n",
       "1                ja  \n",
       "2               NaN  \n",
       "3              nein  \n",
       "4              nein  "
      ]
     },
     "execution_count": 17,
     "metadata": {},
     "output_type": "execute_result"
    }
   ],
   "source": [
    "base.head()"
   ]
  },
  {
   "cell_type": "code",
   "execution_count": 18,
   "id": "39460cde-9c9e-46be-8228-7cf0b1139815",
   "metadata": {},
   "outputs": [
    {
     "data": {
      "text/plain": [
       "offerType\n",
       "Angebot    371516\n",
       "Gesuch         12\n",
       "Name: count, dtype: int64"
      ]
     },
     "execution_count": 18,
     "metadata": {},
     "output_type": "execute_result"
    }
   ],
   "source": [
    "base.offerType.value_counts()"
   ]
  },
  {
   "cell_type": "code",
   "execution_count": 19,
   "id": "8254363d-83a6-422d-8179-ba6db7c9bcee",
   "metadata": {},
   "outputs": [],
   "source": [
    "base.drop(\"offerType\", axis=1, inplace=True)"
   ]
  },
  {
   "cell_type": "code",
   "execution_count": 20,
   "id": "e5ea8ba1-ccf8-4eb6-ba5d-1b80f497f02e",
   "metadata": {},
   "outputs": [
    {
     "data": {
      "text/html": [
       "<div>\n",
       "<style scoped>\n",
       "    .dataframe tbody tr th:only-of-type {\n",
       "        vertical-align: middle;\n",
       "    }\n",
       "\n",
       "    .dataframe tbody tr th {\n",
       "        vertical-align: top;\n",
       "    }\n",
       "\n",
       "    .dataframe thead th {\n",
       "        text-align: right;\n",
       "    }\n",
       "</style>\n",
       "<table border=\"1\" class=\"dataframe\">\n",
       "  <thead>\n",
       "    <tr style=\"text-align: right;\">\n",
       "      <th></th>\n",
       "      <th>price</th>\n",
       "      <th>abtest</th>\n",
       "      <th>vehicleType</th>\n",
       "      <th>yearOfRegistration</th>\n",
       "      <th>gearbox</th>\n",
       "      <th>powerPS</th>\n",
       "      <th>model</th>\n",
       "      <th>kilometer</th>\n",
       "      <th>monthOfRegistration</th>\n",
       "      <th>fuelType</th>\n",
       "      <th>brand</th>\n",
       "      <th>notRepairedDamage</th>\n",
       "    </tr>\n",
       "  </thead>\n",
       "  <tbody>\n",
       "    <tr>\n",
       "      <th>0</th>\n",
       "      <td>480</td>\n",
       "      <td>test</td>\n",
       "      <td>NaN</td>\n",
       "      <td>1993</td>\n",
       "      <td>manuell</td>\n",
       "      <td>0</td>\n",
       "      <td>golf</td>\n",
       "      <td>150000</td>\n",
       "      <td>0</td>\n",
       "      <td>benzin</td>\n",
       "      <td>volkswagen</td>\n",
       "      <td>NaN</td>\n",
       "    </tr>\n",
       "    <tr>\n",
       "      <th>1</th>\n",
       "      <td>18300</td>\n",
       "      <td>test</td>\n",
       "      <td>coupe</td>\n",
       "      <td>2011</td>\n",
       "      <td>manuell</td>\n",
       "      <td>190</td>\n",
       "      <td>NaN</td>\n",
       "      <td>125000</td>\n",
       "      <td>5</td>\n",
       "      <td>diesel</td>\n",
       "      <td>audi</td>\n",
       "      <td>ja</td>\n",
       "    </tr>\n",
       "    <tr>\n",
       "      <th>2</th>\n",
       "      <td>9800</td>\n",
       "      <td>test</td>\n",
       "      <td>suv</td>\n",
       "      <td>2004</td>\n",
       "      <td>automatik</td>\n",
       "      <td>163</td>\n",
       "      <td>grand</td>\n",
       "      <td>125000</td>\n",
       "      <td>8</td>\n",
       "      <td>diesel</td>\n",
       "      <td>jeep</td>\n",
       "      <td>NaN</td>\n",
       "    </tr>\n",
       "    <tr>\n",
       "      <th>3</th>\n",
       "      <td>1500</td>\n",
       "      <td>test</td>\n",
       "      <td>kleinwagen</td>\n",
       "      <td>2001</td>\n",
       "      <td>manuell</td>\n",
       "      <td>75</td>\n",
       "      <td>golf</td>\n",
       "      <td>150000</td>\n",
       "      <td>6</td>\n",
       "      <td>benzin</td>\n",
       "      <td>volkswagen</td>\n",
       "      <td>nein</td>\n",
       "    </tr>\n",
       "    <tr>\n",
       "      <th>4</th>\n",
       "      <td>3600</td>\n",
       "      <td>test</td>\n",
       "      <td>kleinwagen</td>\n",
       "      <td>2008</td>\n",
       "      <td>manuell</td>\n",
       "      <td>69</td>\n",
       "      <td>fabia</td>\n",
       "      <td>90000</td>\n",
       "      <td>7</td>\n",
       "      <td>diesel</td>\n",
       "      <td>skoda</td>\n",
       "      <td>nein</td>\n",
       "    </tr>\n",
       "  </tbody>\n",
       "</table>\n",
       "</div>"
      ],
      "text/plain": [
       "   price abtest vehicleType  yearOfRegistration    gearbox  powerPS  model  \\\n",
       "0    480   test         NaN                1993    manuell        0   golf   \n",
       "1  18300   test       coupe                2011    manuell      190    NaN   \n",
       "2   9800   test         suv                2004  automatik      163  grand   \n",
       "3   1500   test  kleinwagen                2001    manuell       75   golf   \n",
       "4   3600   test  kleinwagen                2008    manuell       69  fabia   \n",
       "\n",
       "   kilometer  monthOfRegistration fuelType       brand notRepairedDamage  \n",
       "0     150000                    0   benzin  volkswagen               NaN  \n",
       "1     125000                    5   diesel        audi                ja  \n",
       "2     125000                    8   diesel        jeep               NaN  \n",
       "3     150000                    6   benzin  volkswagen              nein  \n",
       "4      90000                    7   diesel       skoda              nein  "
      ]
     },
     "execution_count": 20,
     "metadata": {},
     "output_type": "execute_result"
    }
   ],
   "source": [
    "base.head()"
   ]
  },
  {
   "cell_type": "code",
   "execution_count": 21,
   "id": "1d6479bc-a3b0-4087-8b69-acf2aeb07937",
   "metadata": {},
   "outputs": [
    {
     "data": {
      "text/plain": [
       "(12118, 12)"
      ]
     },
     "execution_count": 21,
     "metadata": {},
     "output_type": "execute_result"
    }
   ],
   "source": [
    "i1 = base.loc[base.price <= 10]\n",
    "i1.shape"
   ]
  },
  {
   "cell_type": "code",
   "execution_count": 22,
   "id": "c86b5dce-2be5-47b0-8b25-4f89e30643a7",
   "metadata": {},
   "outputs": [],
   "source": [
    "base = base[base.price > 10]"
   ]
  },
  {
   "cell_type": "code",
   "execution_count": 23,
   "id": "44fdafcc-9844-48b7-8210-296c64fa5fd6",
   "metadata": {},
   "outputs": [
    {
     "data": {
      "text/plain": [
       "(359410, 12)"
      ]
     },
     "execution_count": 23,
     "metadata": {},
     "output_type": "execute_result"
    }
   ],
   "source": [
    "base.shape"
   ]
  },
  {
   "cell_type": "code",
   "execution_count": 24,
   "id": "c931b353-483b-49a8-b2f2-75645936faa9",
   "metadata": {},
   "outputs": [
    {
     "data": {
      "text/plain": [
       "(115, 12)"
      ]
     },
     "execution_count": 24,
     "metadata": {},
     "output_type": "execute_result"
    }
   ],
   "source": [
    "i2 = base.loc[base.price > 350000]\n",
    "i2.shape"
   ]
  },
  {
   "cell_type": "code",
   "execution_count": 25,
   "id": "56fc2e89-2e26-4479-9586-911b30f0dd3e",
   "metadata": {},
   "outputs": [],
   "source": [
    "base = base[base.price < 350000]"
   ]
  },
  {
   "cell_type": "code",
   "execution_count": 26,
   "id": "1483320c-50db-42f3-b1b0-576de0786a02",
   "metadata": {},
   "outputs": [
    {
     "data": {
      "text/plain": [
       "(359291, 12)"
      ]
     },
     "execution_count": 26,
     "metadata": {},
     "output_type": "execute_result"
    }
   ],
   "source": [
    "base.shape"
   ]
  },
  {
   "cell_type": "code",
   "execution_count": 27,
   "id": "0997b602-2d3f-4c81-9699-f453c09d1b95",
   "metadata": {},
   "outputs": [
    {
     "data": {
      "text/plain": [
       "<Axes: >"
      ]
     },
     "execution_count": 27,
     "metadata": {},
     "output_type": "execute_result"
    },
    {
     "data": {
      "image/png": "[encoded data removed]",
      "text/plain": [
       "<Figure size 640x480 with 2 Axes>"
      ]
     },
     "metadata": {},
     "output_type": "display_data"
    }
   ],
   "source": [
    "sns.heatmap(base.isnull())"
   ]
  },
  {
   "cell_type": "code",
   "execution_count": 28,
   "id": "efbadcfb-461f-483f-9bbf-91151290bbc1",
   "metadata": {},
   "outputs": [
    {
     "data": {
      "text/plain": [
       "(33546, 12)"
      ]
     },
     "execution_count": 28,
     "metadata": {},
     "output_type": "execute_result"
    }
   ],
   "source": [
    "base.loc[pd.isnull(base[\"vehicleType\"])].shape"
   ]
  },
  {
   "cell_type": "code",
   "execution_count": 29,
   "id": "ed0228ed-d708-4d91-a290-96c4cab703a7",
   "metadata": {},
   "outputs": [
    {
     "data": {
      "text/plain": [
       "vehicleType\n",
       "limousine     93614\n",
       "kleinwagen    78014\n",
       "kombi         65921\n",
       "bus           29699\n",
       "cabrio        22509\n",
       "coupe         18386\n",
       "suv           14477\n",
       "andere         3125\n",
       "Name: count, dtype: int64"
      ]
     },
     "execution_count": 29,
     "metadata": {},
     "output_type": "execute_result"
    }
   ],
   "source": [
    "base[\"vehicleType\"].value_counts() #limousine"
   ]
  },
  {
   "cell_type": "code",
   "execution_count": 30,
   "id": "7a72efa7-137f-4adc-9adf-9de6ffea8541",
   "metadata": {},
   "outputs": [
    {
     "data": {
      "text/plain": [
       "(17236, 12)"
      ]
     },
     "execution_count": 30,
     "metadata": {},
     "output_type": "execute_result"
    }
   ],
   "source": [
    "base.loc[pd.isnull(base[\"gearbox\"])].shape"
   ]
  },
  {
   "cell_type": "code",
   "execution_count": 31,
   "id": "d76499c9-8aaa-4d00-879d-7e3b4b4947ac",
   "metadata": {},
   "outputs": [
    {
     "data": {
      "text/plain": [
       "gearbox\n",
       "manuell      266547\n",
       "automatik     75508\n",
       "Name: count, dtype: int64"
      ]
     },
     "execution_count": 31,
     "metadata": {},
     "output_type": "execute_result"
    }
   ],
   "source": [
    "base[\"gearbox\"].value_counts() #manuell"
   ]
  },
  {
   "cell_type": "code",
   "execution_count": 32,
   "id": "3dd592ed-eb06-468c-b1c0-1f2913c07f31",
   "metadata": {},
   "outputs": [
    {
     "data": {
      "text/plain": [
       "(17967, 12)"
      ]
     },
     "execution_count": 32,
     "metadata": {},
     "output_type": "execute_result"
    }
   ],
   "source": [
    "base.loc[pd.isnull(base[\"model\"])].shape"
   ]
  },
  {
   "cell_type": "code",
   "execution_count": 33,
   "id": "1cd93057-2f1c-45b5-a74d-dd650b0a1358",
   "metadata": {},
   "outputs": [
    {
     "data": {
      "text/plain": [
       "model\n",
       "golf               28989\n",
       "andere             25560\n",
       "3er                19905\n",
       "polo               12604\n",
       "corsa              12149\n",
       "                   ...  \n",
       "serie_2                8\n",
       "rangerover             6\n",
       "serie_3                3\n",
       "serie_1                1\n",
       "discovery_sport        1\n",
       "Name: count, Length: 251, dtype: int64"
      ]
     },
     "execution_count": 33,
     "metadata": {},
     "output_type": "execute_result"
    }
   ],
   "source": [
    "base[\"model\"].value_counts() #golf"
   ]
  },
  {
   "cell_type": "code",
   "execution_count": 34,
   "id": "014ea0bf-8f2c-4104-9b38-792e55ea998f",
   "metadata": {},
   "outputs": [
    {
     "data": {
      "text/plain": [
       "(29391, 12)"
      ]
     },
     "execution_count": 34,
     "metadata": {},
     "output_type": "execute_result"
    }
   ],
   "source": [
    "base.loc[pd.isnull(base[\"fuelType\"])].shape"
   ]
  },
  {
   "cell_type": "code",
   "execution_count": 35,
   "id": "c61f6224-4d1d-480c-bf24-a122ea494693",
   "metadata": {},
   "outputs": [
    {
     "data": {
      "text/plain": [
       "fuelType\n",
       "benzin     217582\n",
       "diesel     106002\n",
       "lpg          5222\n",
       "cng           557\n",
       "hybrid        271\n",
       "andere        165\n",
       "elektro       101\n",
       "Name: count, dtype: int64"
      ]
     },
     "execution_count": 35,
     "metadata": {},
     "output_type": "execute_result"
    }
   ],
   "source": [
    "base[\"fuelType\"].value_counts() #benzin"
   ]
  },
  {
   "cell_type": "code",
   "execution_count": 36,
   "id": "47a7392a-1125-4108-9e09-7c65bd29ab54",
   "metadata": {},
   "outputs": [
    {
     "data": {
      "text/plain": [
       "(65986, 12)"
      ]
     },
     "execution_count": 36,
     "metadata": {},
     "output_type": "execute_result"
    }
   ],
   "source": [
    "base.loc[pd.isnull(base[\"notRepairedDamage\"])].shape"
   ]
  },
  {
   "cell_type": "code",
   "execution_count": 37,
   "id": "349adf8f-9537-45a8-ab8a-5dae007272ec",
   "metadata": {},
   "outputs": [
    {
     "data": {
      "text/plain": [
       "notRepairedDamage\n",
       "nein    259301\n",
       "ja       34004\n",
       "Name: count, dtype: int64"
      ]
     },
     "execution_count": 37,
     "metadata": {},
     "output_type": "execute_result"
    }
   ],
   "source": [
    "base[\"notRepairedDamage\"].value_counts()"
   ]
  },
  {
   "cell_type": "code",
   "execution_count": 38,
   "id": "7cb14fa3-2abe-4589-bfe2-933dc7f5e48d",
   "metadata": {},
   "outputs": [],
   "source": [
    "valores = {\"vehicleType\": \"limousine\",\n",
    "           \"gearbox\": \"manuell\",\n",
    "           \"model\": \"golf\",\n",
    "           \"fuelType\": \"benzin\",\n",
    "           \"notRepairedDamage\": \"nein\"\n",
    "}"
   ]
  },
  {
   "cell_type": "code",
   "execution_count": 39,
   "id": "f7fa026c-baa9-413b-ae04-25c67c063563",
   "metadata": {},
   "outputs": [],
   "source": [
    "base = base.fillna(value = valores)"
   ]
  },
  {
   "cell_type": "code",
   "execution_count": 40,
   "id": "ce6212a0-8446-41d8-8c31-d49e6e3932bd",
   "metadata": {},
   "outputs": [
    {
     "data": {
      "text/plain": [
       "price                  0\n",
       "abtest                 0\n",
       "vehicleType            0\n",
       "yearOfRegistration     0\n",
       "gearbox                0\n",
       "powerPS                0\n",
       "model                  0\n",
       "kilometer              0\n",
       "monthOfRegistration    0\n",
       "fuelType               0\n",
       "brand                  0\n",
       "notRepairedDamage      0\n",
       "dtype: int64"
      ]
     },
     "execution_count": 40,
     "metadata": {},
     "output_type": "execute_result"
    }
   ],
   "source": [
    "base.isna().sum()"
   ]
  },
  {
   "cell_type": "code",
   "execution_count": 41,
   "id": "d32fc37f-7cd3-4c32-b72b-7a02be7ee60d",
   "metadata": {},
   "outputs": [],
   "source": [
    "preco_real = base[\"price\"]"
   ]
  },
  {
   "cell_type": "code",
   "execution_count": 42,
   "id": "06d7c9cd-af54-41f8-bf8e-93673d903b13",
   "metadata": {},
   "outputs": [],
   "source": [
    "previsores = base.drop(columns=\"price\")"
   ]
  },
  {
   "cell_type": "code",
   "execution_count": 43,
   "id": "4b82accf-0c21-415b-8580-0866b901d392",
   "metadata": {},
   "outputs": [
    {
     "data": {
      "text/plain": [
       "Index(['abtest', 'vehicleType', 'yearOfRegistration', 'gearbox', 'powerPS',\n",
       "       'model', 'kilometer', 'monthOfRegistration', 'fuelType', 'brand',\n",
       "       'notRepairedDamage'],\n",
       "      dtype='object')"
      ]
     },
     "execution_count": 43,
     "metadata": {},
     "output_type": "execute_result"
    }
   ],
   "source": [
    "previsores.columns"
   ]
  },
  {
   "cell_type": "code",
   "execution_count": 44,
   "id": "ff1d40bc-13c9-4887-a3d5-62af87df41a2",
   "metadata": {},
   "outputs": [],
   "source": [
    "onehotencoder = ColumnTransformer(transformers=[(\"OneHot\", \n",
    "                                                 OneHotEncoder(), \n",
    "                                                 [0,1,3,5,8,9,10])],\n",
    "                                                 remainder=\"passthrough\"\n",
    "                                                )"
   ]
  },
  {
   "cell_type": "code",
   "execution_count": 45,
   "id": "15110bb3-87db-40a0-ae56-88a4e2414a2b",
   "metadata": {},
   "outputs": [],
   "source": [
    "previsores = onehotencoder.fit_transform(previsores).toarray()"
   ]
  },
  {
   "cell_type": "code",
   "execution_count": 46,
   "id": "182b70c4-78f9-4925-abdd-47247871853e",
   "metadata": {},
   "outputs": [
    {
     "data": {
      "text/plain": [
       "(359291, 316)"
      ]
     },
     "execution_count": 46,
     "metadata": {},
     "output_type": "execute_result"
    }
   ],
   "source": [
    "previsores.shape"
   ]
  },
  {
   "cell_type": "code",
   "execution_count": 47,
   "id": "ca019806-72b4-411d-8b90-67960ec4eb2e",
   "metadata": {},
   "outputs": [],
   "source": [
    "previsores = torch.tensor(previsores, dtype=torch.float)\n",
    "preco_real = torch.tensor(preco_real, dtype=torch.float)"
   ]
  },
  {
   "cell_type": "markdown",
   "id": "0f6559f9-e72c-40e3-89a1-c91abaa7d4b6",
   "metadata": {},
   "source": [
    "## 3. Construção do Modelo"
   ]
  },
  {
   "cell_type": "code",
   "execution_count": 48,
   "id": "0766f80b-c760-4764-a14d-e0bc5b2d6e2d",
   "metadata": {},
   "outputs": [],
   "source": [
    "# 316 -> 158 -> 158 -> 1\n",
    "# (entrada + saida) / 2 = (316 + 1) / 2\n",
    "\n",
    "regressor = nn.Sequential(nn.Linear(316, 158),\n",
    "                          nn.ReLU(),\n",
    "                          nn.Linear(158, 158),\n",
    "                          nn.ReLU(),\n",
    "                          nn.Linear(158, 1))"
   ]
  },
  {
   "cell_type": "code",
   "execution_count": 49,
   "id": "9a682df4-22b0-41d7-8fd0-23c2d5b6a69d",
   "metadata": {},
   "outputs": [],
   "source": [
    "criterion = nn.L1Loss()"
   ]
  },
  {
   "cell_type": "code",
   "execution_count": 50,
   "id": "ed95c5fd-b107-412e-b63c-193ab37a9752",
   "metadata": {},
   "outputs": [],
   "source": [
    "optimizer = optim.Adam(regressor.parameters())"
   ]
  },
  {
   "cell_type": "code",
   "execution_count": 51,
   "id": "477f3acc-3b0f-43cc-9a60-55101e84e699",
   "metadata": {},
   "outputs": [],
   "source": [
    "dataset = torch.utils.data.TensorDataset(previsores, preco_real)\n",
    "train_loader = torch.utils.data.DataLoader(dataset, \n",
    "                                           batch_size=300, \n",
    "                                           shuffle=True, \n",
    "                                           pin_memory=False,  # MPS não suporta pin_memory=True\n",
    "                                           generator=torch.Generator(device=device))"
   ]
  },
  {
   "cell_type": "markdown",
   "id": "77d1bed4-424f-446c-ba0a-57342e5a80ff",
   "metadata": {},
   "source": [
    "## 4. Treinamento do modelo"
   ]
  },
  {
   "cell_type": "code",
   "execution_count": 52,
   "id": "0df8f482-f5e3-431f-a8a1-142c5ac7f6a4",
   "metadata": {},
   "outputs": [
    {
     "data": {
      "text/plain": [
       "Sequential(\n",
       "  (0): Linear(in_features=316, out_features=158, bias=True)\n",
       "  (1): ReLU()\n",
       "  (2): Linear(in_features=158, out_features=158, bias=True)\n",
       "  (3): ReLU()\n",
       "  (4): Linear(in_features=158, out_features=1, bias=True)\n",
       ")"
      ]
     },
     "execution_count": 52,
     "metadata": {},
     "output_type": "execute_result"
    }
   ],
   "source": [
    "regressor.to(device)"
   ]
  },
  {
   "cell_type": "code",
   "execution_count": 53,
   "id": "98e94e8e-c22e-42f3-9df4-8f47cf0cfa38",
   "metadata": {},
   "outputs": [
    {
     "name": "stderr",
     "output_type": "stream",
     "text": [
      "/Users/michelarruda/miniconda3/envs/deep-learning-deAaZ-Pytorch/lib/python3.10/site-packages/torch/utils/_device.py:106: UserWarning: Using a target size (torch.Size([300])) that is different to the input size (torch.Size([300, 1])). This will likely lead to incorrect results due to broadcasting. Please ensure they have the same size.\n",
      "  return func(*args, **kwargs)\n",
      "/Users/michelarruda/miniconda3/envs/deep-learning-deAaZ-Pytorch/lib/python3.10/site-packages/torch/utils/_device.py:106: UserWarning: Using a target size (torch.Size([191])) that is different to the input size (torch.Size([191, 1])). This will likely lead to incorrect results due to broadcasting. Please ensure they have the same size.\n",
      "  return func(*args, **kwargs)\n"
     ]
    },
    {
     "name": "stdout",
     "output_type": "stream",
     "text": [
      "Final epoch: 1 - perda: 4553.7394905408755 - MAE: 4553.7394905408755\n",
      "Final epoch: 2 - perda: 4538.101196085272 - MAE: 4538.101196085272\n",
      "Final epoch: 3 - perda: 4536.330925076951 - MAE: 4536.330925076951\n",
      "Final epoch: 4 - perda: 4535.26313590685 - MAE: 4535.26313590685\n",
      "Final epoch: 5 - perda: 4535.639290581959 - MAE: 4535.639290581959\n",
      "Final epoch: 6 - perda: 4534.4802720924845 - MAE: 4534.4802720924845\n",
      "Final epoch: 7 - perda: 4535.009093117435 - MAE: 4535.009093117435\n",
      "Final epoch: 8 - perda: 4535.053273196212 - MAE: 4535.053273196212\n",
      "Final epoch: 9 - perda: 4535.3206666873175 - MAE: 4535.3206666873175\n",
      "Final epoch: 10 - perda: 4534.3818237100895 - MAE: 4534.3818237100895\n",
      "Final epoch: 11 - perda: 4533.437450682779 - MAE: 4533.437450682779\n",
      "Final epoch: 12 - perda: 4533.5969372782765 - MAE: 4533.5969372782765\n",
      "Final epoch: 13 - perda: 4533.635632344598 - MAE: 4533.635632344598\n",
      "Final epoch: 14 - perda: 4533.200157407528 - MAE: 4533.200157407528\n",
      "Final epoch: 15 - perda: 4532.6982038749475 - MAE: 4532.6982038749475\n",
      "Final epoch: 16 - perda: 4533.582825012716 - MAE: 4533.582825012716\n",
      "Final epoch: 17 - perda: 4533.256734857575 - MAE: 4533.256734857575\n",
      "Final epoch: 18 - perda: 4533.033227579821 - MAE: 4533.033227579821\n",
      "Final epoch: 19 - perda: 4532.8904183567665 - MAE: 4532.8904183567665\n",
      "Final epoch: 20 - perda: 4533.3090693962595 - MAE: 4533.3090693962595\n",
      "Final epoch: 21 - perda: 4532.423699737192 - MAE: 4532.423699737192\n",
      "Final epoch: 22 - perda: 4532.807273597272 - MAE: 4532.807273597272\n",
      "Final epoch: 23 - perda: 4533.54376658852 - MAE: 4533.54376658852\n",
      "Final epoch: 24 - perda: 4532.390770302392 - MAE: 4532.390770302392\n",
      "Final epoch: 25 - perda: 4533.22838356897 - MAE: 4533.22838356897\n",
      "Final epoch: 26 - perda: 4532.476412714224 - MAE: 4532.476412714224\n",
      "Final epoch: 27 - perda: 4532.570251770529 - MAE: 4532.570251770529\n",
      "Final epoch: 28 - perda: 4532.50025066191 - MAE: 4532.50025066191\n",
      "Final epoch: 29 - perda: 4532.364501545545 - MAE: 4532.364501545545\n",
      "Final epoch: 30 - perda: 4532.483426356754 - MAE: 4532.483426356754\n",
      "Final epoch: 31 - perda: 4532.501604847597 - MAE: 4532.501604847597\n",
      "Final epoch: 32 - perda: 4532.175980556787 - MAE: 4532.175980556787\n",
      "Final epoch: 33 - perda: 4532.248384351524 - MAE: 4532.248384351524\n",
      "Final epoch: 34 - perda: 4532.710800349215 - MAE: 4532.710800349215\n",
      "Final epoch: 35 - perda: 4532.50385897068 - MAE: 4532.50385897068\n",
      "Final epoch: 36 - perda: 4532.200054493492 - MAE: 4532.200054493492\n",
      "Final epoch: 37 - perda: 4532.253260846528 - MAE: 4532.253260846528\n",
      "Final epoch: 38 - perda: 4531.847004936613 - MAE: 4531.847004936613\n",
      "Final epoch: 39 - perda: 4531.769329905311 - MAE: 4531.769329905311\n",
      "Final epoch: 40 - perda: 4532.739714098693 - MAE: 4532.739714098693\n",
      "Final epoch: 41 - perda: 4532.358193628378 - MAE: 4532.358193628378\n",
      "Final epoch: 42 - perda: 4531.999251274911 - MAE: 4531.999251274911\n",
      "Final epoch: 43 - perda: 4532.34932406876 - MAE: 4532.34932406876\n",
      "Final epoch: 44 - perda: 4532.1711548055355 - MAE: 4532.1711548055355\n",
      "Final epoch: 45 - perda: 4531.639129995305 - MAE: 4531.639129995305\n",
      "Final epoch: 46 - perda: 4532.225437985836 - MAE: 4532.225437985836\n",
      "Final epoch: 47 - perda: 4532.540068000704 - MAE: 4532.540068000704\n",
      "Final epoch: 48 - perda: 4532.233431247718 - MAE: 4532.233431247718\n",
      "Final epoch: 49 - perda: 4531.642867710833 - MAE: 4531.642867710833\n",
      "Final epoch: 50 - perda: 4531.320023933118 - MAE: 4531.320023933118\n",
      "Final epoch: 51 - perda: 4532.148289955916 - MAE: 4532.148289955916\n",
      "Final epoch: 52 - perda: 4531.857211359753 - MAE: 4531.857211359753\n",
      "Final epoch: 53 - perda: 4531.357249672305 - MAE: 4531.357249672305\n",
      "Final epoch: 54 - perda: 4532.019071906954 - MAE: 4532.019071906954\n",
      "Final epoch: 55 - perda: 4531.7456293122 - MAE: 4531.7456293122\n",
      "Final epoch: 56 - perda: 4532.418598665419 - MAE: 4532.418598665419\n",
      "Final epoch: 57 - perda: 4531.675147870148 - MAE: 4531.675147870148\n",
      "Final epoch: 58 - perda: 4531.682245270437 - MAE: 4531.682245270437\n",
      "Final epoch: 59 - perda: 4531.526114080108 - MAE: 4531.526114080108\n",
      "Final epoch: 60 - perda: 4531.4255428155 - MAE: 4531.4255428155\n",
      "Final epoch: 61 - perda: 4532.120200333889 - MAE: 4532.120200333889\n",
      "Final epoch: 62 - perda: 4532.016883608097 - MAE: 4532.016883608097\n",
      "Final epoch: 63 - perda: 4531.860204222206 - MAE: 4531.860204222206\n",
      "Final epoch: 64 - perda: 4531.8375472385615 - MAE: 4531.8375472385615\n",
      "Final epoch: 65 - perda: 4531.854148597272 - MAE: 4531.854148597272\n",
      "Final epoch: 66 - perda: 4531.963606947452 - MAE: 4531.963606947452\n",
      "Final epoch: 67 - perda: 4531.751700628978 - MAE: 4531.751700628978\n",
      "Final epoch: 68 - perda: 4531.846268438935 - MAE: 4531.846268438935\n",
      "Final epoch: 69 - perda: 4531.312195945065 - MAE: 4531.312195945065\n",
      "Final epoch: 70 - perda: 4531.670868480345 - MAE: 4531.670868480345\n",
      "Final epoch: 71 - perda: 4531.41196651809 - MAE: 4531.41196651809\n",
      "Final epoch: 72 - perda: 4531.76481513786 - MAE: 4531.76481513786\n",
      "Final epoch: 73 - perda: 4531.956064061847 - MAE: 4531.956064061847\n",
      "Final epoch: 74 - perda: 4531.171772493544 - MAE: 4531.171772493544\n",
      "Final epoch: 75 - perda: 4532.263204380348 - MAE: 4532.263204380348\n",
      "Final epoch: 76 - perda: 4531.4129428768 - MAE: 4531.4129428768\n",
      "Final epoch: 77 - perda: 4531.772466236044 - MAE: 4531.772466236044\n",
      "Final epoch: 78 - perda: 4531.720558026398 - MAE: 4531.720558026398\n",
      "Final epoch: 79 - perda: 4531.279073113392 - MAE: 4531.279073113392\n",
      "Final epoch: 80 - perda: 4531.629971257435 - MAE: 4531.629971257435\n",
      "Final epoch: 81 - perda: 4531.875243121674 - MAE: 4531.875243121674\n",
      "Final epoch: 82 - perda: 4532.3669299092235 - MAE: 4532.3669299092235\n",
      "Final epoch: 83 - perda: 4531.2692977064635 - MAE: 4531.2692977064635\n",
      "Final epoch: 84 - perda: 4531.503613199734 - MAE: 4531.503613199734\n",
      "Final epoch: 85 - perda: 4531.671552807739 - MAE: 4531.671552807739\n",
      "Final epoch: 86 - perda: 4531.304522226171 - MAE: 4531.304522226171\n",
      "Final epoch: 87 - perda: 4531.526930055953 - MAE: 4531.526930055953\n",
      "Final epoch: 88 - perda: 4531.766079655872 - MAE: 4531.766079655872\n",
      "Final epoch: 89 - perda: 4531.876253309552 - MAE: 4531.876253309552\n",
      "Final epoch: 90 - perda: 4531.840368509691 - MAE: 4531.840368509691\n",
      "Final epoch: 91 - perda: 4531.40158218613 - MAE: 4531.40158218613\n",
      "Final epoch: 92 - perda: 4531.517742583668 - MAE: 4531.517742583668\n",
      "Final epoch: 93 - perda: 4531.219800742122 - MAE: 4531.219800742122\n",
      "Final epoch: 94 - perda: 4531.582482237649 - MAE: 4531.582482237649\n",
      "Final epoch: 95 - perda: 4531.514798427066 - MAE: 4531.514798427066\n",
      "Final epoch: 96 - perda: 4531.200603708003 - MAE: 4531.200603708003\n",
      "Final epoch: 97 - perda: 4531.355231945821 - MAE: 4531.355231945821\n",
      "Final epoch: 98 - perda: 4531.452074665458 - MAE: 4531.452074665458\n",
      "Final epoch: 99 - perda: 4532.171077976641 - MAE: 4532.171077976641\n",
      "Final epoch: 100 - perda: 4531.412875829834 - MAE: 4531.412875829834\n"
     ]
    }
   ],
   "source": [
    "for epoch in range(100):\n",
    "    running_loss = 0.\n",
    "    running_mae = 0.\n",
    "\n",
    "    for i, data in enumerate(train_loader):\n",
    "        inputs, labels = data\n",
    "        inputs, labels = inputs.to(device), labels.to(device)\n",
    "\n",
    "        optimizer.zero_grad()\n",
    "\n",
    "        outputs = regressor.forward(inputs)\n",
    "\n",
    "        mae = F.l1_loss(outputs, labels).item()\n",
    "\n",
    "        running_mae += mae\n",
    "\n",
    "        loss = criterion(outputs, labels)\n",
    "        loss.backward()\n",
    "\n",
    "        optimizer.step()\n",
    "\n",
    "        running_loss += loss.item()\n",
    "\n",
    "        #print(f\"Epoch: {epoch + 1} - Loop {i + 1} de {len(preco_real)//300} - perda: {loss} - MAE: {mae}\")\n",
    "\n",
    "    #print(\"-\"*40)\n",
    "    print(f\"Final epoch: {epoch + 1} - perda: {running_loss/len(train_loader)} - MAE: {running_mae/len(train_loader)}\")\n",
    "    #print(\"-\"*40)"
   ]
  },
  {
   "cell_type": "markdown",
   "id": "336fed29-1656-4525-8d13-4df568a44f32",
   "metadata": {},
   "source": [
    "## 5. Avaliação do modelo"
   ]
  },
  {
   "cell_type": "code",
   "execution_count": 54,
   "id": "81369898-cac5-4be5-a4ce-6e0601d1ba12",
   "metadata": {},
   "outputs": [
    {
     "data": {
      "text/plain": [
       "tensor([[0.0000e+00, 1.0000e+00, 0.0000e+00,  ..., 0.0000e+00, 1.5000e+05,\n",
       "         0.0000e+00],\n",
       "        [0.0000e+00, 1.0000e+00, 0.0000e+00,  ..., 1.9000e+02, 1.2500e+05,\n",
       "         5.0000e+00],\n",
       "        [0.0000e+00, 1.0000e+00, 0.0000e+00,  ..., 1.6300e+02, 1.2500e+05,\n",
       "         8.0000e+00],\n",
       "        ...,\n",
       "        [0.0000e+00, 1.0000e+00, 0.0000e+00,  ..., 1.0200e+02, 1.5000e+05,\n",
       "         3.0000e+00],\n",
       "        [0.0000e+00, 1.0000e+00, 0.0000e+00,  ..., 1.0000e+02, 1.5000e+05,\n",
       "         6.0000e+00],\n",
       "        [1.0000e+00, 0.0000e+00, 0.0000e+00,  ..., 3.2000e+02, 5.0000e+04,\n",
       "         8.0000e+00]], device='mps:0')"
      ]
     },
     "execution_count": 54,
     "metadata": {},
     "output_type": "execute_result"
    }
   ],
   "source": [
    "previsoes = regressor.forward(previsores.to(device))\n",
    "previsores"
   ]
  },
  {
   "cell_type": "code",
   "execution_count": 55,
   "id": "53be072d-7a33-497b-80ee-440b7ef904a9",
   "metadata": {},
   "outputs": [
    {
     "data": {
      "text/plain": [
       "(tensor(2991.2844, device='mps:0', grad_fn=<MeanBackward0>),\n",
       " tensor(5916.8340, device='mps:0'))"
      ]
     },
     "execution_count": 55,
     "metadata": {},
     "output_type": "execute_result"
    }
   ],
   "source": [
    "previsoes.mean(), preco_real.mean()"
   ]
  },
  {
   "cell_type": "code",
   "execution_count": 56,
   "id": "0f11442c-605b-4360-a48e-03afc5023f2e",
   "metadata": {},
   "outputs": [
    {
     "data": {
      "text/plain": [
       "tensor(2925.5496, device='mps:0', grad_fn=<SubBackward0>)"
      ]
     },
     "execution_count": 56,
     "metadata": {},
     "output_type": "execute_result"
    }
   ],
   "source": [
    "preco_real.mean() - previsoes.mean() "
   ]
  },
  {
   "cell_type": "code",
   "execution_count": null,
   "id": "02e1c243-af84-4c66-82a7-5ef479767258",
   "metadata": {},
   "outputs": [],
   "source": []
  }
 ],
 "metadata": {
  "kernelspec": {
   "display_name": "Python 3 (ipykernel)",
   "language": "python",
   "name": "python3"
  },
  "language_info": {
   "codemirror_mode": {
    "name": "ipython",
    "version": 3
   },
   "file_extension": ".py",
   "mimetype": "text/x-python",
   "name": "python",
   "nbconvert_exporter": "python",
   "pygments_lexer": "ipython3",
   "version": "3.10.16"
  }
 },
 "nbformat": 4,
 "nbformat_minor": 5
}
