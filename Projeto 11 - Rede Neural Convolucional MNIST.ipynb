{
 "cells": [
  {
   "cell_type": "markdown",
   "id": "14caa8d7-7c57-43b8-9f3f-d57c89f0de3f",
   "metadata": {},
   "source": [
    "# Projeto 11 - Rede Neural Convolucional MNIST"
   ]
  },
  {
   "cell_type": "markdown",
   "id": "6da4e324-96c5-4541-a249-df0abc16db12",
   "metadata": {},
   "source": [
    "# 1. Importando bibliotecas"
   ]
  },
  {
   "cell_type": "code",
   "execution_count": 1,
   "id": "a405e0ff-4cef-45d1-8b75-3ecb684f4eec",
   "metadata": {},
   "outputs": [
    {
     "data": {
      "text/plain": [
       "'2.5.0'"
      ]
     },
     "execution_count": 1,
     "metadata": {},
     "output_type": "execute_result"
    }
   ],
   "source": [
    "import torch\n",
    "import torch.nn as nn\n",
    "from torch import optim\n",
    "import torch.nn.functional as F\n",
    "import numpy as np\n",
    "import matplotlib.pyplot as plt\n",
    "from torchvision import datasets\n",
    "import torchvision.transforms as transforms\n",
    "torch.__version__"
   ]
  },
  {
   "cell_type": "code",
   "execution_count": 2,
   "id": "7f29a36f-e684-47c5-af35-ef894fefa083",
   "metadata": {},
   "outputs": [],
   "source": [
    "torch.set_default_device(\"mps\")\n",
    "device = torch.device(\"mps\")\n",
    "\n",
    "# torch.set_default_device(\"cpu\")\n",
    "# device = torch.device(\"cpu\")"
   ]
  },
  {
   "cell_type": "code",
   "execution_count": 3,
   "id": "672e84a2-5cf2-4799-bec6-6ee0b790461f",
   "metadata": {},
   "outputs": [
    {
     "name": "stdout",
     "output_type": "stream",
     "text": [
      "True\n",
      "True\n"
     ]
    }
   ],
   "source": [
    "print(torch.backends.mps.is_available())  # Deve retornar True\n",
    "print(torch.backends.mps.is_built())  # Deve retornar True"
   ]
  },
  {
   "cell_type": "markdown",
   "id": "b53c90e9-0430-40ed-ac50-d937a939a1e1",
   "metadata": {},
   "source": [
    "## 2. Importando dados"
   ]
  },
  {
   "cell_type": "code",
   "execution_count": 6,
   "id": "bceca3f4-77b7-4882-8d45-633d410834bf",
   "metadata": {},
   "outputs": [
    {
     "data": {
      "text/plain": [
       "<torch._C.Generator at 0x1299e2390>"
      ]
     },
     "execution_count": 6,
     "metadata": {},
     "output_type": "execute_result"
    }
   ],
   "source": [
    "torch.manual_seed(123)"
   ]
  },
  {
   "cell_type": "code",
   "execution_count": 7,
   "id": "72a17c86-7180-4452-929c-ed82f10c9758",
   "metadata": {},
   "outputs": [],
   "source": [
    "transform = transforms.ToTensor()"
   ]
  },
  {
   "cell_type": "code",
   "execution_count": 8,
   "id": "4fb1ed1d-22f6-4af5-a297-f2d3730bdd4e",
   "metadata": {},
   "outputs": [
    {
     "name": "stdout",
     "output_type": "stream",
     "text": [
      "Downloading http://yann.lecun.com/exdb/mnist/train-images-idx3-ubyte.gz\n",
      "Failed to download (trying next):\n",
      "HTTP Error 404: Not Found\n",
      "\n",
      "Downloading https://ossci-datasets.s3.amazonaws.com/mnist/train-images-idx3-ubyte.gz\n",
      "Downloading https://ossci-datasets.s3.amazonaws.com/mnist/train-images-idx3-ubyte.gz to ./MNIST/raw/train-images-idx3-ubyte.gz\n"
     ]
    },
    {
     "name": "stderr",
     "output_type": "stream",
     "text": [
      "100%|██████████████████████████████████████████████████████████████████████████████████████████████████████████████| 9.91M/9.91M [00:01<00:00, 9.05MB/s]\n"
     ]
    },
    {
     "name": "stdout",
     "output_type": "stream",
     "text": [
      "Extracting ./MNIST/raw/train-images-idx3-ubyte.gz to ./MNIST/raw\n",
      "\n",
      "Downloading http://yann.lecun.com/exdb/mnist/train-labels-idx1-ubyte.gz\n",
      "Failed to download (trying next):\n",
      "HTTP Error 404: Not Found\n",
      "\n",
      "Downloading https://ossci-datasets.s3.amazonaws.com/mnist/train-labels-idx1-ubyte.gz\n",
      "Downloading https://ossci-datasets.s3.amazonaws.com/mnist/train-labels-idx1-ubyte.gz to ./MNIST/raw/train-labels-idx1-ubyte.gz\n"
     ]
    },
    {
     "name": "stderr",
     "output_type": "stream",
     "text": [
      "100%|███████████████████████████████████████████████████████████████████████████████████████████████████████████████| 28.9k/28.9k [00:00<00:00, 194kB/s]\n"
     ]
    },
    {
     "name": "stdout",
     "output_type": "stream",
     "text": [
      "Extracting ./MNIST/raw/train-labels-idx1-ubyte.gz to ./MNIST/raw\n",
      "\n",
      "Downloading http://yann.lecun.com/exdb/mnist/t10k-images-idx3-ubyte.gz\n",
      "Failed to download (trying next):\n",
      "HTTP Error 404: Not Found\n",
      "\n",
      "Downloading https://ossci-datasets.s3.amazonaws.com/mnist/t10k-images-idx3-ubyte.gz\n",
      "Downloading https://ossci-datasets.s3.amazonaws.com/mnist/t10k-images-idx3-ubyte.gz to ./MNIST/raw/t10k-images-idx3-ubyte.gz\n"
     ]
    },
    {
     "name": "stderr",
     "output_type": "stream",
     "text": [
      "100%|██████████████████████████████████████████████████████████████████████████████████████████████████████████████| 1.65M/1.65M [00:00<00:00, 1.80MB/s]\n"
     ]
    },
    {
     "name": "stdout",
     "output_type": "stream",
     "text": [
      "Extracting ./MNIST/raw/t10k-images-idx3-ubyte.gz to ./MNIST/raw\n",
      "\n",
      "Downloading http://yann.lecun.com/exdb/mnist/t10k-labels-idx1-ubyte.gz\n",
      "Failed to download (trying next):\n",
      "HTTP Error 404: Not Found\n",
      "\n",
      "Downloading https://ossci-datasets.s3.amazonaws.com/mnist/t10k-labels-idx1-ubyte.gz\n",
      "Downloading https://ossci-datasets.s3.amazonaws.com/mnist/t10k-labels-idx1-ubyte.gz to ./MNIST/raw/t10k-labels-idx1-ubyte.gz\n"
     ]
    },
    {
     "name": "stderr",
     "output_type": "stream",
     "text": [
      "100%|██████████████████████████████████████████████████████████████████████████████████████████████████████████████| 4.54k/4.54k [00:00<00:00, 1.30MB/s]"
     ]
    },
    {
     "name": "stdout",
     "output_type": "stream",
     "text": [
      "Extracting ./MNIST/raw/t10k-labels-idx1-ubyte.gz to ./MNIST/raw\n",
      "\n"
     ]
    },
    {
     "name": "stderr",
     "output_type": "stream",
     "text": [
      "\n"
     ]
    }
   ],
   "source": [
    "train = datasets.MNIST(root = '.', train = True, download = True, transform = transform)\n",
    "test = datasets.MNIST(root = '.', train = False, download = True, transform = transform)"
   ]
  },
  {
   "cell_type": "code",
   "execution_count": 14,
   "id": "c1435c69-1512-4232-8544-b4de4e654c32",
   "metadata": {},
   "outputs": [
    {
     "data": {
      "text/plain": [
       "tensor([[  0,   0,   0,   0,   0,   0,   0,   0,   0,   0,   0,   0,   0,   0,\n",
       "           0,   0,   0,   0,   0,   0,   0,   0,   0,   0,   0,   0,   0,   0],\n",
       "        [  0,   0,   0,   0,   0,   0,   0,   0,   0,   0,   0,   0,   0,   0,\n",
       "           0,   0,   0,   0,   0,   0,   0,   0,   0,   0,   0,   0,   0,   0],\n",
       "        [  0,   0,   0,   0,   0,   0,   0,   0,   0,   0,   0,   0,   0,   0,\n",
       "           0,   0,   0,   0,   0,   0,   0,   0,   0,   0,   0,   0,   0,   0],\n",
       "        [  0,   0,   0,   0,   0,   0,   0,   0,   0,   0,   0,   0,   0,   0,\n",
       "           0,   0,   0,   0,   0,   0,   0,   0,   0,   0,   0,   0,   0,   0],\n",
       "        [  0,   0,   0,   0,   0,   0,   0,   0,   0,   0,   0,   0,   0,   0,\n",
       "           0,   0,   0,   0,   0,   0,   0,   0,   0,   0,   0,   0,   0,   0],\n",
       "        [  0,   0,   0,   0,   0,   0,   0,   0,   0,   0,   0,   0,   3,  18,\n",
       "          18,  18, 126, 136, 175,  26, 166, 255, 247, 127,   0,   0,   0,   0],\n",
       "        [  0,   0,   0,   0,   0,   0,   0,   0,  30,  36,  94, 154, 170, 253,\n",
       "         253, 253, 253, 253, 225, 172, 253, 242, 195,  64,   0,   0,   0,   0],\n",
       "        [  0,   0,   0,   0,   0,   0,   0,  49, 238, 253, 253, 253, 253, 253,\n",
       "         253, 253, 253, 251,  93,  82,  82,  56,  39,   0,   0,   0,   0,   0],\n",
       "        [  0,   0,   0,   0,   0,   0,   0,  18, 219, 253, 253, 253, 253, 253,\n",
       "         198, 182, 247, 241,   0,   0,   0,   0,   0,   0,   0,   0,   0,   0],\n",
       "        [  0,   0,   0,   0,   0,   0,   0,   0,  80, 156, 107, 253, 253, 205,\n",
       "          11,   0,  43, 154,   0,   0,   0,   0,   0,   0,   0,   0,   0,   0],\n",
       "        [  0,   0,   0,   0,   0,   0,   0,   0,   0,  14,   1, 154, 253,  90,\n",
       "           0,   0,   0,   0,   0,   0,   0,   0,   0,   0,   0,   0,   0,   0],\n",
       "        [  0,   0,   0,   0,   0,   0,   0,   0,   0,   0,   0, 139, 253, 190,\n",
       "           2,   0,   0,   0,   0,   0,   0,   0,   0,   0,   0,   0,   0,   0],\n",
       "        [  0,   0,   0,   0,   0,   0,   0,   0,   0,   0,   0,  11, 190, 253,\n",
       "          70,   0,   0,   0,   0,   0,   0,   0,   0,   0,   0,   0,   0,   0],\n",
       "        [  0,   0,   0,   0,   0,   0,   0,   0,   0,   0,   0,   0,  35, 241,\n",
       "         225, 160, 108,   1,   0,   0,   0,   0,   0,   0,   0,   0,   0,   0],\n",
       "        [  0,   0,   0,   0,   0,   0,   0,   0,   0,   0,   0,   0,   0,  81,\n",
       "         240, 253, 253, 119,  25,   0,   0,   0,   0,   0,   0,   0,   0,   0],\n",
       "        [  0,   0,   0,   0,   0,   0,   0,   0,   0,   0,   0,   0,   0,   0,\n",
       "          45, 186, 253, 253, 150,  27,   0,   0,   0,   0,   0,   0,   0,   0],\n",
       "        [  0,   0,   0,   0,   0,   0,   0,   0,   0,   0,   0,   0,   0,   0,\n",
       "           0,  16,  93, 252, 253, 187,   0,   0,   0,   0,   0,   0,   0,   0],\n",
       "        [  0,   0,   0,   0,   0,   0,   0,   0,   0,   0,   0,   0,   0,   0,\n",
       "           0,   0,   0, 249, 253, 249,  64,   0,   0,   0,   0,   0,   0,   0],\n",
       "        [  0,   0,   0,   0,   0,   0,   0,   0,   0,   0,   0,   0,   0,   0,\n",
       "          46, 130, 183, 253, 253, 207,   2,   0,   0,   0,   0,   0,   0,   0],\n",
       "        [  0,   0,   0,   0,   0,   0,   0,   0,   0,   0,   0,   0,  39, 148,\n",
       "         229, 253, 253, 253, 250, 182,   0,   0,   0,   0,   0,   0,   0,   0],\n",
       "        [  0,   0,   0,   0,   0,   0,   0,   0,   0,   0,  24, 114, 221, 253,\n",
       "         253, 253, 253, 201,  78,   0,   0,   0,   0,   0,   0,   0,   0,   0],\n",
       "        [  0,   0,   0,   0,   0,   0,   0,   0,  23,  66, 213, 253, 253, 253,\n",
       "         253, 198,  81,   2,   0,   0,   0,   0,   0,   0,   0,   0,   0,   0],\n",
       "        [  0,   0,   0,   0,   0,   0,  18, 171, 219, 253, 253, 253, 253, 195,\n",
       "          80,   9,   0,   0,   0,   0,   0,   0,   0,   0,   0,   0,   0,   0],\n",
       "        [  0,   0,   0,   0,  55, 172, 226, 253, 253, 253, 253, 244, 133,  11,\n",
       "           0,   0,   0,   0,   0,   0,   0,   0,   0,   0,   0,   0,   0,   0],\n",
       "        [  0,   0,   0,   0, 136, 253, 253, 253, 212, 135, 132,  16,   0,   0,\n",
       "           0,   0,   0,   0,   0,   0,   0,   0,   0,   0,   0,   0,   0,   0],\n",
       "        [  0,   0,   0,   0,   0,   0,   0,   0,   0,   0,   0,   0,   0,   0,\n",
       "           0,   0,   0,   0,   0,   0,   0,   0,   0,   0,   0,   0,   0,   0],\n",
       "        [  0,   0,   0,   0,   0,   0,   0,   0,   0,   0,   0,   0,   0,   0,\n",
       "           0,   0,   0,   0,   0,   0,   0,   0,   0,   0,   0,   0,   0,   0],\n",
       "        [  0,   0,   0,   0,   0,   0,   0,   0,   0,   0,   0,   0,   0,   0,\n",
       "           0,   0,   0,   0,   0,   0,   0,   0,   0,   0,   0,   0,   0,   0]],\n",
       "       dtype=torch.uint8)"
      ]
     },
     "execution_count": 14,
     "metadata": {},
     "output_type": "execute_result"
    }
   ],
   "source": [
    "train.data[0]"
   ]
  },
  {
   "cell_type": "code",
   "execution_count": 15,
   "id": "dfc5c412-f4d5-467c-a043-f07b354bcb13",
   "metadata": {},
   "outputs": [
    {
     "data": {
      "text/plain": [
       "torch.Size([60000, 28, 28])"
      ]
     },
     "execution_count": 15,
     "metadata": {},
     "output_type": "execute_result"
    }
   ],
   "source": [
    "train.data.shape"
   ]
  },
  {
   "cell_type": "code",
   "execution_count": 17,
   "id": "67c2cc19-8594-4041-a45d-260ef191d27b",
   "metadata": {},
   "outputs": [
    {
     "data": {
      "text/plain": [
       "784"
      ]
     },
     "execution_count": 17,
     "metadata": {},
     "output_type": "execute_result"
    }
   ],
   "source": [
    "28 * 28"
   ]
  },
  {
   "cell_type": "code",
   "execution_count": 18,
   "id": "2cd6d680-b219-40e5-98e7-8fda671343c9",
   "metadata": {},
   "outputs": [
    {
     "data": {
      "text/plain": [
       "tensor(5)"
      ]
     },
     "execution_count": 18,
     "metadata": {},
     "output_type": "execute_result"
    }
   ],
   "source": [
    "train.targets[0]"
   ]
  },
  {
   "cell_type": "code",
   "execution_count": 19,
   "id": "3312a493-9456-46bf-92df-462d0a6b9b0b",
   "metadata": {},
   "outputs": [],
   "source": [
    "train_loader = torch.utils.data.DataLoader(train, batch_size=128)\n",
    "test_loader = torch.utils.data.DataLoader(test, batch_size=128)"
   ]
  },
  {
   "cell_type": "code",
   "execution_count": 26,
   "id": "3a820895-5042-4c24-95fd-701fa32c06cf",
   "metadata": {},
   "outputs": [
    {
     "data": {
      "text/plain": [
       "<matplotlib.image.AxesImage at 0x15c9e2dd0>"
      ]
     },
     "execution_count": 26,
     "metadata": {},
     "output_type": "execute_result"
    },
    {
     "data": {
      "image/png": "[encoded data removed]",
      "text/plain": [
       "<Figure size 640x480 with 1 Axes>"
      ]
     },
     "metadata": {},
     "output_type": "display_data"
    }
   ],
   "source": [
    "imagem = next(iter(train_loader))[0][0].view(28, 28) # (1, 1, 28, 28) -> quantas imagens, numero de filtros/canais, larg, alt\n",
    "plt.imshow(imagem, cmap='gray')"
   ]
  },
  {
   "cell_type": "code",
   "execution_count": 27,
   "id": "9750fd72-7ccb-4d2f-a4fa-73b604f0e42d",
   "metadata": {},
   "outputs": [
    {
     "data": {
      "text/plain": [
       "(array([639.,  11.,   6.,  11.,   6.,   9.,  11.,  12.,  11.,  68.]),\n",
       " array([0.        , 0.1       , 0.2       , 0.30000001, 0.40000001,\n",
       "        0.5       , 0.60000002, 0.69999999, 0.80000001, 0.90000004,\n",
       "        1.        ]),\n",
       " <BarContainer object of 10 artists>)"
      ]
     },
     "execution_count": 27,
     "metadata": {},
     "output_type": "execute_result"
    },
    {
     "data": {
      "image/png": "[encoded data removed]",
      "text/plain": [
       "<Figure size 640x480 with 1 Axes>"
      ]
     },
     "metadata": {},
     "output_type": "display_data"
    }
   ],
   "source": [
    "plt.hist(imagem.view(-1))"
   ]
  },
  {
   "cell_type": "markdown",
   "id": "3c46e122-2c8b-4520-a6f7-a0d1791774d9",
   "metadata": {},
   "source": [
    "## 3. Construção do modelo"
   ]
  },
  {
   "cell_type": "code",
   "execution_count": 40,
   "id": "226be8d3-1be9-47e2-86e4-5ac5b75f17b9",
   "metadata": {},
   "outputs": [],
   "source": [
    "class classificador(nn.Module):\n",
    "    def __init__(self):\n",
    "        super().__init__()\n",
    "\n",
    "        self.conv1 = nn.Conv2d(in_channels=1, out_channels=32, kernel_size=(3, 3)) # operador de convolucao\n",
    "        self.conv2 = nn.Conv2d(in_channels=32, out_channels=32, kernel_size=(3, 3)) # operador 2 de convolucao\n",
    "        \n",
    "        self.activation = nn.ReLU()\n",
    "        self.bnorm = nn.BatchNorm2d(num_features=32) # normalizacao dos dados em camadas ocultas\n",
    "\n",
    "        self.pool = nn.MaxPool2d(kernel_size=(2,2))\n",
    "\n",
    "        self.flatten = nn.Flatten()\n",
    "\n",
    "        # 800 -> 128\n",
    "        # output = (input - filter + 1) / (stride)\n",
    "        # convolucao 1: (28 - 3 + 1) / 1 (stride) = 26\n",
    "        # pooling 1: 13 x 13\n",
    "        # convolucao 1: (13 - 3 + 1) / 1 (stride) = 26\n",
    "        # pooling 2: 5x5\n",
    "        # 5 * 5 * 32 = imagem (5x5) * quantidade de filtros\n",
    "        # 800 -> 128 -> 128 -> 10\n",
    "        \n",
    "        self.linear1 = nn.Linear(in_features=32*5*5, out_features=128)\n",
    "        self.linear2 = nn.Linear(128, 128)\n",
    "        self.output = nn.Linear(128, 10)\n",
    "        \n",
    "        self.dropout = nn.Dropout(p=0.2)\n",
    "\n",
    "    def forward(self, X):\n",
    "        \n",
    "        X = self.pool(self.bnorm(self.activation(self.conv1(X))))\n",
    "        X = self.pool(self.bnorm(self.activation(self.conv2(X))))\n",
    "        \n",
    "        X = self.flatten(X)\n",
    "\n",
    "        X = self.dropout(self.activation(self.linear1(X)))\n",
    "        X = self.dropout(self.activation(self.linear2(X)))\n",
    "        X = self.output(X)\n",
    "\n",
    "        return X\n",
    "        "
   ]
  },
  {
   "cell_type": "code",
   "execution_count": 41,
   "id": "6776786b-d235-44dc-9744-59e2beaff11d",
   "metadata": {},
   "outputs": [],
   "source": [
    "net = classificador()\n",
    "criterion = nn.CrossEntropyLoss()\n",
    "optimizer = optim.Adam(net.parameters())"
   ]
  },
  {
   "cell_type": "markdown",
   "id": "a8d6167f-25a7-4974-82f7-e467ae7175f7",
   "metadata": {},
   "source": [
    "## 4. Treinamento do modelo"
   ]
  },
  {
   "cell_type": "code",
   "execution_count": 42,
   "id": "cf2fdd9f-6aa8-48b7-b414-cb4096d701bc",
   "metadata": {},
   "outputs": [
    {
     "data": {
      "text/plain": [
       "classificador(\n",
       "  (conv1): Conv2d(1, 32, kernel_size=(3, 3), stride=(1, 1))\n",
       "  (conv2): Conv2d(32, 32, kernel_size=(3, 3), stride=(1, 1))\n",
       "  (activation): ReLU()\n",
       "  (bnorm): BatchNorm2d(32, eps=1e-05, momentum=0.1, affine=True, track_running_stats=True)\n",
       "  (pool): MaxPool2d(kernel_size=(2, 2), stride=(2, 2), padding=0, dilation=1, ceil_mode=False)\n",
       "  (flatten): Flatten(start_dim=1, end_dim=-1)\n",
       "  (linear1): Linear(in_features=800, out_features=128, bias=True)\n",
       "  (linear2): Linear(in_features=128, out_features=128, bias=True)\n",
       "  (output): Linear(in_features=128, out_features=10, bias=True)\n",
       "  (dropout): Dropout(p=0.2, inplace=False)\n",
       ")"
      ]
     },
     "execution_count": 42,
     "metadata": {},
     "output_type": "execute_result"
    }
   ],
   "source": [
    "net.to(device)"
   ]
  },
  {
   "cell_type": "code",
   "execution_count": 45,
   "id": "cf9653fb-cfe1-4c78-9df8-f22dda1b7073",
   "metadata": {},
   "outputs": [],
   "source": [
    "def training_loop(loader, epoch):\n",
    "    running_loss = 0.\n",
    "    running_accuracy = 0.\n",
    "\n",
    "    for i, data in enumerate(loader):\n",
    "        inputs, labels = data\n",
    "        inputs, labels = inputs.to(device), labels.to(device)\n",
    "\n",
    "        optimizer.zero_grad()\n",
    "        outputs = net(inputs)\n",
    "\n",
    "        loss = criterion(outputs, labels)\n",
    "        loss.backward()\n",
    "\n",
    "        optimizer.step()\n",
    "\n",
    "        running_loss += loss.item()\n",
    "\n",
    "        ps = F.softmax(outputs)\n",
    "        top_p, top_class = ps.topk(k=1, dim=1)\n",
    "\n",
    "        equals = top_class == labels.view(*top_class.shape)\n",
    "\n",
    "        accuracy = torch.mean(equals.type(torch.float))\n",
    "        running_accuracy += accuracy\n",
    "\n",
    "        print('\\rEpoch: {:4d} - Loop {:3d} of {:3d} - Loss: {:6.4f} - Accuracy: {:6.4f}'.format(epoch + 1,\n",
    "                      i + 1,\n",
    "                      len(train_loader),\n",
    "                      loss,                                                                          \n",
    "                      accuracy), end = '\\r')\n",
    "\n",
    "    print(f\"\\rEnded Epoch {epoch + 1} - loss: {running_loss/len(loader)} - precision: {running_accuracy/len(loader)} end=\\r\")"
   ]
  },
  {
   "cell_type": "code",
   "execution_count": 46,
   "id": "d432437b-2409-4bbc-96cc-24b6ca881af0",
   "metadata": {},
   "outputs": [
    {
     "name": "stdout",
     "output_type": "stream",
     "text": [
      "Training...\n",
      "Ended Epoch 1 - loss: 0.021237887750316257 - precision: 0.9932980537414551 end=\n",
      "Validating...\n",
      "Ended Epoch 1 - loss: 0.027507785629702856 - precision: 0.9917919039726257 end=\n",
      "Training...\n",
      "Ended Epoch 2 - loss: 0.020150028962750335 - precision: 0.9934313297271729 end=\n",
      "Validating...\n",
      "Ended Epoch 2 - loss: 0.01867764360521724 - precision: 0.9946597814559937 end=\n",
      "Training...\n",
      "Ended Epoch 3 - loss: 0.01731517513168788 - precision: 0.9947139620780945 end=\n",
      "Validating...\n",
      "Ended Epoch 3 - loss: 0.016488991010145917 - precision: 0.9945608973503113 end=\n",
      "Training...\n",
      "Ended Epoch 4 - loss: 0.016871638052942173 - precision: 0.9945584535598755 end=\n",
      "Validating...\n",
      "Ended Epoch 4 - loss: 0.02252027768432365 - precision: 0.9931764006614685 end=\n",
      "Training...\n",
      "Ended Epoch 5 - loss: 0.014225678359747427 - precision: 0.9954635500907898 end=\n",
      "Validating...\n",
      "Ended Epoch 5 - loss: 0.01186210015190296 - precision: 0.9960442781448364 end=\n"
     ]
    }
   ],
   "source": [
    "for epoch in range(5):\n",
    "    print(\"Training...\")\n",
    "    training_loop(train_loader, epoch)\n",
    "    \n",
    "    print(\"Validating...\")\n",
    "    net.eval()\n",
    "    training_loop(test_loader, epoch)\n",
    "    net.train()"
   ]
  },
  {
   "cell_type": "markdown",
   "id": "dd4624e3-23e3-4bca-85f0-914da35e5c5e",
   "metadata": {},
   "source": [
    "## 5. Avaliação do modelo"
   ]
  },
  {
   "cell_type": "code",
   "execution_count": 48,
   "id": "b5ab7ce3-a0e4-46bf-9352-6538738d372d",
   "metadata": {},
   "outputs": [
    {
     "data": {
      "text/plain": [
       "<matplotlib.image.AxesImage at 0x15dc8a6e0>"
      ]
     },
     "execution_count": 48,
     "metadata": {},
     "output_type": "execute_result"
    },
    {
     "data": {
      "image/png": "[encoded data removed]",
      "text/plain": [
       "<Figure size 640x480 with 1 Axes>"
      ]
     },
     "metadata": {},
     "output_type": "display_data"
    }
   ],
   "source": [
    "imagem = next(iter(test_loader))[0][0].view(28, 28)\n",
    "plt.imshow(imagem, cmap=\"gray\")"
   ]
  },
  {
   "cell_type": "code",
   "execution_count": 49,
   "id": "d73466ec-2815-405b-81b0-8c6a80a627a2",
   "metadata": {},
   "outputs": [
    {
     "data": {
      "text/plain": [
       "torch.Size([1, 1, 28, 28])"
      ]
     },
     "execution_count": 49,
     "metadata": {},
     "output_type": "execute_result"
    }
   ],
   "source": [
    "# (1, 1, 28, 28) - Batch_size, numero de canais, altura, largura\n",
    "imagem = imagem.view(1, 1, 28, 28)\n",
    "imagem.shape"
   ]
  },
  {
   "cell_type": "code",
   "execution_count": 50,
   "id": "eac28843-899f-478b-bd1e-58872428d6e0",
   "metadata": {},
   "outputs": [
    {
     "data": {
      "text/plain": [
       "classificador(\n",
       "  (conv1): Conv2d(1, 32, kernel_size=(3, 3), stride=(1, 1))\n",
       "  (conv2): Conv2d(32, 32, kernel_size=(3, 3), stride=(1, 1))\n",
       "  (activation): ReLU()\n",
       "  (bnorm): BatchNorm2d(32, eps=1e-05, momentum=0.1, affine=True, track_running_stats=True)\n",
       "  (pool): MaxPool2d(kernel_size=(2, 2), stride=(2, 2), padding=0, dilation=1, ceil_mode=False)\n",
       "  (flatten): Flatten(start_dim=1, end_dim=-1)\n",
       "  (linear1): Linear(in_features=800, out_features=128, bias=True)\n",
       "  (linear2): Linear(in_features=128, out_features=128, bias=True)\n",
       "  (output): Linear(in_features=128, out_features=10, bias=True)\n",
       "  (dropout): Dropout(p=0.2, inplace=False)\n",
       ")"
      ]
     },
     "execution_count": 50,
     "metadata": {},
     "output_type": "execute_result"
    }
   ],
   "source": [
    "net.eval()"
   ]
  },
  {
   "cell_type": "code",
   "execution_count": 51,
   "id": "1f7db23a-694b-40dd-bef5-37eeaa2efe55",
   "metadata": {},
   "outputs": [],
   "source": [
    "imagem = imagem.to(device)"
   ]
  },
  {
   "cell_type": "code",
   "execution_count": 52,
   "id": "989c97bb-6369-4d01-9bef-ebcd1df9887c",
   "metadata": {},
   "outputs": [
    {
     "data": {
      "text/plain": [
       "tensor([[ -5.9120,  -3.8219,  -1.6265,  -3.9773,  -1.9425,  -9.2419, -11.0926,\n",
       "          12.1388,  -7.2283,  -1.9412]], device='mps:0',\n",
       "       grad_fn=<LinearBackward0>)"
      ]
     },
     "execution_count": 52,
     "metadata": {},
     "output_type": "execute_result"
    }
   ],
   "source": [
    "previsao = net.forward(imagem)\n",
    "previsao"
   ]
  },
  {
   "cell_type": "code",
   "execution_count": 53,
   "id": "e997e28d-08b3-4a18-b425-0a6f70dbe12b",
   "metadata": {},
   "outputs": [
    {
     "data": {
      "text/plain": [
       "tensor([[1.4476e-08, 1.1704e-07, 1.0515e-06, 1.0020e-07, 7.6657e-07, 5.1814e-10,\n",
       "         8.1420e-11, 1.0000e+00, 3.8810e-09, 7.6754e-07]], device='mps:0',\n",
       "       grad_fn=<SoftmaxBackward0>)"
      ]
     },
     "execution_count": 53,
     "metadata": {},
     "output_type": "execute_result"
    }
   ],
   "source": [
    "previsao = F.softmax(previsao)\n",
    "previsao"
   ]
  },
  {
   "cell_type": "code",
   "execution_count": 54,
   "id": "982d9e1f-f3dd-4d2f-821c-12038fbe1a4f",
   "metadata": {},
   "outputs": [
    {
     "data": {
      "text/plain": [
       "array([[1.44756305e-08, 1.17038397e-07, 1.05149491e-06, 1.00197930e-07,\n",
       "        7.66568633e-07, 5.18140642e-10, 8.14198292e-11, 9.99997258e-01,\n",
       "        3.88104393e-09, 7.67544464e-07]], dtype=float32)"
      ]
     },
     "execution_count": 54,
     "metadata": {},
     "output_type": "execute_result"
    }
   ],
   "source": [
    "previsao = previsao.cpu().detach().numpy()\n",
    "previsao"
   ]
  },
  {
   "cell_type": "code",
   "execution_count": 55,
   "id": "9b3e9ae8-2726-4bc0-89c3-e7ef90aca272",
   "metadata": {},
   "outputs": [
    {
     "data": {
      "text/plain": [
       "np.int64(7)"
      ]
     },
     "execution_count": 55,
     "metadata": {},
     "output_type": "execute_result"
    }
   ],
   "source": [
    "resultado = np.argmax(previsao)\n",
    "resultado"
   ]
  }
 ],
 "metadata": {
  "kernelspec": {
   "display_name": "Python 3 (ipykernel)",
   "language": "python",
   "name": "python3"
  },
  "language_info": {
   "codemirror_mode": {
    "name": "ipython",
    "version": 3
   },
   "file_extension": ".py",
   "mimetype": "text/x-python",
   "name": "python",
   "nbconvert_exporter": "python",
   "pygments_lexer": "ipython3",
   "version": "3.10.16"
  }
 },
 "nbformat": 4,
 "nbformat_minor": 5
}
