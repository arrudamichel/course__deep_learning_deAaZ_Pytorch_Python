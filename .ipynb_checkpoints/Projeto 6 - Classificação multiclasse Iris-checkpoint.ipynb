{
 "cells": [
  {
   "cell_type": "markdown",
   "id": "e3690646-77e9-4d7f-bbe3-a118e03fe0e0",
   "metadata": {},
   "source": [
    "# Projeto 6 - Classificação multiclasse Iris"
   ]
  },
  {
   "cell_type": "markdown",
   "id": "2c0568d6-8223-46c0-bc6a-6242005b114f",
   "metadata": {},
   "source": [
    "## 1. Importando bibliotecas"
   ]
  },
  {
   "cell_type": "code",
   "execution_count": 1,
   "id": "9045c421-b5c8-49bd-8b83-b2a3c5b3c9fe",
   "metadata": {},
   "outputs": [
    {
     "data": {
      "text/plain": [
       "'2.5.0'"
      ]
     },
     "execution_count": 1,
     "metadata": {},
     "output_type": "execute_result"
    }
   ],
   "source": [
    "import pandas as pd\n",
    "import numpy as np\n",
    "import seaborn as sns\n",
    "from sklearn.model_selection import train_test_split\n",
    "from sklearn.preprocessing import LabelEncoder\n",
    "import torch\n",
    "from torch import nn, optim\n",
    "import torch.nn.functional as F\n",
    "from sklearn.metrics import confusion_matrix\n",
    "torch.__version__"
   ]
  },
  {
   "cell_type": "code",
   "execution_count": 2,
   "id": "40b5d165-04d7-4f61-9ba2-8f7459dc2a78",
   "metadata": {},
   "outputs": [],
   "source": [
    "torch.set_default_device(\"mps\")\n",
    "device = torch.device(\"mps\")\n",
    "\n",
    "# torch.set_default_device(\"cpu\")\n",
    "# device = torch.device(\"cpu\")"
   ]
  },
  {
   "cell_type": "code",
   "execution_count": 3,
   "id": "15e767ce-f3b8-4dba-abb8-113c4912865e",
   "metadata": {},
   "outputs": [
    {
     "name": "stdout",
     "output_type": "stream",
     "text": [
      "True\n",
      "True\n"
     ]
    }
   ],
   "source": [
    "print(torch.backends.mps.is_available())  # Deve retornar True\n",
    "print(torch.backends.mps.is_built())  # Deve retornar True"
   ]
  },
  {
   "cell_type": "markdown",
   "id": "a3e31e81-37f8-4483-8737-c3b1458ecf0f",
   "metadata": {},
   "source": [
    "## 2. Importando dados"
   ]
  },
  {
   "cell_type": "code",
   "execution_count": 4,
   "id": "51ad6af8-9592-43a4-8628-b0d3bab7a775",
   "metadata": {},
   "outputs": [
    {
     "data": {
      "text/plain": [
       "<torch._C.Generator at 0x13476fe70>"
      ]
     },
     "execution_count": 4,
     "metadata": {},
     "output_type": "execute_result"
    }
   ],
   "source": [
    "np.random.seed(123)\n",
    "torch.manual_seed(123)"
   ]
  },
  {
   "cell_type": "code",
   "execution_count": 5,
   "id": "ad3facb1-2fb6-465e-903e-2d50efb5ad4e",
   "metadata": {},
   "outputs": [],
   "source": [
    "base = pd.read_csv('data/iris.csv')"
   ]
  },
  {
   "cell_type": "code",
   "execution_count": 6,
   "id": "08caf00d-9925-49dd-86be-e9bce9bab940",
   "metadata": {},
   "outputs": [
    {
     "data": {
      "text/html": [
       "<div>\n",
       "<style scoped>\n",
       "    .dataframe tbody tr th:only-of-type {\n",
       "        vertical-align: middle;\n",
       "    }\n",
       "\n",
       "    .dataframe tbody tr th {\n",
       "        vertical-align: top;\n",
       "    }\n",
       "\n",
       "    .dataframe thead th {\n",
       "        text-align: right;\n",
       "    }\n",
       "</style>\n",
       "<table border=\"1\" class=\"dataframe\">\n",
       "  <thead>\n",
       "    <tr style=\"text-align: right;\">\n",
       "      <th></th>\n",
       "      <th>sepal length</th>\n",
       "      <th>sepal width</th>\n",
       "      <th>petal length</th>\n",
       "      <th>petal width</th>\n",
       "      <th>class</th>\n",
       "    </tr>\n",
       "  </thead>\n",
       "  <tbody>\n",
       "    <tr>\n",
       "      <th>0</th>\n",
       "      <td>5.1</td>\n",
       "      <td>3.5</td>\n",
       "      <td>1.4</td>\n",
       "      <td>0.2</td>\n",
       "      <td>Iris-setosa</td>\n",
       "    </tr>\n",
       "    <tr>\n",
       "      <th>1</th>\n",
       "      <td>4.9</td>\n",
       "      <td>3.0</td>\n",
       "      <td>1.4</td>\n",
       "      <td>0.2</td>\n",
       "      <td>Iris-setosa</td>\n",
       "    </tr>\n",
       "    <tr>\n",
       "      <th>2</th>\n",
       "      <td>4.7</td>\n",
       "      <td>3.2</td>\n",
       "      <td>1.3</td>\n",
       "      <td>0.2</td>\n",
       "      <td>Iris-setosa</td>\n",
       "    </tr>\n",
       "    <tr>\n",
       "      <th>3</th>\n",
       "      <td>4.6</td>\n",
       "      <td>3.1</td>\n",
       "      <td>1.5</td>\n",
       "      <td>0.2</td>\n",
       "      <td>Iris-setosa</td>\n",
       "    </tr>\n",
       "    <tr>\n",
       "      <th>4</th>\n",
       "      <td>5.0</td>\n",
       "      <td>3.6</td>\n",
       "      <td>1.4</td>\n",
       "      <td>0.2</td>\n",
       "      <td>Iris-setosa</td>\n",
       "    </tr>\n",
       "  </tbody>\n",
       "</table>\n",
       "</div>"
      ],
      "text/plain": [
       "   sepal length  sepal width  petal length  petal width        class\n",
       "0           5.1          3.5           1.4          0.2  Iris-setosa\n",
       "1           4.9          3.0           1.4          0.2  Iris-setosa\n",
       "2           4.7          3.2           1.3          0.2  Iris-setosa\n",
       "3           4.6          3.1           1.5          0.2  Iris-setosa\n",
       "4           5.0          3.6           1.4          0.2  Iris-setosa"
      ]
     },
     "execution_count": 6,
     "metadata": {},
     "output_type": "execute_result"
    }
   ],
   "source": [
    "base.head()"
   ]
  },
  {
   "cell_type": "code",
   "execution_count": 7,
   "id": "9a59a7ce-80b4-4d4c-87ff-e22737e7179a",
   "metadata": {},
   "outputs": [
    {
     "data": {
      "text/plain": [
       "<Axes: xlabel='count', ylabel='class'>"
      ]
     },
     "execution_count": 7,
     "metadata": {},
     "output_type": "execute_result"
    },
    {
     "data": {
      "image/png": "[encoded data removed]",
      "text/plain": [
       "<Figure size 640x480 with 1 Axes>"
      ]
     },
     "metadata": {},
     "output_type": "display_data"
    }
   ],
   "source": [
    "sns.countplot(base['class'])"
   ]
  },
  {
   "cell_type": "code",
   "execution_count": 8,
   "id": "f9d4b239-0356-4e00-9412-1ff81456adbb",
   "metadata": {},
   "outputs": [],
   "source": [
    "previsores = base.drop(columns=['class']).copy()\n",
    "classe = base['class'].copy()"
   ]
  },
  {
   "cell_type": "code",
   "execution_count": 9,
   "id": "1cbf0e23-0ace-4b1c-8869-a11fc5b465b3",
   "metadata": {},
   "outputs": [
    {
     "data": {
      "text/html": [
       "<div>\n",
       "<style scoped>\n",
       "    .dataframe tbody tr th:only-of-type {\n",
       "        vertical-align: middle;\n",
       "    }\n",
       "\n",
       "    .dataframe tbody tr th {\n",
       "        vertical-align: top;\n",
       "    }\n",
       "\n",
       "    .dataframe thead th {\n",
       "        text-align: right;\n",
       "    }\n",
       "</style>\n",
       "<table border=\"1\" class=\"dataframe\">\n",
       "  <thead>\n",
       "    <tr style=\"text-align: right;\">\n",
       "      <th></th>\n",
       "      <th>sepal length</th>\n",
       "      <th>sepal width</th>\n",
       "      <th>petal length</th>\n",
       "      <th>petal width</th>\n",
       "    </tr>\n",
       "  </thead>\n",
       "  <tbody>\n",
       "    <tr>\n",
       "      <th>0</th>\n",
       "      <td>5.1</td>\n",
       "      <td>3.5</td>\n",
       "      <td>1.4</td>\n",
       "      <td>0.2</td>\n",
       "    </tr>\n",
       "    <tr>\n",
       "      <th>1</th>\n",
       "      <td>4.9</td>\n",
       "      <td>3.0</td>\n",
       "      <td>1.4</td>\n",
       "      <td>0.2</td>\n",
       "    </tr>\n",
       "    <tr>\n",
       "      <th>2</th>\n",
       "      <td>4.7</td>\n",
       "      <td>3.2</td>\n",
       "      <td>1.3</td>\n",
       "      <td>0.2</td>\n",
       "    </tr>\n",
       "    <tr>\n",
       "      <th>3</th>\n",
       "      <td>4.6</td>\n",
       "      <td>3.1</td>\n",
       "      <td>1.5</td>\n",
       "      <td>0.2</td>\n",
       "    </tr>\n",
       "    <tr>\n",
       "      <th>4</th>\n",
       "      <td>5.0</td>\n",
       "      <td>3.6</td>\n",
       "      <td>1.4</td>\n",
       "      <td>0.2</td>\n",
       "    </tr>\n",
       "    <tr>\n",
       "      <th>...</th>\n",
       "      <td>...</td>\n",
       "      <td>...</td>\n",
       "      <td>...</td>\n",
       "      <td>...</td>\n",
       "    </tr>\n",
       "    <tr>\n",
       "      <th>145</th>\n",
       "      <td>6.7</td>\n",
       "      <td>3.0</td>\n",
       "      <td>5.2</td>\n",
       "      <td>2.3</td>\n",
       "    </tr>\n",
       "    <tr>\n",
       "      <th>146</th>\n",
       "      <td>6.3</td>\n",
       "      <td>2.5</td>\n",
       "      <td>5.0</td>\n",
       "      <td>1.9</td>\n",
       "    </tr>\n",
       "    <tr>\n",
       "      <th>147</th>\n",
       "      <td>6.5</td>\n",
       "      <td>3.0</td>\n",
       "      <td>5.2</td>\n",
       "      <td>2.0</td>\n",
       "    </tr>\n",
       "    <tr>\n",
       "      <th>148</th>\n",
       "      <td>6.2</td>\n",
       "      <td>3.4</td>\n",
       "      <td>5.4</td>\n",
       "      <td>2.3</td>\n",
       "    </tr>\n",
       "    <tr>\n",
       "      <th>149</th>\n",
       "      <td>5.9</td>\n",
       "      <td>3.0</td>\n",
       "      <td>5.1</td>\n",
       "      <td>1.8</td>\n",
       "    </tr>\n",
       "  </tbody>\n",
       "</table>\n",
       "<p>150 rows × 4 columns</p>\n",
       "</div>"
      ],
      "text/plain": [
       "     sepal length  sepal width  petal length  petal width\n",
       "0             5.1          3.5           1.4          0.2\n",
       "1             4.9          3.0           1.4          0.2\n",
       "2             4.7          3.2           1.3          0.2\n",
       "3             4.6          3.1           1.5          0.2\n",
       "4             5.0          3.6           1.4          0.2\n",
       "..            ...          ...           ...          ...\n",
       "145           6.7          3.0           5.2          2.3\n",
       "146           6.3          2.5           5.0          1.9\n",
       "147           6.5          3.0           5.2          2.0\n",
       "148           6.2          3.4           5.4          2.3\n",
       "149           5.9          3.0           5.1          1.8\n",
       "\n",
       "[150 rows x 4 columns]"
      ]
     },
     "execution_count": 9,
     "metadata": {},
     "output_type": "execute_result"
    }
   ],
   "source": [
    "previsores"
   ]
  },
  {
   "cell_type": "code",
   "execution_count": 10,
   "id": "405d2af3-648f-48ad-8daf-7bca09f8cd62",
   "metadata": {},
   "outputs": [
    {
     "data": {
      "text/plain": [
       "0         Iris-setosa\n",
       "1         Iris-setosa\n",
       "2         Iris-setosa\n",
       "3         Iris-setosa\n",
       "4         Iris-setosa\n",
       "            ...      \n",
       "145    Iris-virginica\n",
       "146    Iris-virginica\n",
       "147    Iris-virginica\n",
       "148    Iris-virginica\n",
       "149    Iris-virginica\n",
       "Name: class, Length: 150, dtype: object"
      ]
     },
     "execution_count": 10,
     "metadata": {},
     "output_type": "execute_result"
    }
   ],
   "source": [
    "classe"
   ]
  },
  {
   "cell_type": "code",
   "execution_count": 11,
   "id": "36eb472d-bf17-435d-91a3-ebde710c9006",
   "metadata": {},
   "outputs": [
    {
     "data": {
      "text/plain": [
       "array(['Iris-setosa', 'Iris-versicolor', 'Iris-virginica'], dtype=object)"
      ]
     },
     "execution_count": 11,
     "metadata": {},
     "output_type": "execute_result"
    }
   ],
   "source": [
    "classe.unique()"
   ]
  },
  {
   "cell_type": "code",
   "execution_count": 12,
   "id": "9e228957-6d44-409f-9cc4-e24b1de45a94",
   "metadata": {},
   "outputs": [],
   "source": [
    "encoder = LabelEncoder()\n",
    "classe = encoder.fit_transform(classe)"
   ]
  },
  {
   "cell_type": "code",
   "execution_count": 13,
   "id": "6c0ab360-69c3-4655-b91e-ab379468419c",
   "metadata": {},
   "outputs": [
    {
     "data": {
      "text/plain": [
       "array([0, 1, 2])"
      ]
     },
     "execution_count": 13,
     "metadata": {},
     "output_type": "execute_result"
    }
   ],
   "source": [
    "np.unique(classe)"
   ]
  },
  {
   "cell_type": "code",
   "execution_count": 14,
   "id": "27a1f33c-d4b8-4e27-8201-15a8cccb9110",
   "metadata": {},
   "outputs": [],
   "source": [
    "previsores_treino, previsores_teste, classe_treino, classe_teste = train_test_split(previsores,\n",
    "                                                                                   classe,\n",
    "                                                                                   test_size=0.25)"
   ]
  },
  {
   "cell_type": "code",
   "execution_count": 15,
   "id": "65626398-830e-4be7-abd1-2aebd06f57ec",
   "metadata": {},
   "outputs": [
    {
     "data": {
      "text/plain": [
       "(112, 4)"
      ]
     },
     "execution_count": 15,
     "metadata": {},
     "output_type": "execute_result"
    }
   ],
   "source": [
    "previsores_treino.shape"
   ]
  },
  {
   "cell_type": "code",
   "execution_count": 16,
   "id": "13e16492-e63f-4077-86ee-b9361c9da7d9",
   "metadata": {},
   "outputs": [
    {
     "data": {
      "text/plain": [
       "pandas.core.frame.DataFrame"
      ]
     },
     "execution_count": 16,
     "metadata": {},
     "output_type": "execute_result"
    }
   ],
   "source": [
    "type(previsores_treino)"
   ]
  },
  {
   "cell_type": "code",
   "execution_count": 18,
   "id": "1fba430d-5405-4875-9aa8-185b05d37033",
   "metadata": {},
   "outputs": [],
   "source": [
    "previsores_treino = torch.tensor(np.array(previsores_treino), dtype=torch.float)\n",
    "classe_treino = torch.tensor(np.array(classe_treino), dtype=torch.long)"
   ]
  },
  {
   "cell_type": "code",
   "execution_count": 19,
   "id": "edae13ed-aec3-41ca-b690-1ccb4f8f36c6",
   "metadata": {},
   "outputs": [
    {
     "data": {
      "text/plain": [
       "tensor([0, 1, 1, 0, 2, 2, 2, 2, 2, 1, 0, 0, 2, 0, 0, 1, 1, 1, 1, 2, 1, 2, 0, 2,\n",
       "        1, 0, 0, 2, 1, 2, 2, 0, 1, 1, 2, 0, 2, 1, 1, 0, 2, 2, 0, 0, 1, 1, 2, 0,\n",
       "        0, 1, 0, 1, 2, 0, 2, 0, 0, 1, 0, 0, 1, 2, 1, 1, 1, 0, 0, 1, 2, 0, 0, 1,\n",
       "        1, 1, 2, 1, 1, 1, 2, 0, 0, 1, 2, 2, 2, 2, 0, 1, 0, 1, 1, 0, 1, 2, 1, 2,\n",
       "        2, 0, 1, 0, 2, 2, 1, 1, 2, 2, 1, 0, 1, 1, 2, 2], device='mps:0')"
      ]
     },
     "execution_count": 19,
     "metadata": {},
     "output_type": "execute_result"
    }
   ],
   "source": [
    "classe_treino"
   ]
  },
  {
   "cell_type": "markdown",
   "id": "a5df1893-226e-4586-8dd7-7ee0aaba2e78",
   "metadata": {},
   "source": [
    "## 3. Construção do modelo"
   ]
  },
  {
   "cell_type": "code",
   "execution_count": 21,
   "id": "8a99c971-ef81-47c8-8d8f-f7dbceab1f84",
   "metadata": {},
   "outputs": [],
   "source": [
    "# 4 -> 4-> 4-> 3\n",
    "# (entrada + saidas) / 2 = (4 + 3) / 2\n",
    "\n",
    "classificador = nn.Sequential(\n",
    "    nn.Linear(4, 4),\n",
    "    nn.ReLU(),\n",
    "    nn.Linear(4, 4),\n",
    "    nn.ReLU(),\n",
    "    nn.Linear(4, 3)\n",
    ")"
   ]
  },
  {
   "cell_type": "code",
   "execution_count": 22,
   "id": "5e0aa032-b078-413b-a75f-337b0b74e954",
   "metadata": {},
   "outputs": [],
   "source": [
    "criterion = nn.CrossEntropyLoss()\n",
    "optimizer = optim.Adam(classificador.parameters(),\n",
    "                       lr = 0.001,\n",
    "                       weight_decay = 0.001)"
   ]
  },
  {
   "cell_type": "code",
   "execution_count": 23,
   "id": "24155e8f-9871-4b4e-b894-0e3df43ebb5f",
   "metadata": {},
   "outputs": [],
   "source": [
    "dataset = torch.utils.data.TensorDataset(previsores_treino, classe_treino)\n",
    "train_loader = torch.utils.data.DataLoader(dataset, \n",
    "                                           batch_size=10, \n",
    "                                           shuffle=True, \n",
    "                                           pin_memory=False,  # MPS não suporta pin_memory=True\n",
    "                                           generator=torch.Generator(device=device))"
   ]
  },
  {
   "cell_type": "markdown",
   "id": "363c6d0b-5065-4bde-bc5f-ba98ce00ab56",
   "metadata": {},
   "source": [
    "## 4. Treinamento do modelo"
   ]
  },
  {
   "cell_type": "code",
   "execution_count": 26,
   "id": "1ada1f48-a235-4221-be99-e717626bc8da",
   "metadata": {},
   "outputs": [
    {
     "name": "stderr",
     "output_type": "stream",
     "text": [
      "/Users/michelarruda/miniconda3/envs/deep-learning-deAaZ-Pytorch/lib/python3.10/site-packages/torch/utils/_device.py:106: UserWarning: Implicit dimension choice for softmax has been deprecated. Change the call to include dim=X as an argument.\n",
      "  return func(*args, **kwargs)\n"
     ]
    },
    {
     "name": "stdout",
     "output_type": "stream",
     "text": [
      "Epoch: 1, loss: 1.1263112376133602, accuracy: 0.3333333432674408\n",
      "Epoch: 2, loss: 1.1089561680952709, accuracy: 0.3333333432674408\n",
      "Epoch: 3, loss: 1.1136474708716075, accuracy: 0.3333333432674408\n",
      "Epoch: 4, loss: 1.086080809434255, accuracy: 0.3333333432674408\n",
      "Epoch: 5, loss: 1.0726759632428486, accuracy: 0.3333333432674408\n",
      "Epoch: 6, loss: 1.077180340886116, accuracy: 0.30000001192092896\n",
      "Epoch: 7, loss: 1.0502939025561016, accuracy: 0.3333333432674408\n",
      "Epoch: 8, loss: 1.0587223867575328, accuracy: 0.3333333432674408\n",
      "Epoch: 9, loss: 1.0703606456518173, accuracy: 0.2916666865348816\n",
      "Epoch: 10, loss: 1.0458408494790394, accuracy: 0.2916666865348816\n",
      "Epoch: 11, loss: 1.0257234175999959, accuracy: 0.4000000059604645\n",
      "Epoch: 12, loss: 1.019995187719663, accuracy: 0.4583333432674408\n",
      "Epoch: 13, loss: 1.013313298424085, accuracy: 0.4000000059604645\n",
      "Epoch: 14, loss: 1.029752125342687, accuracy: 0.3500000238418579\n",
      "Epoch: 15, loss: 0.9947399745384852, accuracy: 0.42500004172325134\n",
      "Epoch: 16, loss: 0.9975216041008631, accuracy: 0.44166669249534607\n",
      "Epoch: 17, loss: 0.9836326390504837, accuracy: 0.42499998211860657\n",
      "Epoch: 18, loss: 0.9743784417708715, accuracy: 0.4166666567325592\n",
      "Epoch: 19, loss: 0.9503405044476191, accuracy: 0.42500004172325134\n",
      "Epoch: 20, loss: 0.9345446079969406, accuracy: 0.40833333134651184\n",
      "Epoch: 21, loss: 0.9257308294375738, accuracy: 0.5\n",
      "Epoch: 22, loss: 0.903424084186554, accuracy: 0.5583333373069763\n",
      "Epoch: 23, loss: 0.8920081208149592, accuracy: 0.824999988079071\n",
      "Epoch: 24, loss: 0.877687618136406, accuracy: 0.9333333969116211\n",
      "Epoch: 25, loss: 0.8519579221804937, accuracy: 0.925000011920929\n",
      "Epoch: 26, loss: 0.8398068249225616, accuracy: 0.9583333134651184\n",
      "Epoch: 27, loss: 0.8206955840190252, accuracy: 0.9666666984558105\n",
      "Epoch: 28, loss: 0.804244930545489, accuracy: 0.9500000476837158\n",
      "Epoch: 29, loss: 0.7857051938772202, accuracy: 0.9750000834465027\n",
      "Epoch: 30, loss: 0.7669029235839844, accuracy: 0.9583333134651184\n",
      "Epoch: 31, loss: 0.7492735534906387, accuracy: 0.9666666984558105\n",
      "Epoch: 32, loss: 0.7293569693962733, accuracy: 0.925000011920929\n",
      "Epoch: 33, loss: 0.7052130848169327, accuracy: 0.9666666984558105\n",
      "Epoch: 34, loss: 0.6893603752056757, accuracy: 0.925000011920929\n",
      "Epoch: 35, loss: 0.6724476218223572, accuracy: 0.9500000476837158\n",
      "Epoch: 36, loss: 0.6479179213444392, accuracy: 0.9583333134651184\n",
      "Epoch: 37, loss: 0.6198454921444257, accuracy: 0.9416666626930237\n",
      "Epoch: 38, loss: 0.6002328172326088, accuracy: 0.9333333373069763\n",
      "Epoch: 39, loss: 0.6010611255963644, accuracy: 0.9583333134651184\n",
      "Epoch: 40, loss: 0.5740052064259847, accuracy: 0.9583333134651184\n",
      "Epoch: 41, loss: 0.5516732384761175, accuracy: 0.9666666984558105\n",
      "Epoch: 42, loss: 0.5382645279169083, accuracy: 0.9583333134651184\n",
      "Epoch: 43, loss: 0.5197610631585121, accuracy: 0.9666666984558105\n",
      "Epoch: 44, loss: 0.504053014020125, accuracy: 0.9749999642372131\n",
      "Epoch: 45, loss: 0.4943737213810285, accuracy: 0.9583333134651184\n",
      "Epoch: 46, loss: 0.4772721181313197, accuracy: 0.9666666984558105\n",
      "Epoch: 47, loss: 0.4770747050642967, accuracy: 0.9666666984558105\n",
      "Epoch: 48, loss: 0.45507994542519253, accuracy: 0.9749999046325684\n",
      "Epoch: 49, loss: 0.4412812938292821, accuracy: 0.9750000834465027\n",
      "Epoch: 50, loss: 0.43580543746550876, accuracy: 0.9750000834465027\n",
      "Epoch: 51, loss: 0.43378636489311856, accuracy: 0.9750000834465027\n",
      "Epoch: 52, loss: 0.4168461263179779, accuracy: 0.9749999642372131\n",
      "Epoch: 53, loss: 0.4205213288466136, accuracy: 0.9749999642372131\n",
      "Epoch: 54, loss: 0.4022306700547536, accuracy: 0.9749999642372131\n",
      "Epoch: 55, loss: 0.38678885251283646, accuracy: 0.9749999046325684\n",
      "Epoch: 56, loss: 0.3894864742954572, accuracy: 0.9666666984558105\n",
      "Epoch: 57, loss: 0.3942147567868233, accuracy: 0.9333333969116211\n",
      "Epoch: 58, loss: 0.3715107912818591, accuracy: 0.9666666984558105\n",
      "Epoch: 59, loss: 0.3583880091706912, accuracy: 0.9666666984558105\n",
      "Epoch: 60, loss: 0.3502378910779953, accuracy: 0.9749999642372131\n",
      "Epoch: 61, loss: 0.3531091958284378, accuracy: 0.9833333492279053\n",
      "Epoch: 62, loss: 0.3548123799264431, accuracy: 0.9833332896232605\n",
      "Epoch: 63, loss: 0.34258226305246353, accuracy: 0.9666666388511658\n",
      "Epoch: 64, loss: 0.3300214633345604, accuracy: 0.9666666984558105\n",
      "Epoch: 65, loss: 0.3312961819271247, accuracy: 0.9666666984558105\n",
      "Epoch: 66, loss: 0.31918464601039886, accuracy: 0.9833332896232605\n",
      "Epoch: 67, loss: 0.2961963638663292, accuracy: 0.9749999642372131\n",
      "Epoch: 68, loss: 0.28733146004378796, accuracy: 0.9833333492279053\n",
      "Epoch: 69, loss: 0.29375942175587016, accuracy: 0.9833333492279053\n",
      "Epoch: 70, loss: 0.30217643082141876, accuracy: 0.9833333492279053\n",
      "Epoch: 71, loss: 0.28086548919479054, accuracy: 0.9833333492279053\n",
      "Epoch: 72, loss: 0.2827659820516904, accuracy: 0.9833333492279053\n",
      "Epoch: 73, loss: 0.27051683763662976, accuracy: 0.9833333492279053\n",
      "Epoch: 74, loss: 0.2788292393088341, accuracy: 0.9833333492279053\n",
      "Epoch: 75, loss: 0.25370420950154465, accuracy: 0.9749999046325684\n",
      "Epoch: 76, loss: 0.25693418209751445, accuracy: 0.9833333492279053\n",
      "Epoch: 77, loss: 0.2586437501013279, accuracy: 0.9833333492279053\n",
      "Epoch: 78, loss: 0.24958361933628717, accuracy: 0.9833333492279053\n",
      "Epoch: 79, loss: 0.25257955739895505, accuracy: 0.9750000834465027\n",
      "Epoch: 80, loss: 0.24733891462286314, accuracy: 0.9833332896232605\n",
      "Epoch: 81, loss: 0.23854953236877918, accuracy: 0.9750000834465027\n",
      "Epoch: 82, loss: 0.2357361043492953, accuracy: 0.9833332896232605\n",
      "Epoch: 83, loss: 0.2468185741454363, accuracy: 0.9833333492279053\n",
      "Epoch: 84, loss: 0.22534257918596268, accuracy: 0.9916666150093079\n",
      "Epoch: 85, loss: 0.21663740401466688, accuracy: 0.9749999642372131\n",
      "Epoch: 86, loss: 0.2383213738600413, accuracy: 0.9833333492279053\n",
      "Epoch: 87, loss: 0.21450516457358995, accuracy: 0.9833333492279053\n",
      "Epoch: 88, loss: 0.2177372140189012, accuracy: 0.9833333492279053\n",
      "Epoch: 89, loss: 0.2365844907859961, accuracy: 0.9416666030883789\n",
      "Epoch: 90, loss: 0.19986012515922388, accuracy: 0.9833332896232605\n",
      "Epoch: 91, loss: 0.20254569749037424, accuracy: 0.9833332896232605\n",
      "Epoch: 92, loss: 0.18986334403355917, accuracy: 0.9833333492279053\n",
      "Epoch: 93, loss: 0.18174016677464047, accuracy: 0.9833333492279053\n",
      "Epoch: 94, loss: 0.19275197945535183, accuracy: 0.9833333492279053\n",
      "Epoch: 95, loss: 0.18308205095430216, accuracy: 0.9833333492279053\n",
      "Epoch: 96, loss: 0.17330641454706588, accuracy: 0.9833332896232605\n",
      "Epoch: 97, loss: 0.19410248349110285, accuracy: 0.9833333492279053\n",
      "Epoch: 98, loss: 0.19577165879309177, accuracy: 0.9416666030883789\n",
      "Epoch: 99, loss: 0.17682632617652416, accuracy: 0.9833332896232605\n",
      "Epoch: 100, loss: 0.18260908437271914, accuracy: 0.9749999642372131\n"
     ]
    }
   ],
   "source": [
    "for epoch in range(100):\n",
    "    running_loss = 0.\n",
    "    running_accuracy = 0.\n",
    "\n",
    "    for data in train_loader:\n",
    "        inputs, labels = data\n",
    "        inputs, labels = inputs.to(device), labels.to(device)\n",
    "\n",
    "        optimizer.zero_grad()\n",
    "\n",
    "        outputs = classificador.forward(inputs)\n",
    "        loss = criterion(outputs, labels)\n",
    "        loss.backward()\n",
    "\n",
    "        outputs = F.softmax(outputs)\n",
    "        top_p, top_class = outputs.topk(k=1, dim=1) # k=1 -> maior valor, dim=1 -> retorna a classe\n",
    "\n",
    "        equals = top_class == labels.view(*top_class.shape) # Retorna True ou False -> comparativo entre predito e real\n",
    "\n",
    "        running_accuracy += torch.mean(equals.type(torch.float))\n",
    "\n",
    "        optimizer.step()\n",
    "\n",
    "        running_loss += loss.item()\n",
    "\n",
    "    print(f\"Epoch: {epoch + 1}, loss: {running_loss/len(train_loader)}, accuracy: {running_accuracy/len(train_loader)}\")"
   ]
  },
  {
   "cell_type": "markdown",
   "id": "e77b6319-7843-439d-93c0-9cfd24dd25f7",
   "metadata": {},
   "source": [
    "## 5. Avaliação do modelo"
   ]
  },
  {
   "cell_type": "code",
   "execution_count": 27,
   "id": "c1419ed2-f756-4194-a285-a4133717ba47",
   "metadata": {},
   "outputs": [
    {
     "data": {
      "text/plain": [
       "Sequential(\n",
       "  (0): Linear(in_features=4, out_features=4, bias=True)\n",
       "  (1): ReLU()\n",
       "  (2): Linear(in_features=4, out_features=4, bias=True)\n",
       "  (3): ReLU()\n",
       "  (4): Linear(in_features=4, out_features=3, bias=True)\n",
       ")"
      ]
     },
     "execution_count": 27,
     "metadata": {},
     "output_type": "execute_result"
    }
   ],
   "source": [
    "classificador.eval()"
   ]
  },
  {
   "cell_type": "code",
   "execution_count": 29,
   "id": "e492a777-3746-46bf-92f7-3a03b8eb67ec",
   "metadata": {},
   "outputs": [
    {
     "data": {
      "text/plain": [
       "pandas.core.frame.DataFrame"
      ]
     },
     "execution_count": 29,
     "metadata": {},
     "output_type": "execute_result"
    }
   ],
   "source": [
    "type(previsores_teste)"
   ]
  },
  {
   "cell_type": "code",
   "execution_count": 30,
   "id": "6182a514-9bee-4c4c-b643-c0aaaade1c3d",
   "metadata": {},
   "outputs": [],
   "source": [
    "previsores_teste = torch.tensor(np.array(previsores_teste), dtype=torch.float)"
   ]
  },
  {
   "cell_type": "code",
   "execution_count": 31,
   "id": "88968f74-71f4-4927-b6b5-83f1be6da094",
   "metadata": {},
   "outputs": [
    {
     "data": {
      "text/plain": [
       "tensor([[-6.0684,  1.7581,  2.0304],\n",
       "        [-8.1622,  1.9086,  3.6956],\n",
       "        [-9.0335,  1.8574,  4.5773],\n",
       "        [-3.0387,  1.5654, -0.3528],\n",
       "        [ 4.9045,  1.1689, -6.7585],\n",
       "        [-5.9240,  1.7040,  2.0287],\n",
       "        [-4.9176,  1.6764,  1.1104],\n",
       "        [ 4.8401,  1.1438, -6.6681],\n",
       "        [ 4.6314,  1.0773, -6.3569],\n",
       "        [-3.9881,  1.5926,  0.4457],\n",
       "        [-7.9403,  1.8434,  3.6087],\n",
       "        [ 5.8160,  1.4254, -7.9121],\n",
       "        [-3.5781,  1.4578,  0.3177],\n",
       "        [-7.1600,  1.8902,  2.8216],\n",
       "        [-9.8992,  2.1160,  4.8983],\n",
       "        [-9.0045,  1.9143,  4.4618],\n",
       "        [ 5.2775,  1.2629, -7.1724],\n",
       "        [ 4.7190,  1.1125, -6.5397],\n",
       "        [-4.6215,  1.7228,  0.8002],\n",
       "        [ 4.5998,  1.0909, -6.4152],\n",
       "        [ 5.1495,  1.2280, -7.0189],\n",
       "        [-5.8456,  1.8065,  1.7612],\n",
       "        [ 4.9962,  1.2144, -6.9580],\n",
       "        [-6.1016,  1.7343,  2.1357],\n",
       "        [ 5.4678,  1.3197, -7.4309],\n",
       "        [ 5.0178,  1.2350, -7.0479],\n",
       "        [ 4.8591,  1.1850, -6.8283],\n",
       "        [-7.1259,  1.6458,  3.2237],\n",
       "        [-9.0905,  2.2635,  3.9530],\n",
       "        [ 5.2708,  1.2651, -7.1956],\n",
       "        [-8.9470,  2.0952,  4.0625],\n",
       "        [-6.8029,  1.7223,  2.7526],\n",
       "        [ 4.8846,  1.1617, -6.7269],\n",
       "        [ 5.2163,  1.2468, -7.1078],\n",
       "        [-3.4094,  1.5842, -0.1038],\n",
       "        [-1.9657,  1.3373, -0.9626],\n",
       "        [-7.9141,  2.2517,  2.8954],\n",
       "        [ 5.3690,  1.3081, -7.3703]], device='mps:0',\n",
       "       grad_fn=<LinearBackward0>)"
      ]
     },
     "execution_count": 31,
     "metadata": {},
     "output_type": "execute_result"
    }
   ],
   "source": [
    "previsoes = classificador(previsores_teste)\n",
    "previsoes"
   ]
  },
  {
   "cell_type": "code",
   "execution_count": 32,
   "id": "1d4f081b-0f39-4b0f-887b-0cc25f7c10dc",
   "metadata": {},
   "outputs": [
    {
     "name": "stderr",
     "output_type": "stream",
     "text": [
      "/Users/michelarruda/miniconda3/envs/deep-learning-deAaZ-Pytorch/lib/python3.10/site-packages/torch/utils/_device.py:106: UserWarning: Implicit dimension choice for softmax has been deprecated. Change the call to include dim=X as an argument.\n",
      "  return func(*args, **kwargs)\n"
     ]
    },
    {
     "data": {
      "text/plain": [
       "tensor([[1.7248e-04, 4.3225e-01, 5.6757e-01],\n",
       "        [6.0669e-06, 1.4343e-01, 8.5656e-01],\n",
       "        [1.1513e-06, 6.1807e-02, 9.3819e-01],\n",
       "        [8.6527e-03, 8.6440e-01, 1.2694e-01],\n",
       "        [9.7669e-01, 2.3301e-02, 8.4052e-06],\n",
       "        [2.0411e-04, 4.1944e-01, 5.8036e-01],\n",
       "        [8.7223e-04, 6.3728e-01, 3.6185e-01],\n",
       "        [9.7578e-01, 2.4215e-02, 9.8041e-06],\n",
       "        [9.7217e-01, 2.7811e-02, 1.6429e-05],\n",
       "        [2.8531e-03, 7.5678e-01, 2.4037e-01],\n",
       "        [8.2365e-06, 1.4613e-01, 8.5386e-01],\n",
       "        [9.8776e-01, 1.2241e-02, 1.0779e-06],\n",
       "        [4.9010e-03, 7.5400e-01, 2.4110e-01],\n",
       "        [3.3173e-05, 2.8262e-01, 7.1735e-01],\n",
       "        [3.5273e-07, 5.8285e-02, 9.4171e-01],\n",
       "        [1.3150e-06, 7.2588e-02, 9.2741e-01],\n",
       "        [9.8226e-01, 1.7731e-02, 3.8488e-06],\n",
       "        [9.7356e-01, 2.6428e-02, 1.2554e-05],\n",
       "        [1.2555e-03, 7.1469e-01, 2.8406e-01],\n",
       "        [9.7093e-01, 2.9058e-02, 1.5974e-05],\n",
       "        [9.8057e-01, 1.9426e-02, 5.0907e-06],\n",
       "        [2.4285e-04, 5.1120e-01, 4.8856e-01],\n",
       "        [9.7772e-01, 2.2274e-02, 6.2885e-06],\n",
       "        [1.5848e-04, 4.0091e-01, 5.9893e-01],\n",
       "        [9.8445e-01, 1.5548e-02, 2.4624e-06],\n",
       "        [9.7774e-01, 2.2253e-02, 5.6253e-06],\n",
       "        [9.7525e-01, 2.4745e-02, 8.1912e-06],\n",
       "        [2.6529e-05, 1.7109e-01, 8.2888e-01],\n",
       "        [1.8269e-06, 1.5584e-01, 8.4415e-01],\n",
       "        [9.8211e-01, 1.7886e-02, 3.7850e-06],\n",
       "        [1.9644e-06, 1.2269e-01, 8.7731e-01],\n",
       "        [5.2185e-05, 2.6301e-01, 7.3694e-01],\n",
       "        [9.7640e-01, 2.3592e-02, 8.8471e-06],\n",
       "        [9.8146e-01, 1.8533e-02, 4.3610e-06],\n",
       "        [5.6905e-03, 8.3916e-01, 1.5515e-01],\n",
       "        [3.2341e-02, 8.7947e-01, 8.8186e-02],\n",
       "        [1.3246e-05, 3.4440e-01, 6.5559e-01],\n",
       "        [9.8306e-01, 1.6941e-02, 2.8836e-06]], device='mps:0',\n",
       "       grad_fn=<SoftmaxBackward0>)"
      ]
     },
     "execution_count": 32,
     "metadata": {},
     "output_type": "execute_result"
    }
   ],
   "source": [
    "F.softmax(previsoes)"
   ]
  },
  {
   "cell_type": "code",
   "execution_count": 34,
   "id": "af30a216-6e3c-4833-877d-fab06efad1fd",
   "metadata": {},
   "outputs": [],
   "source": [
    "previsoes = [np.argmax(t) for t in previsoes.detach().cpu().numpy()]"
   ]
  },
  {
   "cell_type": "code",
   "execution_count": 35,
   "id": "8110b3cf-6786-4556-8624-a51c7e430a51",
   "metadata": {},
   "outputs": [
    {
     "data": {
      "text/plain": [
       "[np.int64(2),\n",
       " np.int64(2),\n",
       " np.int64(2),\n",
       " np.int64(1),\n",
       " np.int64(0),\n",
       " np.int64(2),\n",
       " np.int64(1),\n",
       " np.int64(0),\n",
       " np.int64(0),\n",
       " np.int64(1),\n",
       " np.int64(2),\n",
       " np.int64(0),\n",
       " np.int64(1),\n",
       " np.int64(2),\n",
       " np.int64(2),\n",
       " np.int64(2),\n",
       " np.int64(0),\n",
       " np.int64(0),\n",
       " np.int64(1),\n",
       " np.int64(0),\n",
       " np.int64(0),\n",
       " np.int64(1),\n",
       " np.int64(0),\n",
       " np.int64(2),\n",
       " np.int64(0),\n",
       " np.int64(0),\n",
       " np.int64(0),\n",
       " np.int64(2),\n",
       " np.int64(2),\n",
       " np.int64(0),\n",
       " np.int64(2),\n",
       " np.int64(2),\n",
       " np.int64(0),\n",
       " np.int64(0),\n",
       " np.int64(1),\n",
       " np.int64(1),\n",
       " np.int64(2),\n",
       " np.int64(0)]"
      ]
     },
     "execution_count": 35,
     "metadata": {},
     "output_type": "execute_result"
    }
   ],
   "source": [
    "previsoes"
   ]
  },
  {
   "cell_type": "code",
   "execution_count": 37,
   "id": "8238f6e6-d8d7-4d00-b025-86aaa042e4cc",
   "metadata": {},
   "outputs": [],
   "source": [
    "matriz = confusion_matrix(previsoes, classe_teste)"
   ]
  },
  {
   "cell_type": "code",
   "execution_count": 38,
   "id": "a091e020-98d4-4819-85b5-2c30e27b1b8e",
   "metadata": {},
   "outputs": [
    {
     "data": {
      "text/plain": [
       "<Axes: >"
      ]
     },
     "execution_count": 38,
     "metadata": {},
     "output_type": "execute_result"
    },
    {
     "data": {
      "image/png": "[encoded data removed]",
      "text/plain": [
       "<Figure size 640x480 with 2 Axes>"
      ]
     },
     "metadata": {},
     "output_type": "display_data"
    }
   ],
   "source": [
    "sns.heatmap(matriz, annot=True)"
   ]
  }
 ],
 "metadata": {
  "kernelspec": {
   "display_name": "Python 3 (ipykernel)",
   "language": "python",
   "name": "python3"
  },
  "language_info": {
   "codemirror_mode": {
    "name": "ipython",
    "version": 3
   },
   "file_extension": ".py",
   "mimetype": "text/x-python",
   "name": "python",
   "nbconvert_exporter": "python",
   "pygments_lexer": "ipython3",
   "version": "3.10.16"
  }
 },
 "nbformat": 4,
 "nbformat_minor": 5
}
