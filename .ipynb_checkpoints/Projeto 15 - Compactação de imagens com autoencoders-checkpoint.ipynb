{
 "cells": [
  {
   "cell_type": "markdown",
   "id": "05c4e4d1-7b6b-460a-afef-27e397822781",
   "metadata": {},
   "source": [
    "# Projeto 15 - Compactação de imagens com autoencoders"
   ]
  },
  {
   "cell_type": "markdown",
   "id": "9ed107b0-ff3f-4cab-9906-7d21cf41426e",
   "metadata": {},
   "source": [
    "## 1. Importando bibliotecas"
   ]
  },
  {
   "cell_type": "code",
   "execution_count": 1,
   "id": "7bb945b6-d80b-4104-b855-b8ee9df43dd6",
   "metadata": {},
   "outputs": [],
   "source": [
    "from torchvision import datasets, transforms\n",
    "import torch\n",
    "from torch import nn, optim\n",
    "import matplotlib.pyplot as plt\n"
   ]
  },
  {
   "cell_type": "code",
   "execution_count": 2,
   "id": "127d9767-0d71-4c6e-ad28-69077bba8d88",
   "metadata": {},
   "outputs": [],
   "source": [
    "torch.set_default_device(\"mps\")\n",
    "device = torch.device(\"mps\")\n",
    "\n",
    "# torch.set_default_device(\"cpu\")\n",
    "# device = torch.device(\"cpu\")"
   ]
  },
  {
   "cell_type": "code",
   "execution_count": 3,
   "id": "0b54783e-d9f8-45a0-86a6-d80f53374af7",
   "metadata": {},
   "outputs": [
    {
     "name": "stdout",
     "output_type": "stream",
     "text": [
      "True\n",
      "True\n"
     ]
    }
   ],
   "source": [
    "print(torch.backends.mps.is_available())  # Deve retornar True\n",
    "print(torch.backends.mps.is_built())  # Deve retornar True"
   ]
  },
  {
   "cell_type": "markdown",
   "id": "300031cd-20df-418d-bd10-d5198d7fd523",
   "metadata": {},
   "source": [
    "## 2. Importando dados"
   ]
  },
  {
   "cell_type": "code",
   "execution_count": 4,
   "id": "e8a4c899-7e48-4764-82bd-d1d219d50547",
   "metadata": {},
   "outputs": [
    {
     "data": {
      "text/plain": [
       "<torch._C.Generator at 0x105f6a490>"
      ]
     },
     "execution_count": 4,
     "metadata": {},
     "output_type": "execute_result"
    }
   ],
   "source": [
    "torch.manual_seed(123)"
   ]
  },
  {
   "cell_type": "code",
   "execution_count": 5,
   "id": "78f7d329-3aa0-46cc-bfd7-e87c39695d31",
   "metadata": {},
   "outputs": [],
   "source": [
    "dataset_train = datasets.MNIST('MNIST-data', train=True, download=True, transform=transforms.ToTensor())\n",
    "loader_train = torch.utils.data.DataLoader(dataset_train, batch_size=256, shuffle=True, \n",
    "                                            pin_memory=False,  # MPS não suporta pin_memory=True\n",
    "                                           generator=torch.Generator(device=device))"
   ]
  },
  {
   "cell_type": "code",
   "execution_count": 6,
   "id": "a1192f8c-adca-45be-9d68-a86903ab1433",
   "metadata": {},
   "outputs": [],
   "source": [
    "dataset_val = datasets.MNIST('MNIST-data', train=False, download=True, transform=transforms.ToTensor())\n",
    "loader_val = torch.utils.data.DataLoader(dataset_val, batch_size=256, shuffle=True, \n",
    "                                         pin_memory=False,  # MPS não suporta pin_memory=True\n",
    "                                         generator=torch.Generator(device=device))"
   ]
  },
  {
   "cell_type": "markdown",
   "id": "2e554970-4436-4611-80ff-e4c4f7387406",
   "metadata": {},
   "source": [
    "## 3. Construção do autoencoder"
   ]
  },
  {
   "cell_type": "code",
   "execution_count": 7,
   "id": "0c198be5-1cb2-4833-bccd-bbf5000f30f2",
   "metadata": {},
   "outputs": [],
   "source": [
    "class autoencoder(nn.Module):\n",
    "    def __init__(self):\n",
    "        super().__init__()\n",
    "        self.dense0 = nn.Linear(in_features=784, out_features=32)\n",
    "        self.activation0 = nn.ReLU()\n",
    "        self.dense1 = nn.Linear(32, 784)\n",
    "        self.activation1 = nn.Sigmoid()\n",
    "\n",
    "    def forward(self, X):\n",
    "        X = X.view(-1, 28 * 28)\n",
    "        X = self.dense0(X)\n",
    "        X = self.activation0(X)\n",
    "        X = self.dense1(X)\n",
    "        X = self.activation1(X)\n",
    "        return X"
   ]
  },
  {
   "cell_type": "code",
   "execution_count": 9,
   "id": "148db2fe-0c30-4abd-a10f-6f77cad84283",
   "metadata": {},
   "outputs": [
    {
     "data": {
      "text/plain": [
       "autoencoder(\n",
       "  (dense0): Linear(in_features=784, out_features=32, bias=True)\n",
       "  (activation0): ReLU()\n",
       "  (dense1): Linear(in_features=32, out_features=784, bias=True)\n",
       "  (activation1): Sigmoid()\n",
       ")"
      ]
     },
     "execution_count": 9,
     "metadata": {},
     "output_type": "execute_result"
    }
   ],
   "source": [
    "model = autoencoder()\n",
    "model.to(device)"
   ]
  },
  {
   "cell_type": "code",
   "execution_count": 11,
   "id": "c69f7381-a8a0-4d90-9c94-5dee0578e322",
   "metadata": {},
   "outputs": [],
   "source": [
    "criterion = nn.BCELoss()\n",
    "optimizer = optim.Adam(model.parameters())"
   ]
  },
  {
   "cell_type": "markdown",
   "id": "9af29301-0bb2-4fe9-a846-4e9abc8ec908",
   "metadata": {},
   "source": [
    "## 4. Treinamento"
   ]
  },
  {
   "cell_type": "code",
   "execution_count": 13,
   "id": "ec7c51de-1f2b-4289-9b75-ce519d198fcb",
   "metadata": {},
   "outputs": [
    {
     "name": "stdout",
     "output_type": "stream",
     "text": [
      "Epoch 1 - train loss: 0.17446792810521228 - val loss: 0.1574536170810461\n",
      "Epoch 2 - train loss: 0.14956066602088036 - val loss: 0.13998787403106688\n",
      "Epoch 3 - train loss: 0.13592371186043353 - val loss: 0.1291106989607215\n",
      "Epoch 4 - train loss: 0.12744243728353621 - val loss: 0.12251872792840005\n",
      "Epoch 5 - train loss: 0.12143568187317949 - val loss: 0.1173459718003869\n",
      "Epoch 6 - train loss: 0.11601880202268032 - val loss: 0.11313374396413564\n",
      "Epoch 7 - train loss: 0.11249192626552379 - val loss: 0.11004816442728042\n",
      "Epoch 8 - train loss: 0.11021534851256837 - val loss: 0.10781172551214695\n",
      "Epoch 9 - train loss: 0.10859472494810185 - val loss: 0.10678742658346892\n",
      "Epoch 10 - train loss: 0.10740205401435811 - val loss: 0.1054233469069004\n"
     ]
    }
   ],
   "source": [
    "for epoch in range(10):\n",
    "    running_loss_train = 0.\n",
    "\n",
    "    for data in loader_train:\n",
    "        model.train()\n",
    "        inputs, _ = data\n",
    "        inputs = inputs.to(device)\n",
    "        optimizer.zero_grad()\n",
    "        outputs = model.forward(inputs)\n",
    "        loss = criterion(outputs, inputs.view(*outputs.shape))\n",
    "        loss.backward()\n",
    "        optimizer.step()\n",
    "        running_loss_train += loss.item()\n",
    "\n",
    "    running_loss_val = 0.\n",
    "    for data in loader_val:\n",
    "        model.eval()\n",
    "        inputs, _ = data\n",
    "        inputs = inputs.to(device)\n",
    "        outputs = model.forward(inputs)\n",
    "        loss = criterion(outputs, inputs.view(*outputs.shape))\n",
    "        running_loss_val += loss.item()\n",
    "\n",
    "    print(f\"\\rEpoch {epoch + 1} - train loss: {running_loss_train/len(loader_train)} - val loss: {running_loss_val/len(loader_val)}\")\n"
   ]
  },
  {
   "cell_type": "markdown",
   "id": "4169a303-3c03-4861-bd2d-eb6f2ad7a624",
   "metadata": {},
   "source": [
    "## 5. Gerador de encoder"
   ]
  },
  {
   "cell_type": "code",
   "execution_count": 14,
   "id": "b99d85d2-7035-4afe-a134-54ed1a32f0e0",
   "metadata": {},
   "outputs": [
    {
     "data": {
      "text/plain": [
       "[Linear(in_features=784, out_features=32, bias=True),\n",
       " ReLU(),\n",
       " Linear(in_features=32, out_features=784, bias=True),\n",
       " Sigmoid()]"
      ]
     },
     "execution_count": 14,
     "metadata": {},
     "output_type": "execute_result"
    }
   ],
   "source": [
    "list(model.children())"
   ]
  },
  {
   "cell_type": "code",
   "execution_count": 15,
   "id": "1e5cdc1c-61e0-4fa7-be8d-23433e2a678d",
   "metadata": {},
   "outputs": [],
   "source": [
    "class encoder(nn.Module):\n",
    "    def __init__(self):\n",
    "        super().__init__()\n",
    "        self.dense0 = list(model.children())[0]\n",
    "        self.activation0 = list(model.children())[1]\n",
    "\n",
    "    def forward(self, X):\n",
    "        X = X.view(-1, 28 * 28)\n",
    "        X = self.dense0(X)\n",
    "        X = self.activation0(X)\n",
    "        return X"
   ]
  },
  {
   "cell_type": "code",
   "execution_count": 16,
   "id": "5a826104-a336-4b57-b3d4-9f089d43330e",
   "metadata": {},
   "outputs": [
    {
     "data": {
      "text/plain": [
       "encoder(\n",
       "  (dense0): Linear(in_features=784, out_features=32, bias=True)\n",
       "  (activation0): ReLU()\n",
       ")"
      ]
     },
     "execution_count": 16,
     "metadata": {},
     "output_type": "execute_result"
    }
   ],
   "source": [
    "model1 = encoder()\n",
    "model1.to(device)"
   ]
  },
  {
   "cell_type": "markdown",
   "id": "54757f24-8e4d-4d5e-9aaa-8c452bd6159a",
   "metadata": {},
   "source": [
    "## 6. Gerador de decoder"
   ]
  },
  {
   "cell_type": "code",
   "execution_count": 17,
   "id": "bcd9b0d5-52f8-4f3e-8d77-2df08c089ba0",
   "metadata": {},
   "outputs": [],
   "source": [
    "class decoder(nn.Module):\n",
    "    def __init__(self):\n",
    "        super().__init__()\n",
    "        self.dense0 = list(model.children())[2]\n",
    "        self.activation0 = list(model.children())[3]\n",
    "\n",
    "    def forward(self, X):\n",
    "        X = self.dense0(X)\n",
    "        X = self.activation0(X)\n",
    "        return X"
   ]
  },
  {
   "cell_type": "code",
   "execution_count": 18,
   "id": "bc7eae9a-7f9e-4ee1-858e-b8cdb2270a6d",
   "metadata": {},
   "outputs": [
    {
     "data": {
      "text/plain": [
       "decoder(\n",
       "  (dense0): Linear(in_features=32, out_features=784, bias=True)\n",
       "  (activation0): Sigmoid()\n",
       ")"
      ]
     },
     "execution_count": 18,
     "metadata": {},
     "output_type": "execute_result"
    }
   ],
   "source": [
    "model2 = decoder()\n",
    "model2.to(device)"
   ]
  },
  {
   "cell_type": "markdown",
   "id": "cbd11dbb-abab-4014-b2d7-8b4d46219df1",
   "metadata": {},
   "source": [
    "## 7. Visualização dos Resultados"
   ]
  },
  {
   "cell_type": "code",
   "execution_count": 19,
   "id": "bf84d38a-d52c-49dd-b761-c74598502fcb",
   "metadata": {},
   "outputs": [],
   "source": [
    "numero_imagens = 10\n",
    "imagens_teste = next(iter(loader_val))[0][:numero_imagens]\n",
    "imagens_teste = imagens_teste.to(device)"
   ]
  },
  {
   "cell_type": "code",
   "execution_count": 22,
   "id": "6870d025-3708-4ff8-ac60-a5ca6ad60c90",
   "metadata": {},
   "outputs": [
    {
     "data": {
      "text/plain": [
       "torch.Size([10, 1, 28, 28])"
      ]
     },
     "execution_count": 22,
     "metadata": {},
     "output_type": "execute_result"
    }
   ],
   "source": [
    "imagens_teste.shape"
   ]
  },
  {
   "cell_type": "markdown",
   "id": "c0376c70-f135-4cee-9c44-8ca39e6418b6",
   "metadata": {},
   "source": [
    "### Imagens codificadas"
   ]
  },
  {
   "cell_type": "code",
   "execution_count": 20,
   "id": "e3d8ee81-7593-4b86-8c53-e1e52ee3dd35",
   "metadata": {},
   "outputs": [],
   "source": [
    "model1.eval()\n",
    "imagens_codificadas = model1(imagens_teste)"
   ]
  },
  {
   "cell_type": "code",
   "execution_count": 21,
   "id": "1770320a-c346-467d-9f2e-ff99447808cb",
   "metadata": {},
   "outputs": [
    {
     "data": {
      "text/plain": [
       "torch.Size([10, 32])"
      ]
     },
     "execution_count": 21,
     "metadata": {},
     "output_type": "execute_result"
    }
   ],
   "source": [
    "imagens_codificadas.shape"
   ]
  },
  {
   "cell_type": "markdown",
   "id": "c7ebb17c-979f-4faf-ad45-6b58e97bc579",
   "metadata": {},
   "source": [
    "### Imagens decodificadas"
   ]
  },
  {
   "cell_type": "code",
   "execution_count": 23,
   "id": "22b9e117-1335-4da4-accc-e083f0e34570",
   "metadata": {},
   "outputs": [],
   "source": [
    "model2.eval()\n",
    "imagens_decodificadas = model2(imagens_codificadas)"
   ]
  },
  {
   "cell_type": "code",
   "execution_count": 24,
   "id": "53186d76-5cc4-4fbe-a2ab-40811cf0c856",
   "metadata": {},
   "outputs": [
    {
     "data": {
      "text/plain": [
       "torch.Size([10, 784])"
      ]
     },
     "execution_count": 24,
     "metadata": {},
     "output_type": "execute_result"
    }
   ],
   "source": [
    "imagens_decodificadas.shape"
   ]
  },
  {
   "cell_type": "code",
   "execution_count": 25,
   "id": "b576853e-a26c-4b29-a021-0b7d06708f23",
   "metadata": {},
   "outputs": [],
   "source": [
    "imagens_teste = imagens_teste.detach().cpu().numpy().reshape(-1, 28, 28)\n",
    "imagens_codificadas = imagens_codificadas.detach().cpu().numpy().reshape(-1, 8, 4)\n",
    "imagens_decodificadas = imagens_decodificadas.detach().cpu().numpy().reshape(-1, 28, 28)"
   ]
  },
  {
   "cell_type": "code",
   "execution_count": 29,
   "id": "0a457b39-7d71-4948-8c5c-a8b563778b4b",
   "metadata": {},
   "outputs": [
    {
     "data": {
      "image/png": "[encoded data removed]",
      "text/plain": [
       "<Figure size 1000x400 with 30 Axes>"
      ]
     },
     "metadata": {},
     "output_type": "display_data"
    }
   ],
   "source": [
    "fig, axes = plt.subplots(nrows=3, ncols=numero_imagens, figsize=(10, 4))\n",
    "for imagens, ax_row in zip([imagens_teste, imagens_codificadas, imagens_decodificadas], axes):\n",
    "  for img, ax in zip(imagens, ax_row):\n",
    "    ax.imshow(img, cmap='gray')\n",
    "    ax.get_xaxis().set_visible(False)\n",
    "    ax.get_yaxis().set_visible(False)"
   ]
  },
  {
   "cell_type": "code",
   "execution_count": null,
   "id": "c433e0e7-2255-42d7-a1c1-9ff80faa507a",
   "metadata": {},
   "outputs": [],
   "source": []
  }
 ],
 "metadata": {
  "kernelspec": {
   "display_name": "Python 3 (ipykernel)",
   "language": "python",
   "name": "python3"
  },
  "language_info": {
   "codemirror_mode": {
    "name": "ipython",
    "version": 3
   },
   "file_extension": ".py",
   "mimetype": "text/x-python",
   "name": "python",
   "nbconvert_exporter": "python",
   "pygments_lexer": "ipython3",
   "version": "3.10.16"
  }
 },
 "nbformat": 4,
 "nbformat_minor": 5
}
