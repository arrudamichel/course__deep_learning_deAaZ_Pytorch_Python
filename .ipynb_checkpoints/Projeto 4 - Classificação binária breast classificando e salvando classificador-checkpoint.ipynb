{
 "cells": [
  {
   "cell_type": "markdown",
   "id": "73dda89f-61fe-4a65-9105-5160e480ca07",
   "metadata": {},
   "source": [
    "# Projeto 4 - Classificação binária breast classificando e salvando classificador"
   ]
  },
  {
   "cell_type": "markdown",
   "id": "1a9b6bf7-4527-4ab2-9aeb-7a2952aa3184",
   "metadata": {},
   "source": [
    "## 1. Importando bibliotecas"
   ]
  },
  {
   "cell_type": "code",
   "execution_count": 1,
   "id": "34648c79-dc31-4bdb-9ae8-6f3b3ba5022e",
   "metadata": {},
   "outputs": [
    {
     "data": {
      "text/plain": [
       "'2.5.0'"
      ]
     },
     "execution_count": 1,
     "metadata": {},
     "output_type": "execute_result"
    }
   ],
   "source": [
    "import pandas as pd\n",
    "from sklearn.model_selection import train_test_split\n",
    "import numpy as np\n",
    "import seaborn as sns\n",
    "from sklearn.metrics import confusion_matrix, accuracy_score\n",
    "import torch\n",
    "import torch.nn as nn\n",
    "torch.__version__"
   ]
  },
  {
   "cell_type": "code",
   "execution_count": 2,
   "id": "99558267-ac8e-45b9-b02c-47da4112979e",
   "metadata": {},
   "outputs": [],
   "source": [
    "torch.set_default_device(\"mps\")\n",
    "device = torch.device(\"mps\")\n",
    "\n",
    "# torch.set_default_device(\"cpu\")\n",
    "# device = torch.device(\"cpu\")"
   ]
  },
  {
   "cell_type": "code",
   "execution_count": 3,
   "id": "f0991bb4-ecf8-4816-9a74-3bbb6050f841",
   "metadata": {},
   "outputs": [
    {
     "name": "stdout",
     "output_type": "stream",
     "text": [
      "True\n",
      "True\n"
     ]
    }
   ],
   "source": [
    "print(torch.backends.mps.is_available())  # Deve retornar True\n",
    "print(torch.backends.mps.is_built())  # Deve retornar True"
   ]
  },
  {
   "cell_type": "markdown",
   "id": "2a6f1b41-5134-4548-bbf6-e434f4403dea",
   "metadata": {},
   "source": [
    "## 2. Importando Dados"
   ]
  },
  {
   "cell_type": "code",
   "execution_count": 4,
   "id": "78f7d177-0eb6-4344-8472-ee8b372ac807",
   "metadata": {},
   "outputs": [
    {
     "data": {
      "text/plain": [
       "<torch._C.Generator at 0x11db9fe50>"
      ]
     },
     "execution_count": 4,
     "metadata": {},
     "output_type": "execute_result"
    }
   ],
   "source": [
    "np.random.seed(123)\n",
    "torch.manual_seed(123)"
   ]
  },
  {
   "cell_type": "code",
   "execution_count": 5,
   "id": "b9ef10d6-5316-46ce-add3-5b0a504fee79",
   "metadata": {},
   "outputs": [],
   "source": [
    "previsores = pd.read_csv(\"data/entradas_breast.csv\")\n",
    "classe = pd.read_csv(\"data/saidas_breast.csv\")"
   ]
  },
  {
   "cell_type": "code",
   "execution_count": 6,
   "id": "15ae3e49-945c-4dfa-b645-171a7093e364",
   "metadata": {},
   "outputs": [],
   "source": [
    "previsores = torch.tensor(np.array(previsores), dtype = torch.float)\n",
    "classe = torch.tensor(np.array(classe), dtype = torch.float)"
   ]
  },
  {
   "cell_type": "code",
   "execution_count": 8,
   "id": "885c27e5-07d7-434a-b173-7a1b659aadc4",
   "metadata": {},
   "outputs": [
    {
     "data": {
      "text/plain": [
       "tensor([[0., 0., 0., 0., 0., 0., 0., 0., 0., 0., 0., 0., 0., 0., 0., 0., 0., 0.,\n",
       "         0., 1., 1., 1., 0., 0., 0., 0., 0., 0., 0., 0., 0., 0., 0., 0., 0., 0.,\n",
       "         0., 1., 0., 0., 0., 0., 0., 0., 0., 0., 1., 0., 1., 1., 1., 1., 1., 0.,\n",
       "         0., 1., 0., 0., 1., 1., 1., 1., 0., 1., 0., 0., 1., 1., 1., 1., 0., 1.,\n",
       "         0., 0., 1., 0., 1., 0., 0., 1., 1., 1., 0., 0., 1., 0., 0., 0., 1., 1.,\n",
       "         1., 0., 1., 1., 0., 0., 1., 1., 1., 0., 0., 1., 1., 1., 1., 0., 1., 1.,\n",
       "         0., 1., 1., 1., 1., 1., 1., 1., 1., 0., 0., 0., 1., 0., 0., 1., 1., 1.,\n",
       "         0., 0., 1., 0., 1., 0., 0., 1., 0., 0., 1., 1., 0., 1., 1., 0., 1., 1.,\n",
       "         1., 1., 0., 1., 1., 1., 1., 1., 1., 1., 1., 1., 0., 1., 1., 1., 1., 0.,\n",
       "         0., 1., 0., 1., 1., 0., 0., 1., 1., 0., 0., 1., 1., 1., 1., 0., 1., 1.,\n",
       "         0., 0., 0., 1., 0., 1., 0., 1., 1., 1., 0., 1., 1., 0., 0., 1., 0., 0.,\n",
       "         0., 0., 1., 0., 0., 0., 1., 0., 1., 0., 1., 1., 0., 1., 0., 0., 0., 0.,\n",
       "         1., 1., 0., 0., 1., 1., 1., 0., 1., 1., 1., 1., 1., 0., 0., 1., 1., 0.,\n",
       "         1., 1., 0., 0., 1., 0., 1., 1., 1., 1., 0., 1., 1., 1., 1., 1., 0., 1.,\n",
       "         0., 0., 0., 0., 0., 0., 0., 0., 0., 0., 0., 0., 0., 0., 1., 1., 1., 1.,\n",
       "         1., 1., 0., 1., 0., 1., 1., 0., 1., 1., 0., 1., 0., 0., 1., 1., 1., 1.,\n",
       "         1., 1., 1., 1., 1., 1., 1., 1., 1., 0., 1., 1., 0., 1., 0., 1., 1., 1.,\n",
       "         1., 1., 1., 1., 1., 1., 1., 1., 1., 1., 1., 0., 1., 1., 1., 0., 1., 0.,\n",
       "         1., 1., 1., 1., 0., 0., 0., 1., 1., 1., 1., 0., 1., 0., 1., 0., 1., 1.,\n",
       "         1., 0., 1., 1., 1., 1., 1., 1., 1., 0., 0., 0., 1., 1., 1., 1., 1., 1.,\n",
       "         1., 1., 1., 1., 1., 0., 0., 1., 0., 0., 0., 1., 0., 0., 1., 1., 1., 1.,\n",
       "         1., 0., 1., 1., 1., 1., 1., 0., 1., 1., 1., 0., 1., 1., 0., 0., 1., 1.,\n",
       "         1., 1., 1., 1., 0., 1., 1., 1., 1., 1., 1., 1., 0., 1., 1., 1., 1., 1.,\n",
       "         0., 1., 1., 0., 1., 1., 1., 1., 1., 1., 1., 1., 1., 1., 1., 1., 0., 1.,\n",
       "         0., 0., 1., 0., 1., 1., 1., 1., 1., 0., 1., 1., 0., 1., 0., 1., 1., 0.,\n",
       "         1., 0., 1., 1., 1., 1., 1., 1., 1., 1., 0., 0., 1., 1., 1., 1., 1., 1.,\n",
       "         0., 1., 1., 1., 1., 1., 1., 1., 1., 1., 1., 0., 1., 1., 1., 1., 1., 1.,\n",
       "         1., 0., 1., 0., 1., 1., 0., 1., 1., 1., 1., 1., 0., 0., 1., 0., 1., 0.,\n",
       "         1., 1., 1., 1., 1., 0., 1., 1., 0., 1., 0., 1., 0., 0., 1., 1., 1., 0.,\n",
       "         1., 1., 1., 1., 1., 1., 1., 1., 1., 1., 1., 0., 1., 0., 0., 1., 1., 1.,\n",
       "         1., 1., 1., 1., 1., 1., 1., 1., 1., 1., 1., 1., 1., 1., 1., 1., 1., 1.,\n",
       "         1., 1., 1., 1., 0., 0., 0., 0., 0., 0., 1.]], device='mps:0')"
      ]
     },
     "execution_count": 8,
     "metadata": {},
     "output_type": "execute_result"
    }
   ],
   "source": [
    "classe.T"
   ]
  },
  {
   "cell_type": "markdown",
   "id": "5946563f-ba25-43cd-9d4c-2504011ad78d",
   "metadata": {},
   "source": [
    "## 3. Transformação dos dados para tensores"
   ]
  },
  {
   "cell_type": "code",
   "execution_count": 10,
   "id": "a43ddac4-9fae-4d62-9587-b0119f98a09e",
   "metadata": {},
   "outputs": [],
   "source": [
    "train_loader = torch.utils.data.DataLoader(torch.utils.data.TensorDataset(previsores, classe), \n",
    "                                           batch_size = 10, \n",
    "                                           shuffle = True, \n",
    "                                           pin_memory=False,  # MPS não suporta pin_memory=True\n",
    "                                           generator=torch.Generator(device=device))"
   ]
  },
  {
   "cell_type": "markdown",
   "id": "a8f4ad9e-6093-4cfb-aea1-dbc55f97ddd2",
   "metadata": {},
   "source": [
    "## 4. Construção do modelo"
   ]
  },
  {
   "cell_type": "code",
   "execution_count": 11,
   "id": "736cabe5-0ec1-4fdf-b5c5-9a400e96756f",
   "metadata": {},
   "outputs": [],
   "source": [
    "class classificador_torch(nn.Module):\n",
    "    def __init__(self):\n",
    "        super().__init__()\n",
    "\n",
    "        # 30 -> 16 -> 16 -> 1\n",
    "        self.dense0 = nn.Linear(30, 8)\n",
    "        torch.nn.init.normal_(self.dense0.weight, mean=0.0, std=0.05)\n",
    "\n",
    "        self.dense1 = nn.Linear(8, 8)\n",
    "        torch.nn.init.normal_(self.dense1.weight, mean=0.0, std=0.05)\n",
    "\n",
    "        self.dense2 = nn.Linear(8, 1)\n",
    "        torch.nn.init.normal_(self.dense2.weight, mean=0.0, std=0.05)\n",
    "        \n",
    "        self.activation = nn.ReLU()\n",
    "        self.dropout = nn.Dropout(0.2)\n",
    "        \n",
    "        self.output = nn.Sigmoid()\n",
    "\n",
    "    def forward(self, X):\n",
    "        X = self.dense0(X)\n",
    "        X = self.activation(X)\n",
    "        X = self.dropout(X)\n",
    "        \n",
    "        X = self.dense1(X)\n",
    "        X = self.activation(X)\n",
    "        X = self.dropout(X)\n",
    "        \n",
    "        X = self.dense2(X)\n",
    "        X = self.activation(X)\n",
    "        X = self.dropout(X)\n",
    "\n",
    "        X = self.output(X)\n",
    "        return X"
   ]
  },
  {
   "cell_type": "code",
   "execution_count": 12,
   "id": "b956cd7b-b3a2-4777-8921-04578a10fd44",
   "metadata": {},
   "outputs": [],
   "source": [
    "classificador_torch = classificador_torch()"
   ]
  },
  {
   "cell_type": "code",
   "execution_count": 13,
   "id": "09120e10-1efc-48a9-89aa-146c4cd571d6",
   "metadata": {},
   "outputs": [],
   "source": [
    "criterion = nn.BCELoss()\n",
    "optimizer = torch.optim.Adam(classificador_torch.parameters(), lr=0.001, weight_decay = 0.0001)"
   ]
  },
  {
   "cell_type": "markdown",
   "id": "8f370a77-da28-439a-ad99-0bbe6c4f9324",
   "metadata": {},
   "source": [
    "## 5. Treinamento do modelo"
   ]
  },
  {
   "cell_type": "code",
   "execution_count": 15,
   "id": "274023b1-5f89-4cb7-a362-b4f94bfd6b1c",
   "metadata": {},
   "outputs": [
    {
     "name": "stdout",
     "output_type": "stream",
     "text": [
      "Epoch: 0, loss: 0.6468717549976549\n",
      "Epoch: 1, loss: 0.6233659736942827\n",
      "Epoch: 2, loss: 0.596858613323747\n",
      "Epoch: 3, loss: 0.6089388926823934\n",
      "Epoch: 4, loss: 0.5951461844276964\n",
      "Epoch: 5, loss: 0.5985754022472783\n",
      "Epoch: 6, loss: 0.5862698539307243\n",
      "Epoch: 7, loss: 0.5850634120012584\n",
      "Epoch: 8, loss: 0.5762824295905599\n",
      "Epoch: 9, loss: 0.5908573431926861\n",
      "Epoch: 10, loss: 0.5882776447555476\n",
      "Epoch: 11, loss: 0.6066541164590601\n",
      "Epoch: 12, loss: 0.5758819214084692\n",
      "Epoch: 13, loss: 0.5794578748836852\n",
      "Epoch: 14, loss: 0.5676391082897521\n",
      "Epoch: 15, loss: 0.5939683961240869\n",
      "Epoch: 16, loss: 0.5936395457962103\n",
      "Epoch: 17, loss: 0.5754194646550898\n",
      "Epoch: 18, loss: 0.5755977437161562\n",
      "Epoch: 19, loss: 0.5757328313693666\n",
      "Epoch: 20, loss: 0.5630255111476832\n",
      "Epoch: 21, loss: 0.5956224537732309\n",
      "Epoch: 22, loss: 0.5787233422722733\n",
      "Epoch: 23, loss: 0.5801352910828173\n",
      "Epoch: 24, loss: 0.5849914626594175\n",
      "Epoch: 25, loss: 0.565313373218503\n",
      "Epoch: 26, loss: 0.5635656510528765\n",
      "Epoch: 27, loss: 0.5729621183453945\n",
      "Epoch: 28, loss: 0.5642106684676388\n",
      "Epoch: 29, loss: 0.5659918356360051\n",
      "Epoch: 30, loss: 0.5678675430908537\n",
      "Epoch: 31, loss: 0.5774104971634714\n",
      "Epoch: 32, loss: 0.5803036595645704\n",
      "Epoch: 33, loss: 0.5517058314984304\n",
      "Epoch: 34, loss: 0.5675438637273353\n",
      "Epoch: 35, loss: 0.5735383535686293\n",
      "Epoch: 36, loss: 0.5510428960908923\n",
      "Epoch: 37, loss: 0.5588444434759909\n",
      "Epoch: 38, loss: 0.5654309088723701\n",
      "Epoch: 39, loss: 0.5435848528878731\n",
      "Epoch: 40, loss: 0.5535330359350171\n",
      "Epoch: 41, loss: 0.5441880168622\n",
      "Epoch: 42, loss: 0.5611661092231148\n",
      "Epoch: 43, loss: 0.5392265874042845\n",
      "Epoch: 44, loss: 0.5643087871241987\n",
      "Epoch: 45, loss: 0.5444769548219547\n",
      "Epoch: 46, loss: 0.543646223189538\n",
      "Epoch: 47, loss: 0.5388888444816857\n",
      "Epoch: 48, loss: 0.5155355747331652\n",
      "Epoch: 49, loss: 0.5318940443950787\n",
      "Epoch: 50, loss: 0.5294726407318785\n",
      "Epoch: 51, loss: 0.5158708545199612\n",
      "Epoch: 52, loss: 0.5346157064563349\n",
      "Epoch: 53, loss: 0.5168767623734056\n",
      "Epoch: 54, loss: 0.5303736966952943\n",
      "Epoch: 55, loss: 0.508340848903907\n",
      "Epoch: 56, loss: 0.5107950385202441\n",
      "Epoch: 57, loss: 0.5179661648315296\n",
      "Epoch: 58, loss: 0.5030729430809355\n",
      "Epoch: 59, loss: 0.5126556780254632\n",
      "Epoch: 60, loss: 0.510666043611995\n",
      "Epoch: 61, loss: 0.51018877249015\n",
      "Epoch: 62, loss: 0.5182856263821585\n",
      "Epoch: 63, loss: 0.5213241012472856\n",
      "Epoch: 64, loss: 0.5230095229650799\n",
      "Epoch: 65, loss: 0.5177345647100817\n",
      "Epoch: 66, loss: 0.5069159525528288\n",
      "Epoch: 67, loss: 0.5132011018301311\n",
      "Epoch: 68, loss: 0.5167373460635805\n",
      "Epoch: 69, loss: 0.5277714959362096\n",
      "Epoch: 70, loss: 0.5664357132556146\n",
      "Epoch: 71, loss: 0.5189668520500785\n",
      "Epoch: 72, loss: 0.5201860098985204\n",
      "Epoch: 73, loss: 0.5190840509899876\n",
      "Epoch: 74, loss: 0.5213601270265746\n",
      "Epoch: 75, loss: 0.5351519924506807\n",
      "Epoch: 76, loss: 0.516869540800128\n",
      "Epoch: 77, loss: 0.5046072440189228\n",
      "Epoch: 78, loss: 0.5080266472017556\n",
      "Epoch: 79, loss: 0.5114683634356448\n",
      "Epoch: 80, loss: 0.5080942182164443\n",
      "Epoch: 81, loss: 0.5228049472758645\n",
      "Epoch: 82, loss: 0.5283685679498472\n",
      "Epoch: 83, loss: 0.5085010899786364\n",
      "Epoch: 84, loss: 0.5201369144937449\n",
      "Epoch: 85, loss: 0.5124374016335136\n",
      "Epoch: 86, loss: 0.4971779375745539\n",
      "Epoch: 87, loss: 0.4906265335647683\n",
      "Epoch: 88, loss: 0.5267417977253596\n",
      "Epoch: 89, loss: 0.5219219713880304\n",
      "Epoch: 90, loss: 0.4961140767524117\n",
      "Epoch: 91, loss: 0.5322017073631287\n",
      "Epoch: 92, loss: 0.5171431867699874\n",
      "Epoch: 93, loss: 0.5208300388695901\n",
      "Epoch: 94, loss: 0.48823129555635286\n",
      "Epoch: 95, loss: 0.5426021092816403\n",
      "Epoch: 96, loss: 0.5026988784472147\n",
      "Epoch: 97, loss: 0.5224325513107735\n",
      "Epoch: 98, loss: 0.5029998866089603\n",
      "Epoch: 99, loss: 0.47434365540220025\n"
     ]
    }
   ],
   "source": [
    "for epoch in range(100):\n",
    "    running_loss = 0.\n",
    "\n",
    "    for data in train_loader:\n",
    "        inputs, labels = data #previsores, classes - tensor com quantidade batch_size\n",
    "        inputs, labels = inputs.to(device), labels.to(device)\n",
    "        \n",
    "        optimizer.zero_grad() #zerar o gradiente para o calculo\n",
    "\n",
    "        # Forward\n",
    "        outputs = classificador_torch(inputs) # classificador.forward(inputs) -> previsões\n",
    "        #print(outputs)\n",
    "\n",
    "        # Calculo do Erro\n",
    "        loss = criterion(outputs, labels) #\n",
    "        #print(loss)\n",
    "\n",
    "        # Backpropagation\n",
    "        loss.backward()\n",
    "        \n",
    "        optimizer.step() #Atualiza os pesos\n",
    "\n",
    "        # atualiza o erro\n",
    "        running_loss += loss.item()\n",
    "\n",
    "    print(f\"Epoch: {epoch}, loss: {running_loss/len(train_loader)}\")\n",
    "        "
   ]
  },
  {
   "cell_type": "markdown",
   "id": "4acdd564-9772-460f-9860-5a0f0af9efbf",
   "metadata": {},
   "source": [
    "## 6. Classificar somente um registro"
   ]
  },
  {
   "cell_type": "code",
   "execution_count": 16,
   "id": "e6c45ff1-ed5b-4a74-9fb2-b5ce51a8749c",
   "metadata": {},
   "outputs": [],
   "source": [
    "novo_registro = torch.tensor([[15.80, 8.34, 118, 900, 0.10, 0.26, 0.08, 0.134, 0.178,\n",
    "                  0.20, 0.05, 1098, 0.87, 4500, 145.2, 0.005, 0.04, 0.05, 0.015,\n",
    "                  0.03, 0.007, 23.15, 16.64, 178.5, 2018, 0.14, 0.185,\n",
    "                  0.84, 158, 0.363]], dtype = torch.float)"
   ]
  },
  {
   "cell_type": "code",
   "execution_count": 17,
   "id": "7703c007-8723-45ba-8376-78adf5ba90d0",
   "metadata": {},
   "outputs": [
    {
     "data": {
      "text/plain": [
       "tensor([[1.5800e+01, 8.3400e+00, 1.1800e+02, 9.0000e+02, 1.0000e-01, 2.6000e-01,\n",
       "         8.0000e-02, 1.3400e-01, 1.7800e-01, 2.0000e-01, 5.0000e-02, 1.0980e+03,\n",
       "         8.7000e-01, 4.5000e+03, 1.4520e+02, 5.0000e-03, 4.0000e-02, 5.0000e-02,\n",
       "         1.5000e-02, 3.0000e-02, 7.0000e-03, 2.3150e+01, 1.6640e+01, 1.7850e+02,\n",
       "         2.0180e+03, 1.4000e-01, 1.8500e-01, 8.4000e-01, 1.5800e+02, 3.6300e-01]],\n",
       "       device='mps:0')"
      ]
     },
     "execution_count": 17,
     "metadata": {},
     "output_type": "execute_result"
    }
   ],
   "source": [
    "novo_registro"
   ]
  },
  {
   "cell_type": "code",
   "execution_count": 19,
   "id": "07300885-4073-4397-ae7e-7e53cd0d52b8",
   "metadata": {},
   "outputs": [
    {
     "data": {
      "text/plain": [
       "classificador_torch(\n",
       "  (dense0): Linear(in_features=30, out_features=8, bias=True)\n",
       "  (dense1): Linear(in_features=8, out_features=8, bias=True)\n",
       "  (dense2): Linear(in_features=8, out_features=1, bias=True)\n",
       "  (activation): ReLU()\n",
       "  (dropout): Dropout(p=0.2, inplace=False)\n",
       "  (output): Sigmoid()\n",
       ")"
      ]
     },
     "execution_count": 19,
     "metadata": {},
     "output_type": "execute_result"
    }
   ],
   "source": [
    "classificador_torch.eval()"
   ]
  },
  {
   "cell_type": "code",
   "execution_count": 29,
   "id": "c6b3c341-a139-478c-af0c-9cd1f8ae0024",
   "metadata": {},
   "outputs": [],
   "source": [
    "previsao = classificador_torch(novo_registro)"
   ]
  },
  {
   "cell_type": "code",
   "execution_count": 30,
   "id": "5f93eab7-6fb6-45d9-9232-276e2d5e2d3f",
   "metadata": {},
   "outputs": [
    {
     "data": {
      "text/plain": [
       "tensor([[1.]], device='mps:0', grad_fn=<SigmoidBackward0>)"
      ]
     },
     "execution_count": 30,
     "metadata": {},
     "output_type": "execute_result"
    }
   ],
   "source": [
    "previsao"
   ]
  },
  {
   "cell_type": "code",
   "execution_count": 31,
   "id": "77b3e7f6-314a-4293-90ce-d5d97ecad24c",
   "metadata": {},
   "outputs": [],
   "source": [
    "previsao = previsao.detach()"
   ]
  },
  {
   "cell_type": "code",
   "execution_count": 32,
   "id": "f3ec8e56-6127-4937-a089-b200bcfe847b",
   "metadata": {},
   "outputs": [
    {
     "data": {
      "text/plain": [
       "tensor([[1.]], device='mps:0')"
      ]
     },
     "execution_count": 32,
     "metadata": {},
     "output_type": "execute_result"
    }
   ],
   "source": [
    "previsao"
   ]
  },
  {
   "cell_type": "code",
   "execution_count": 33,
   "id": "2e06998e-b2bf-40df-9281-e621b5337046",
   "metadata": {},
   "outputs": [],
   "source": [
    "previsao = previsao.cpu()"
   ]
  },
  {
   "cell_type": "code",
   "execution_count": 34,
   "id": "e40a88b0-627d-4f58-a8f8-0362804f16eb",
   "metadata": {},
   "outputs": [
    {
     "data": {
      "text/plain": [
       "array([[1.]], dtype=float32)"
      ]
     },
     "execution_count": 34,
     "metadata": {},
     "output_type": "execute_result"
    }
   ],
   "source": [
    "previsao = previsao.numpy()\n",
    "previsao"
   ]
  },
  {
   "cell_type": "code",
   "execution_count": 36,
   "id": "1f1b762e-4983-4427-ae2d-5a7aedb52b36",
   "metadata": {},
   "outputs": [
    {
     "data": {
      "text/plain": [
       "array([[ True]])"
      ]
     },
     "execution_count": 36,
     "metadata": {},
     "output_type": "execute_result"
    }
   ],
   "source": [
    "previsao = (previsao > 0.5)\n",
    "previsao"
   ]
  },
  {
   "cell_type": "markdown",
   "id": "6469ffd4-eed4-4877-840b-df5f3e0f353b",
   "metadata": {},
   "source": [
    "## 7. Salvar o modelo"
   ]
  },
  {
   "cell_type": "code",
   "execution_count": 37,
   "id": "5514f634-812e-48d9-b3e0-8284a1a85a51",
   "metadata": {},
   "outputs": [
    {
     "data": {
      "text/plain": [
       "OrderedDict([('dense0.weight',\n",
       "              tensor([[ 7.4574e-02, -1.7704e-02, -2.2785e-03,  5.7946e-03, -1.6917e-02,\n",
       "                        9.6920e-03, -1.9103e-02, -3.1056e-02, -3.1934e-03,  1.5530e-04,\n",
       "                       -1.0100e-02, -2.0573e-02, -5.6476e-03,  1.8085e-04,  1.1633e-33,\n",
       "                        1.5585e-08, -1.6096e-04, -9.8718e-34,  1.3048e-08,  3.1394e-11,\n",
       "                        2.7221e-02, -3.1077e-02, -8.1115e-02, -6.0618e-02,  8.6933e-02,\n",
       "                       -3.1037e-02, -1.7792e-02, -8.7776e-03, -8.0101e-02, -3.9559e-03],\n",
       "                      [ 4.4589e-02,  2.1079e-02,  4.5174e-03, -3.9000e-02,  5.9652e-09,\n",
       "                        4.0631e-03,  2.2769e-04, -2.4859e-05,  1.6553e-02,  9.5434e-08,\n",
       "                       -4.6133e-03,  5.6078e-04, -1.4856e-02,  1.1423e-01, -2.3690e-19,\n",
       "                       -2.6677e-18, -7.9293e-04,  5.5048e-19, -2.8171e-18,  1.6550e-19,\n",
       "                       -5.7186e-03,  3.4836e-02, -4.0424e-02,  1.5331e-03,  2.1007e-02,\n",
       "                       -4.9983e-03,  1.6821e-04, -1.2440e-03, -7.6929e-05, -1.2015e-02],\n",
       "                      [-4.5570e-01, -1.2010e-01, -4.0966e-01, -6.8771e-02,  8.8466e-02,\n",
       "                       -3.8864e-02,  7.7048e-02, -9.4470e-02,  2.6900e-02, -6.0696e-02,\n",
       "                        1.6159e-02,  6.8080e-03,  4.5965e-03,  5.3639e-02,  1.5855e-03,\n",
       "                       -1.4731e-01, -1.9838e-01, -2.5135e-01,  1.1105e-02,  3.0225e-01,\n",
       "                       -3.3946e-01,  9.6918e-02, -2.3387e-01,  1.4713e-01, -3.4784e-04,\n",
       "                        3.3584e-02,  6.9555e-03,  2.8303e-02, -1.4420e-02,  3.9304e-01],\n",
       "                      [-4.1280e-02, -2.5510e-01, -2.0037e-01, -1.4416e-02,  3.0847e-02,\n",
       "                        1.0956e-01,  3.8907e-02, -8.3820e-02, -2.3255e-02,  3.2472e-02,\n",
       "                        2.9627e-02,  1.4090e-03, -8.2324e-02, -1.6470e-03,  1.2341e-03,\n",
       "                       -1.1715e-01, -4.5398e-02, -1.6938e-01,  1.1005e-01,  1.6979e-03,\n",
       "                       -1.8823e-01, -2.9778e-01, -1.3244e-01,  8.8594e-02, -1.3790e-01,\n",
       "                       -2.9086e-02, -1.4071e-01,  8.5972e-02, -6.9101e-02,  5.5016e-02],\n",
       "                      [ 1.3300e-01,  2.0432e-01,  2.5881e-01, -3.9996e-02, -7.5129e-02,\n",
       "                       -1.0359e-01,  1.3787e-01,  4.2278e-01,  3.6700e-01, -3.2779e-01,\n",
       "                       -1.2954e-02,  5.1131e-02, -2.3158e-02, -3.1242e-01,  4.2109e-03,\n",
       "                        4.3469e-01, -1.8485e-02, -6.4022e-03, -6.9237e-03, -1.0474e-01,\n",
       "                        1.1361e-01,  7.0344e-02,  1.1783e-01, -1.3524e-01, -1.7809e-01,\n",
       "                       -2.9876e-02, -7.8521e-02, -1.8009e-01,  1.0931e-01, -1.9872e-01],\n",
       "                      [ 3.3830e-02, -3.1153e-05, -8.5486e-04, -1.3514e-02, -1.0204e-33,\n",
       "                       -1.1692e-33,  6.8574e-24,  1.1551e-33, -4.2311e-04, -1.0977e-33,\n",
       "                        1.0943e-33, -5.5990e-02, -6.8473e-02, -2.9647e-02, -1.1269e-33,\n",
       "                       -1.1724e-33,  1.0980e-33,  1.0738e-33,  1.1542e-33,  1.0797e-33,\n",
       "                        9.8489e-02,  5.4827e-05,  1.8749e-03, -2.2709e-02, -1.8421e-04,\n",
       "                       -8.9518e-34,  3.4068e-08,  2.6120e-34,  1.4637e-02, -1.1062e-33],\n",
       "                      [ 2.4481e-01,  2.0137e-01,  2.9550e-01,  5.2161e-02, -1.0398e-01,\n",
       "                        5.8280e-02, -1.6126e-01,  5.6603e-01,  3.6952e-01, -3.3384e-01,\n",
       "                        2.6084e-02,  1.7897e-02, -1.1264e-02, -3.7649e-01,  1.2921e-02,\n",
       "                        4.0266e-01,  3.5346e-01,  9.3829e-02, -2.6324e-01, -9.8581e-02,\n",
       "                        1.4704e-01,  1.5961e-01,  1.6244e-01, -1.0599e-01, -1.4831e-01,\n",
       "                        1.0462e-01, -1.6991e-01, -1.3604e-01, -1.5133e-01, -2.0933e-01],\n",
       "                      [ 5.7933e-02,  1.2193e-01,  6.0862e-02, -5.8579e-02,  4.2465e-02,\n",
       "                       -3.8910e-02,  2.7201e-02,  1.3725e-01,  1.8122e-01, -1.7945e-01,\n",
       "                       -1.2421e-01,  7.1967e-02,  1.3584e-02,  7.9031e-02,  3.6049e-03,\n",
       "                        1.8786e-01, -9.0653e-03, -2.6437e-03,  2.5963e-03, -6.9838e-02,\n",
       "                        9.1799e-03,  6.0417e-02,  6.7562e-02, -1.6819e-01, -7.2649e-02,\n",
       "                        6.8243e-02, -1.2726e-01,  1.4681e-01, -2.1294e-02, -1.9123e-01]],\n",
       "                     device='mps:0')),\n",
       "             ('dense0.bias',\n",
       "              tensor([ 4.2313e-05,  5.7328e-05, -6.6476e-01, -2.1234e-01,  3.2429e-01,\n",
       "                      -9.8011e-34,  3.7558e-01,  1.3489e-01], device='mps:0')),\n",
       "             ('dense1.weight',\n",
       "              tensor([[ 0.0411,  0.0800, -0.0525, -0.0407,  0.0542,  0.0279,  0.0856, -0.0284],\n",
       "                      [ 0.0762,  0.0752, -0.0560, -0.0591,  0.0912,  0.0877,  0.1454,  0.1017],\n",
       "                      [ 0.0797,  0.0530, -0.0466, -0.0626,  0.0513, -0.0068,  0.0986,  0.0364],\n",
       "                      [ 0.0306, -0.0631,  0.1089,  0.0594,  0.0193, -0.0191, -0.0007, -0.0302],\n",
       "                      [-0.0014,  0.1036, -0.0862, -0.0217,  0.0882, -0.0456,  0.1090,  0.0980],\n",
       "                      [ 0.0162,  0.0733, -0.0305, -0.0297,  0.0380,  0.0162,  0.0645,  0.0984],\n",
       "                      [ 0.0093, -0.0856,  0.1087,  0.0634, -0.0384, -0.0009, -0.0156, -0.0670],\n",
       "                      [ 0.0333, -0.0159, -0.0142, -0.0251, -0.0152,  0.0549, -0.0051, -0.0043]],\n",
       "                     device='mps:0')),\n",
       "             ('dense1.bias',\n",
       "              tensor([ 9.2553e-01,  9.9525e-01,  8.4013e-01, -5.9122e-01,  2.5694e-01,\n",
       "                       5.7476e-01, -6.9411e-01, -6.0594e-06], device='mps:0')),\n",
       "             ('dense2.weight',\n",
       "              tensor([[ 0.1877,  0.1415,  0.1355, -0.1481,  0.0854,  0.1894, -0.1598,  0.0015]],\n",
       "                     device='mps:0')),\n",
       "             ('dense2.bias', tensor([0.3744], device='mps:0'))])"
      ]
     },
     "execution_count": 37,
     "metadata": {},
     "output_type": "execute_result"
    }
   ],
   "source": [
    "classificador_torch.state_dict() "
   ]
  },
  {
   "cell_type": "code",
   "execution_count": 38,
   "id": "8dc474ec-a57e-4697-bf74-106dd2b74f38",
   "metadata": {},
   "outputs": [],
   "source": [
    "torch.save(classificador_torch.state_dict(), 'models/classificador.pth')"
   ]
  }
 ],
 "metadata": {
  "kernelspec": {
   "display_name": "Python 3 (ipykernel)",
   "language": "python",
   "name": "python3"
  },
  "language_info": {
   "codemirror_mode": {
    "name": "ipython",
    "version": 3
   },
   "file_extension": ".py",
   "mimetype": "text/x-python",
   "name": "python",
   "nbconvert_exporter": "python",
   "pygments_lexer": "ipython3",
   "version": "3.10.16"
  }
 },
 "nbformat": 4,
 "nbformat_minor": 5
}
