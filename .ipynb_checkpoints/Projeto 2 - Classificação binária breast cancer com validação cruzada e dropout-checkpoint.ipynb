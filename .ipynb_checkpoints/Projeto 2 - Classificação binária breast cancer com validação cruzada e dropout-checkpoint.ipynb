{
 "cells": [
  {
   "cell_type": "markdown",
   "id": "535711b8-7745-47e7-a3d9-c0fcc3ade5c9",
   "metadata": {},
   "source": [
    "# Projeto 2 - Classificação binária breast cancer - Validação cruzada e dropout"
   ]
  },
  {
   "cell_type": "markdown",
   "id": "ab16c103-f6dd-42c0-9815-9f851dd9172e",
   "metadata": {},
   "source": [
    "## 1. Importando bibliotecas"
   ]
  },
  {
   "cell_type": "code",
   "execution_count": 1,
   "id": "38d99a8f-3bca-4621-988d-8d802e4688d5",
   "metadata": {},
   "outputs": [],
   "source": [
    "import pandas as pd\n",
    "import numpy as np\n",
    "import torch.nn as nn\n",
    "from skorch import NeuralNetBinaryClassifier\n",
    "import torch\n",
    "from sklearn.model_selection import cross_val_score"
   ]
  },
  {
   "cell_type": "code",
   "execution_count": 2,
   "id": "dc546051-2001-46ae-8ae0-0e91d4ca87b8",
   "metadata": {},
   "outputs": [],
   "source": [
    "torch.set_default_device(\"mps\")\n",
    "device = torch.device(\"mps\")\n",
    "\n",
    "# torch.set_default_device(\"cpu\")\n",
    "# device = torch.device(\"cpu\")"
   ]
  },
  {
   "cell_type": "code",
   "execution_count": 3,
   "id": "cd7de022-042a-4a69-93fc-d890d2ea1fae",
   "metadata": {},
   "outputs": [
    {
     "name": "stdout",
     "output_type": "stream",
     "text": [
      "True\n",
      "True\n"
     ]
    }
   ],
   "source": [
    "print(torch.backends.mps.is_available())  # Deve retornar True\n",
    "print(torch.backends.mps.is_built())  # Deve retornar True"
   ]
  },
  {
   "cell_type": "markdown",
   "id": "6ac96ed5-5abc-44fa-bb59-7241fd7ae101",
   "metadata": {},
   "source": [
    "## 2. Importando Dados"
   ]
  },
  {
   "cell_type": "code",
   "execution_count": 4,
   "id": "271bb372-ee83-4c13-9055-19f2e77faac3",
   "metadata": {},
   "outputs": [
    {
     "data": {
      "text/plain": [
       "<torch._C.Generator at 0x122fcbf10>"
      ]
     },
     "execution_count": 4,
     "metadata": {},
     "output_type": "execute_result"
    }
   ],
   "source": [
    "np.random.seed(123)\n",
    "torch.manual_seed(123)"
   ]
  },
  {
   "cell_type": "code",
   "execution_count": 9,
   "id": "1d7417f2-4b8c-453c-987a-ac7ef76109f3",
   "metadata": {},
   "outputs": [],
   "source": [
    "previsores = pd.read_csv(\"data/entradas_breast.csv\")\n",
    "classe = pd.read_csv(\"data/saidas_breast.csv\")"
   ]
  },
  {
   "cell_type": "code",
   "execution_count": 10,
   "id": "752a6465-71e1-4f45-b804-17b3d11a7e3c",
   "metadata": {},
   "outputs": [],
   "source": [
    "previsores = torch.tensor(np.array(previsores), dtype=torch.float)\n",
    "classe = torch.tensor(np.array(classe), dtype=torch.float).squeeze(1)"
   ]
  },
  {
   "cell_type": "markdown",
   "id": "8960b164-9194-4c77-9fa9-9abc4cc9f86d",
   "metadata": {},
   "source": [
    "## 3. Classe para a rede neural"
   ]
  },
  {
   "cell_type": "code",
   "execution_count": null,
   "id": "7f938a2b-7635-41ca-aa0a-7db4492e9389",
   "metadata": {},
   "outputs": [],
   "source": []
  },
  {
   "cell_type": "code",
   "execution_count": null,
   "id": "2cf6cb9d-58be-4ecf-9c93-0aaf3e301a70",
   "metadata": {},
   "outputs": [],
   "source": []
  },
  {
   "cell_type": "code",
   "execution_count": null,
   "id": "df57a554-899b-4de0-90e5-26e4e65c7954",
   "metadata": {},
   "outputs": [],
   "source": []
  }
 ],
 "metadata": {
  "kernelspec": {
   "display_name": "Python 3 (ipykernel)",
   "language": "python",
   "name": "python3"
  },
  "language_info": {
   "codemirror_mode": {
    "name": "ipython",
    "version": 3
   },
   "file_extension": ".py",
   "mimetype": "text/x-python",
   "name": "python",
   "nbconvert_exporter": "python",
   "pygments_lexer": "ipython3",
   "version": "3.10.16"
  }
 },
 "nbformat": 4,
 "nbformat_minor": 5
}
