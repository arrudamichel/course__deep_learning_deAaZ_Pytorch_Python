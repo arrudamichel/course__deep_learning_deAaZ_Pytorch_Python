{
 "cells": [
  {
   "cell_type": "markdown",
   "id": "856556ab-19b4-4ec2-82a9-c7575a3d75ed",
   "metadata": {},
   "source": [
    "# Projeto 9 - Regressão Carros Usados - Validação Cruzada"
   ]
  },
  {
   "cell_type": "markdown",
   "id": "d3cad4be-89d3-49b0-b981-453cb9d1fe56",
   "metadata": {},
   "source": [
    "## 1. Importando bibliotecas"
   ]
  },
  {
   "cell_type": "code",
   "execution_count": 1,
   "id": "0f11442c-605b-4360-a48e-03afc5023f2e",
   "metadata": {},
   "outputs": [],
   "source": [
    "import pandas as pd\n",
    "import torch\n",
    "import numpy as np\n",
    "import seaborn as sns\n",
    "from torch import nn, optim\n",
    "import torch.nn.functional as F\n",
    "from sklearn.preprocessing import OneHotEncoder\n",
    "from sklearn.compose import ColumnTransformer\n",
    "\n",
    "from skorch import NeuralNetRegressor\n",
    "from sklearn.model_selection import cross_val_score\n"
   ]
  },
  {
   "cell_type": "markdown",
   "id": "e7bf0654-0dad-4877-a376-1cbaa5ae7f11",
   "metadata": {},
   "source": [
    "## 2. Importando a base de dados"
   ]
  },
  {
   "cell_type": "code",
   "execution_count": 2,
   "id": "d9694345-9e54-4652-b32d-56545b15abc4",
   "metadata": {},
   "outputs": [
    {
     "data": {
      "text/plain": [
       "<torch._C.Generator at 0x10de3ff10>"
      ]
     },
     "execution_count": 2,
     "metadata": {},
     "output_type": "execute_result"
    }
   ],
   "source": [
    "np.random.seed(123)\n",
    "torch.manual_seed(123)"
   ]
  },
  {
   "cell_type": "code",
   "execution_count": 3,
   "id": "565f5503-70a5-463e-ba01-83dc0592000a",
   "metadata": {},
   "outputs": [],
   "source": [
    "base = pd.read_csv(\"data/autos.csv\", encoding=\"ISO-8859-1\")"
   ]
  },
  {
   "cell_type": "code",
   "execution_count": 4,
   "id": "7e339293-2265-47c8-a6c2-5f9b2ae08bb9",
   "metadata": {},
   "outputs": [
    {
     "data": {
      "text/html": [
       "<div>\n",
       "<style scoped>\n",
       "    .dataframe tbody tr th:only-of-type {\n",
       "        vertical-align: middle;\n",
       "    }\n",
       "\n",
       "    .dataframe tbody tr th {\n",
       "        vertical-align: top;\n",
       "    }\n",
       "\n",
       "    .dataframe thead th {\n",
       "        text-align: right;\n",
       "    }\n",
       "</style>\n",
       "<table border=\"1\" class=\"dataframe\">\n",
       "  <thead>\n",
       "    <tr style=\"text-align: right;\">\n",
       "      <th></th>\n",
       "      <th>dateCrawled</th>\n",
       "      <th>name</th>\n",
       "      <th>seller</th>\n",
       "      <th>offerType</th>\n",
       "      <th>price</th>\n",
       "      <th>abtest</th>\n",
       "      <th>vehicleType</th>\n",
       "      <th>yearOfRegistration</th>\n",
       "      <th>gearbox</th>\n",
       "      <th>powerPS</th>\n",
       "      <th>model</th>\n",
       "      <th>kilometer</th>\n",
       "      <th>monthOfRegistration</th>\n",
       "      <th>fuelType</th>\n",
       "      <th>brand</th>\n",
       "      <th>notRepairedDamage</th>\n",
       "      <th>dateCreated</th>\n",
       "      <th>nrOfPictures</th>\n",
       "      <th>postalCode</th>\n",
       "      <th>lastSeen</th>\n",
       "    </tr>\n",
       "  </thead>\n",
       "  <tbody>\n",
       "    <tr>\n",
       "      <th>0</th>\n",
       "      <td>2016-03-24 11:52:17</td>\n",
       "      <td>Golf_3_1.6</td>\n",
       "      <td>privat</td>\n",
       "      <td>Angebot</td>\n",
       "      <td>480</td>\n",
       "      <td>test</td>\n",
       "      <td>NaN</td>\n",
       "      <td>1993</td>\n",
       "      <td>manuell</td>\n",
       "      <td>0</td>\n",
       "      <td>golf</td>\n",
       "      <td>150000</td>\n",
       "      <td>0</td>\n",
       "      <td>benzin</td>\n",
       "      <td>volkswagen</td>\n",
       "      <td>NaN</td>\n",
       "      <td>2016-03-24 00:00:00</td>\n",
       "      <td>0</td>\n",
       "      <td>70435</td>\n",
       "      <td>2016-04-07 03:16:57</td>\n",
       "    </tr>\n",
       "    <tr>\n",
       "      <th>1</th>\n",
       "      <td>2016-03-24 10:58:45</td>\n",
       "      <td>A5_Sportback_2.7_Tdi</td>\n",
       "      <td>privat</td>\n",
       "      <td>Angebot</td>\n",
       "      <td>18300</td>\n",
       "      <td>test</td>\n",
       "      <td>coupe</td>\n",
       "      <td>2011</td>\n",
       "      <td>manuell</td>\n",
       "      <td>190</td>\n",
       "      <td>NaN</td>\n",
       "      <td>125000</td>\n",
       "      <td>5</td>\n",
       "      <td>diesel</td>\n",
       "      <td>audi</td>\n",
       "      <td>ja</td>\n",
       "      <td>2016-03-24 00:00:00</td>\n",
       "      <td>0</td>\n",
       "      <td>66954</td>\n",
       "      <td>2016-04-07 01:46:50</td>\n",
       "    </tr>\n",
       "    <tr>\n",
       "      <th>2</th>\n",
       "      <td>2016-03-14 12:52:21</td>\n",
       "      <td>Jeep_Grand_Cherokee_\"Overland\"</td>\n",
       "      <td>privat</td>\n",
       "      <td>Angebot</td>\n",
       "      <td>9800</td>\n",
       "      <td>test</td>\n",
       "      <td>suv</td>\n",
       "      <td>2004</td>\n",
       "      <td>automatik</td>\n",
       "      <td>163</td>\n",
       "      <td>grand</td>\n",
       "      <td>125000</td>\n",
       "      <td>8</td>\n",
       "      <td>diesel</td>\n",
       "      <td>jeep</td>\n",
       "      <td>NaN</td>\n",
       "      <td>2016-03-14 00:00:00</td>\n",
       "      <td>0</td>\n",
       "      <td>90480</td>\n",
       "      <td>2016-04-05 12:47:46</td>\n",
       "    </tr>\n",
       "    <tr>\n",
       "      <th>3</th>\n",
       "      <td>2016-03-17 16:54:04</td>\n",
       "      <td>GOLF_4_1_4__3TÜRER</td>\n",
       "      <td>privat</td>\n",
       "      <td>Angebot</td>\n",
       "      <td>1500</td>\n",
       "      <td>test</td>\n",
       "      <td>kleinwagen</td>\n",
       "      <td>2001</td>\n",
       "      <td>manuell</td>\n",
       "      <td>75</td>\n",
       "      <td>golf</td>\n",
       "      <td>150000</td>\n",
       "      <td>6</td>\n",
       "      <td>benzin</td>\n",
       "      <td>volkswagen</td>\n",
       "      <td>nein</td>\n",
       "      <td>2016-03-17 00:00:00</td>\n",
       "      <td>0</td>\n",
       "      <td>91074</td>\n",
       "      <td>2016-03-17 17:40:17</td>\n",
       "    </tr>\n",
       "    <tr>\n",
       "      <th>4</th>\n",
       "      <td>2016-03-31 17:25:20</td>\n",
       "      <td>Skoda_Fabia_1.4_TDI_PD_Classic</td>\n",
       "      <td>privat</td>\n",
       "      <td>Angebot</td>\n",
       "      <td>3600</td>\n",
       "      <td>test</td>\n",
       "      <td>kleinwagen</td>\n",
       "      <td>2008</td>\n",
       "      <td>manuell</td>\n",
       "      <td>69</td>\n",
       "      <td>fabia</td>\n",
       "      <td>90000</td>\n",
       "      <td>7</td>\n",
       "      <td>diesel</td>\n",
       "      <td>skoda</td>\n",
       "      <td>nein</td>\n",
       "      <td>2016-03-31 00:00:00</td>\n",
       "      <td>0</td>\n",
       "      <td>60437</td>\n",
       "      <td>2016-04-06 10:17:21</td>\n",
       "    </tr>\n",
       "  </tbody>\n",
       "</table>\n",
       "</div>"
      ],
      "text/plain": [
       "           dateCrawled                            name  seller offerType  \\\n",
       "0  2016-03-24 11:52:17                      Golf_3_1.6  privat   Angebot   \n",
       "1  2016-03-24 10:58:45            A5_Sportback_2.7_Tdi  privat   Angebot   \n",
       "2  2016-03-14 12:52:21  Jeep_Grand_Cherokee_\"Overland\"  privat   Angebot   \n",
       "3  2016-03-17 16:54:04              GOLF_4_1_4__3TÜRER  privat   Angebot   \n",
       "4  2016-03-31 17:25:20  Skoda_Fabia_1.4_TDI_PD_Classic  privat   Angebot   \n",
       "\n",
       "   price abtest vehicleType  yearOfRegistration    gearbox  powerPS  model  \\\n",
       "0    480   test         NaN                1993    manuell        0   golf   \n",
       "1  18300   test       coupe                2011    manuell      190    NaN   \n",
       "2   9800   test         suv                2004  automatik      163  grand   \n",
       "3   1500   test  kleinwagen                2001    manuell       75   golf   \n",
       "4   3600   test  kleinwagen                2008    manuell       69  fabia   \n",
       "\n",
       "   kilometer  monthOfRegistration fuelType       brand notRepairedDamage  \\\n",
       "0     150000                    0   benzin  volkswagen               NaN   \n",
       "1     125000                    5   diesel        audi                ja   \n",
       "2     125000                    8   diesel        jeep               NaN   \n",
       "3     150000                    6   benzin  volkswagen              nein   \n",
       "4      90000                    7   diesel       skoda              nein   \n",
       "\n",
       "           dateCreated  nrOfPictures  postalCode             lastSeen  \n",
       "0  2016-03-24 00:00:00             0       70435  2016-04-07 03:16:57  \n",
       "1  2016-03-24 00:00:00             0       66954  2016-04-07 01:46:50  \n",
       "2  2016-03-14 00:00:00             0       90480  2016-04-05 12:47:46  \n",
       "3  2016-03-17 00:00:00             0       91074  2016-03-17 17:40:17  \n",
       "4  2016-03-31 00:00:00             0       60437  2016-04-06 10:17:21  "
      ]
     },
     "execution_count": 4,
     "metadata": {},
     "output_type": "execute_result"
    }
   ],
   "source": [
    "base.head(5)"
   ]
  },
  {
   "cell_type": "code",
   "execution_count": 5,
   "id": "8b9ff0bb-805c-4919-8ba6-896a66d4575e",
   "metadata": {},
   "outputs": [
    {
     "data": {
      "text/plain": [
       "0           480\n",
       "1         18300\n",
       "2          9800\n",
       "3          1500\n",
       "4          3600\n",
       "          ...  \n",
       "371523     2200\n",
       "371524     1199\n",
       "371525     9200\n",
       "371526     3400\n",
       "371527    28990\n",
       "Name: price, Length: 371528, dtype: int64"
      ]
     },
     "execution_count": 5,
     "metadata": {},
     "output_type": "execute_result"
    }
   ],
   "source": [
    "base[\"price\"]"
   ]
  },
  {
   "cell_type": "code",
   "execution_count": 6,
   "id": "5ef75e42-8fd5-4975-ae35-f089166680c9",
   "metadata": {},
   "outputs": [
    {
     "data": {
      "text/plain": [
       "Index(['dateCrawled', 'name', 'seller', 'offerType', 'price', 'abtest',\n",
       "       'vehicleType', 'yearOfRegistration', 'gearbox', 'powerPS', 'model',\n",
       "       'kilometer', 'monthOfRegistration', 'fuelType', 'brand',\n",
       "       'notRepairedDamage', 'dateCreated', 'nrOfPictures', 'postalCode',\n",
       "       'lastSeen'],\n",
       "      dtype='object')"
      ]
     },
     "execution_count": 6,
     "metadata": {},
     "output_type": "execute_result"
    }
   ],
   "source": [
    "base.columns"
   ]
  },
  {
   "cell_type": "code",
   "execution_count": 7,
   "id": "8e09da84-4678-4015-b5a8-47c4a01d3bbb",
   "metadata": {},
   "outputs": [],
   "source": [
    "base.drop(columns=[\"dateCrawled\", \"dateCreated\", \"nrOfPictures\", \"postalCode\", \"lastSeen\"], inplace=True)"
   ]
  },
  {
   "cell_type": "code",
   "execution_count": 8,
   "id": "383658e3-00bd-429a-9a97-0f06a6609f73",
   "metadata": {},
   "outputs": [
    {
     "data": {
      "text/plain": [
       "(371528, 15)"
      ]
     },
     "execution_count": 8,
     "metadata": {},
     "output_type": "execute_result"
    }
   ],
   "source": [
    "base.shape"
   ]
  },
  {
   "cell_type": "code",
   "execution_count": 9,
   "id": "c822e338-e34c-4d73-af7f-85a4c40be1a2",
   "metadata": {},
   "outputs": [
    {
     "data": {
      "text/html": [
       "<div>\n",
       "<style scoped>\n",
       "    .dataframe tbody tr th:only-of-type {\n",
       "        vertical-align: middle;\n",
       "    }\n",
       "\n",
       "    .dataframe tbody tr th {\n",
       "        vertical-align: top;\n",
       "    }\n",
       "\n",
       "    .dataframe thead th {\n",
       "        text-align: right;\n",
       "    }\n",
       "</style>\n",
       "<table border=\"1\" class=\"dataframe\">\n",
       "  <thead>\n",
       "    <tr style=\"text-align: right;\">\n",
       "      <th></th>\n",
       "      <th>name</th>\n",
       "      <th>seller</th>\n",
       "      <th>offerType</th>\n",
       "      <th>price</th>\n",
       "      <th>abtest</th>\n",
       "      <th>vehicleType</th>\n",
       "      <th>yearOfRegistration</th>\n",
       "      <th>gearbox</th>\n",
       "      <th>powerPS</th>\n",
       "      <th>model</th>\n",
       "      <th>kilometer</th>\n",
       "      <th>monthOfRegistration</th>\n",
       "      <th>fuelType</th>\n",
       "      <th>brand</th>\n",
       "      <th>notRepairedDamage</th>\n",
       "    </tr>\n",
       "  </thead>\n",
       "  <tbody>\n",
       "    <tr>\n",
       "      <th>0</th>\n",
       "      <td>Golf_3_1.6</td>\n",
       "      <td>privat</td>\n",
       "      <td>Angebot</td>\n",
       "      <td>480</td>\n",
       "      <td>test</td>\n",
       "      <td>NaN</td>\n",
       "      <td>1993</td>\n",
       "      <td>manuell</td>\n",
       "      <td>0</td>\n",
       "      <td>golf</td>\n",
       "      <td>150000</td>\n",
       "      <td>0</td>\n",
       "      <td>benzin</td>\n",
       "      <td>volkswagen</td>\n",
       "      <td>NaN</td>\n",
       "    </tr>\n",
       "    <tr>\n",
       "      <th>1</th>\n",
       "      <td>A5_Sportback_2.7_Tdi</td>\n",
       "      <td>privat</td>\n",
       "      <td>Angebot</td>\n",
       "      <td>18300</td>\n",
       "      <td>test</td>\n",
       "      <td>coupe</td>\n",
       "      <td>2011</td>\n",
       "      <td>manuell</td>\n",
       "      <td>190</td>\n",
       "      <td>NaN</td>\n",
       "      <td>125000</td>\n",
       "      <td>5</td>\n",
       "      <td>diesel</td>\n",
       "      <td>audi</td>\n",
       "      <td>ja</td>\n",
       "    </tr>\n",
       "    <tr>\n",
       "      <th>2</th>\n",
       "      <td>Jeep_Grand_Cherokee_\"Overland\"</td>\n",
       "      <td>privat</td>\n",
       "      <td>Angebot</td>\n",
       "      <td>9800</td>\n",
       "      <td>test</td>\n",
       "      <td>suv</td>\n",
       "      <td>2004</td>\n",
       "      <td>automatik</td>\n",
       "      <td>163</td>\n",
       "      <td>grand</td>\n",
       "      <td>125000</td>\n",
       "      <td>8</td>\n",
       "      <td>diesel</td>\n",
       "      <td>jeep</td>\n",
       "      <td>NaN</td>\n",
       "    </tr>\n",
       "    <tr>\n",
       "      <th>3</th>\n",
       "      <td>GOLF_4_1_4__3TÜRER</td>\n",
       "      <td>privat</td>\n",
       "      <td>Angebot</td>\n",
       "      <td>1500</td>\n",
       "      <td>test</td>\n",
       "      <td>kleinwagen</td>\n",
       "      <td>2001</td>\n",
       "      <td>manuell</td>\n",
       "      <td>75</td>\n",
       "      <td>golf</td>\n",
       "      <td>150000</td>\n",
       "      <td>6</td>\n",
       "      <td>benzin</td>\n",
       "      <td>volkswagen</td>\n",
       "      <td>nein</td>\n",
       "    </tr>\n",
       "    <tr>\n",
       "      <th>4</th>\n",
       "      <td>Skoda_Fabia_1.4_TDI_PD_Classic</td>\n",
       "      <td>privat</td>\n",
       "      <td>Angebot</td>\n",
       "      <td>3600</td>\n",
       "      <td>test</td>\n",
       "      <td>kleinwagen</td>\n",
       "      <td>2008</td>\n",
       "      <td>manuell</td>\n",
       "      <td>69</td>\n",
       "      <td>fabia</td>\n",
       "      <td>90000</td>\n",
       "      <td>7</td>\n",
       "      <td>diesel</td>\n",
       "      <td>skoda</td>\n",
       "      <td>nein</td>\n",
       "    </tr>\n",
       "  </tbody>\n",
       "</table>\n",
       "</div>"
      ],
      "text/plain": [
       "                             name  seller offerType  price abtest vehicleType  \\\n",
       "0                      Golf_3_1.6  privat   Angebot    480   test         NaN   \n",
       "1            A5_Sportback_2.7_Tdi  privat   Angebot  18300   test       coupe   \n",
       "2  Jeep_Grand_Cherokee_\"Overland\"  privat   Angebot   9800   test         suv   \n",
       "3              GOLF_4_1_4__3TÜRER  privat   Angebot   1500   test  kleinwagen   \n",
       "4  Skoda_Fabia_1.4_TDI_PD_Classic  privat   Angebot   3600   test  kleinwagen   \n",
       "\n",
       "   yearOfRegistration    gearbox  powerPS  model  kilometer  \\\n",
       "0                1993    manuell        0   golf     150000   \n",
       "1                2011    manuell      190    NaN     125000   \n",
       "2                2004  automatik      163  grand     125000   \n",
       "3                2001    manuell       75   golf     150000   \n",
       "4                2008    manuell       69  fabia      90000   \n",
       "\n",
       "   monthOfRegistration fuelType       brand notRepairedDamage  \n",
       "0                    0   benzin  volkswagen               NaN  \n",
       "1                    5   diesel        audi                ja  \n",
       "2                    8   diesel        jeep               NaN  \n",
       "3                    6   benzin  volkswagen              nein  \n",
       "4                    7   diesel       skoda              nein  "
      ]
     },
     "execution_count": 9,
     "metadata": {},
     "output_type": "execute_result"
    }
   ],
   "source": [
    "base.head()"
   ]
  },
  {
   "cell_type": "code",
   "execution_count": 10,
   "id": "f479fc9f-4ab4-42e6-a4ba-8dd31f3d0be3",
   "metadata": {},
   "outputs": [
    {
     "data": {
      "text/plain": [
       "name\n",
       "Ford_Fiesta                                              657\n",
       "BMW_318i                                                 627\n",
       "Opel_Corsa                                               622\n",
       "Volkswagen_Golf_1.4                                      603\n",
       "BMW_316i                                                 523\n",
       "                                                        ... \n",
       "Audi_A4_Avant_Klima_Gruene_Plakette_TÜV_&AU_NEU_XENON      1\n",
       "Renault_clio_in_gold_450VB_!!                              1\n",
       "Fiat_Doblo_1.6_Multijet                                    1\n",
       "Renault_Laguna_1                                           1\n",
       "BMW_M135i_vollausgestattet_NP_52.720____Euro               1\n",
       "Name: count, Length: 233531, dtype: int64"
      ]
     },
     "execution_count": 10,
     "metadata": {},
     "output_type": "execute_result"
    }
   ],
   "source": [
    "base[\"name\"].value_counts()"
   ]
  },
  {
   "cell_type": "code",
   "execution_count": 11,
   "id": "1586761e-cf1e-49c1-adaa-d2029eb3e4bf",
   "metadata": {},
   "outputs": [],
   "source": [
    "base.drop(\"name\", axis=1, inplace=True)"
   ]
  },
  {
   "cell_type": "code",
   "execution_count": 12,
   "id": "be476bf5-626c-4a8b-b245-5a5ae3641565",
   "metadata": {},
   "outputs": [
    {
     "data": {
      "text/html": [
       "<div>\n",
       "<style scoped>\n",
       "    .dataframe tbody tr th:only-of-type {\n",
       "        vertical-align: middle;\n",
       "    }\n",
       "\n",
       "    .dataframe tbody tr th {\n",
       "        vertical-align: top;\n",
       "    }\n",
       "\n",
       "    .dataframe thead th {\n",
       "        text-align: right;\n",
       "    }\n",
       "</style>\n",
       "<table border=\"1\" class=\"dataframe\">\n",
       "  <thead>\n",
       "    <tr style=\"text-align: right;\">\n",
       "      <th></th>\n",
       "      <th>seller</th>\n",
       "      <th>offerType</th>\n",
       "      <th>price</th>\n",
       "      <th>abtest</th>\n",
       "      <th>vehicleType</th>\n",
       "      <th>yearOfRegistration</th>\n",
       "      <th>gearbox</th>\n",
       "      <th>powerPS</th>\n",
       "      <th>model</th>\n",
       "      <th>kilometer</th>\n",
       "      <th>monthOfRegistration</th>\n",
       "      <th>fuelType</th>\n",
       "      <th>brand</th>\n",
       "      <th>notRepairedDamage</th>\n",
       "    </tr>\n",
       "  </thead>\n",
       "  <tbody>\n",
       "    <tr>\n",
       "      <th>0</th>\n",
       "      <td>privat</td>\n",
       "      <td>Angebot</td>\n",
       "      <td>480</td>\n",
       "      <td>test</td>\n",
       "      <td>NaN</td>\n",
       "      <td>1993</td>\n",
       "      <td>manuell</td>\n",
       "      <td>0</td>\n",
       "      <td>golf</td>\n",
       "      <td>150000</td>\n",
       "      <td>0</td>\n",
       "      <td>benzin</td>\n",
       "      <td>volkswagen</td>\n",
       "      <td>NaN</td>\n",
       "    </tr>\n",
       "    <tr>\n",
       "      <th>1</th>\n",
       "      <td>privat</td>\n",
       "      <td>Angebot</td>\n",
       "      <td>18300</td>\n",
       "      <td>test</td>\n",
       "      <td>coupe</td>\n",
       "      <td>2011</td>\n",
       "      <td>manuell</td>\n",
       "      <td>190</td>\n",
       "      <td>NaN</td>\n",
       "      <td>125000</td>\n",
       "      <td>5</td>\n",
       "      <td>diesel</td>\n",
       "      <td>audi</td>\n",
       "      <td>ja</td>\n",
       "    </tr>\n",
       "    <tr>\n",
       "      <th>2</th>\n",
       "      <td>privat</td>\n",
       "      <td>Angebot</td>\n",
       "      <td>9800</td>\n",
       "      <td>test</td>\n",
       "      <td>suv</td>\n",
       "      <td>2004</td>\n",
       "      <td>automatik</td>\n",
       "      <td>163</td>\n",
       "      <td>grand</td>\n",
       "      <td>125000</td>\n",
       "      <td>8</td>\n",
       "      <td>diesel</td>\n",
       "      <td>jeep</td>\n",
       "      <td>NaN</td>\n",
       "    </tr>\n",
       "    <tr>\n",
       "      <th>3</th>\n",
       "      <td>privat</td>\n",
       "      <td>Angebot</td>\n",
       "      <td>1500</td>\n",
       "      <td>test</td>\n",
       "      <td>kleinwagen</td>\n",
       "      <td>2001</td>\n",
       "      <td>manuell</td>\n",
       "      <td>75</td>\n",
       "      <td>golf</td>\n",
       "      <td>150000</td>\n",
       "      <td>6</td>\n",
       "      <td>benzin</td>\n",
       "      <td>volkswagen</td>\n",
       "      <td>nein</td>\n",
       "    </tr>\n",
       "    <tr>\n",
       "      <th>4</th>\n",
       "      <td>privat</td>\n",
       "      <td>Angebot</td>\n",
       "      <td>3600</td>\n",
       "      <td>test</td>\n",
       "      <td>kleinwagen</td>\n",
       "      <td>2008</td>\n",
       "      <td>manuell</td>\n",
       "      <td>69</td>\n",
       "      <td>fabia</td>\n",
       "      <td>90000</td>\n",
       "      <td>7</td>\n",
       "      <td>diesel</td>\n",
       "      <td>skoda</td>\n",
       "      <td>nein</td>\n",
       "    </tr>\n",
       "  </tbody>\n",
       "</table>\n",
       "</div>"
      ],
      "text/plain": [
       "   seller offerType  price abtest vehicleType  yearOfRegistration    gearbox  \\\n",
       "0  privat   Angebot    480   test         NaN                1993    manuell   \n",
       "1  privat   Angebot  18300   test       coupe                2011    manuell   \n",
       "2  privat   Angebot   9800   test         suv                2004  automatik   \n",
       "3  privat   Angebot   1500   test  kleinwagen                2001    manuell   \n",
       "4  privat   Angebot   3600   test  kleinwagen                2008    manuell   \n",
       "\n",
       "   powerPS  model  kilometer  monthOfRegistration fuelType       brand  \\\n",
       "0        0   golf     150000                    0   benzin  volkswagen   \n",
       "1      190    NaN     125000                    5   diesel        audi   \n",
       "2      163  grand     125000                    8   diesel        jeep   \n",
       "3       75   golf     150000                    6   benzin  volkswagen   \n",
       "4       69  fabia      90000                    7   diesel       skoda   \n",
       "\n",
       "  notRepairedDamage  \n",
       "0               NaN  \n",
       "1                ja  \n",
       "2               NaN  \n",
       "3              nein  \n",
       "4              nein  "
      ]
     },
     "execution_count": 12,
     "metadata": {},
     "output_type": "execute_result"
    }
   ],
   "source": [
    "base.head()"
   ]
  },
  {
   "cell_type": "code",
   "execution_count": 13,
   "id": "428a5927-2da1-4d62-aa12-0eff737ff203",
   "metadata": {},
   "outputs": [
    {
     "data": {
      "text/plain": [
       "seller\n",
       "privat        371525\n",
       "gewerblich         3\n",
       "Name: count, dtype: int64"
      ]
     },
     "execution_count": 13,
     "metadata": {},
     "output_type": "execute_result"
    }
   ],
   "source": [
    "base.seller.value_counts()"
   ]
  },
  {
   "cell_type": "code",
   "execution_count": 14,
   "id": "4946f8ce-d833-45ac-a38c-efdf6ea1782b",
   "metadata": {},
   "outputs": [],
   "source": [
    "base.drop(\"seller\", axis=1, inplace=True)"
   ]
  },
  {
   "cell_type": "code",
   "execution_count": 15,
   "id": "d2ccd51b-c2b1-401c-ab8f-8bd13dc1a5b1",
   "metadata": {},
   "outputs": [
    {
     "data": {
      "text/html": [
       "<div>\n",
       "<style scoped>\n",
       "    .dataframe tbody tr th:only-of-type {\n",
       "        vertical-align: middle;\n",
       "    }\n",
       "\n",
       "    .dataframe tbody tr th {\n",
       "        vertical-align: top;\n",
       "    }\n",
       "\n",
       "    .dataframe thead th {\n",
       "        text-align: right;\n",
       "    }\n",
       "</style>\n",
       "<table border=\"1\" class=\"dataframe\">\n",
       "  <thead>\n",
       "    <tr style=\"text-align: right;\">\n",
       "      <th></th>\n",
       "      <th>offerType</th>\n",
       "      <th>price</th>\n",
       "      <th>abtest</th>\n",
       "      <th>vehicleType</th>\n",
       "      <th>yearOfRegistration</th>\n",
       "      <th>gearbox</th>\n",
       "      <th>powerPS</th>\n",
       "      <th>model</th>\n",
       "      <th>kilometer</th>\n",
       "      <th>monthOfRegistration</th>\n",
       "      <th>fuelType</th>\n",
       "      <th>brand</th>\n",
       "      <th>notRepairedDamage</th>\n",
       "    </tr>\n",
       "  </thead>\n",
       "  <tbody>\n",
       "    <tr>\n",
       "      <th>0</th>\n",
       "      <td>Angebot</td>\n",
       "      <td>480</td>\n",
       "      <td>test</td>\n",
       "      <td>NaN</td>\n",
       "      <td>1993</td>\n",
       "      <td>manuell</td>\n",
       "      <td>0</td>\n",
       "      <td>golf</td>\n",
       "      <td>150000</td>\n",
       "      <td>0</td>\n",
       "      <td>benzin</td>\n",
       "      <td>volkswagen</td>\n",
       "      <td>NaN</td>\n",
       "    </tr>\n",
       "    <tr>\n",
       "      <th>1</th>\n",
       "      <td>Angebot</td>\n",
       "      <td>18300</td>\n",
       "      <td>test</td>\n",
       "      <td>coupe</td>\n",
       "      <td>2011</td>\n",
       "      <td>manuell</td>\n",
       "      <td>190</td>\n",
       "      <td>NaN</td>\n",
       "      <td>125000</td>\n",
       "      <td>5</td>\n",
       "      <td>diesel</td>\n",
       "      <td>audi</td>\n",
       "      <td>ja</td>\n",
       "    </tr>\n",
       "    <tr>\n",
       "      <th>2</th>\n",
       "      <td>Angebot</td>\n",
       "      <td>9800</td>\n",
       "      <td>test</td>\n",
       "      <td>suv</td>\n",
       "      <td>2004</td>\n",
       "      <td>automatik</td>\n",
       "      <td>163</td>\n",
       "      <td>grand</td>\n",
       "      <td>125000</td>\n",
       "      <td>8</td>\n",
       "      <td>diesel</td>\n",
       "      <td>jeep</td>\n",
       "      <td>NaN</td>\n",
       "    </tr>\n",
       "    <tr>\n",
       "      <th>3</th>\n",
       "      <td>Angebot</td>\n",
       "      <td>1500</td>\n",
       "      <td>test</td>\n",
       "      <td>kleinwagen</td>\n",
       "      <td>2001</td>\n",
       "      <td>manuell</td>\n",
       "      <td>75</td>\n",
       "      <td>golf</td>\n",
       "      <td>150000</td>\n",
       "      <td>6</td>\n",
       "      <td>benzin</td>\n",
       "      <td>volkswagen</td>\n",
       "      <td>nein</td>\n",
       "    </tr>\n",
       "    <tr>\n",
       "      <th>4</th>\n",
       "      <td>Angebot</td>\n",
       "      <td>3600</td>\n",
       "      <td>test</td>\n",
       "      <td>kleinwagen</td>\n",
       "      <td>2008</td>\n",
       "      <td>manuell</td>\n",
       "      <td>69</td>\n",
       "      <td>fabia</td>\n",
       "      <td>90000</td>\n",
       "      <td>7</td>\n",
       "      <td>diesel</td>\n",
       "      <td>skoda</td>\n",
       "      <td>nein</td>\n",
       "    </tr>\n",
       "  </tbody>\n",
       "</table>\n",
       "</div>"
      ],
      "text/plain": [
       "  offerType  price abtest vehicleType  yearOfRegistration    gearbox  powerPS  \\\n",
       "0   Angebot    480   test         NaN                1993    manuell        0   \n",
       "1   Angebot  18300   test       coupe                2011    manuell      190   \n",
       "2   Angebot   9800   test         suv                2004  automatik      163   \n",
       "3   Angebot   1500   test  kleinwagen                2001    manuell       75   \n",
       "4   Angebot   3600   test  kleinwagen                2008    manuell       69   \n",
       "\n",
       "   model  kilometer  monthOfRegistration fuelType       brand  \\\n",
       "0   golf     150000                    0   benzin  volkswagen   \n",
       "1    NaN     125000                    5   diesel        audi   \n",
       "2  grand     125000                    8   diesel        jeep   \n",
       "3   golf     150000                    6   benzin  volkswagen   \n",
       "4  fabia      90000                    7   diesel       skoda   \n",
       "\n",
       "  notRepairedDamage  \n",
       "0               NaN  \n",
       "1                ja  \n",
       "2               NaN  \n",
       "3              nein  \n",
       "4              nein  "
      ]
     },
     "execution_count": 15,
     "metadata": {},
     "output_type": "execute_result"
    }
   ],
   "source": [
    "base.head()"
   ]
  },
  {
   "cell_type": "code",
   "execution_count": 16,
   "id": "595fec14-2be2-4d2a-b77d-8542573be6ac",
   "metadata": {},
   "outputs": [
    {
     "data": {
      "text/plain": [
       "offerType\n",
       "Angebot    371516\n",
       "Gesuch         12\n",
       "Name: count, dtype: int64"
      ]
     },
     "execution_count": 16,
     "metadata": {},
     "output_type": "execute_result"
    }
   ],
   "source": [
    "base.offerType.value_counts()"
   ]
  },
  {
   "cell_type": "code",
   "execution_count": 17,
   "id": "705a19c4-e49c-4128-9c97-04c524c80d85",
   "metadata": {},
   "outputs": [],
   "source": [
    "base.drop(\"offerType\", axis=1, inplace=True)"
   ]
  },
  {
   "cell_type": "code",
   "execution_count": 18,
   "id": "16d4edb6-2f0c-4682-8e6a-4c71a63ab3f1",
   "metadata": {},
   "outputs": [
    {
     "data": {
      "text/html": [
       "<div>\n",
       "<style scoped>\n",
       "    .dataframe tbody tr th:only-of-type {\n",
       "        vertical-align: middle;\n",
       "    }\n",
       "\n",
       "    .dataframe tbody tr th {\n",
       "        vertical-align: top;\n",
       "    }\n",
       "\n",
       "    .dataframe thead th {\n",
       "        text-align: right;\n",
       "    }\n",
       "</style>\n",
       "<table border=\"1\" class=\"dataframe\">\n",
       "  <thead>\n",
       "    <tr style=\"text-align: right;\">\n",
       "      <th></th>\n",
       "      <th>price</th>\n",
       "      <th>abtest</th>\n",
       "      <th>vehicleType</th>\n",
       "      <th>yearOfRegistration</th>\n",
       "      <th>gearbox</th>\n",
       "      <th>powerPS</th>\n",
       "      <th>model</th>\n",
       "      <th>kilometer</th>\n",
       "      <th>monthOfRegistration</th>\n",
       "      <th>fuelType</th>\n",
       "      <th>brand</th>\n",
       "      <th>notRepairedDamage</th>\n",
       "    </tr>\n",
       "  </thead>\n",
       "  <tbody>\n",
       "    <tr>\n",
       "      <th>0</th>\n",
       "      <td>480</td>\n",
       "      <td>test</td>\n",
       "      <td>NaN</td>\n",
       "      <td>1993</td>\n",
       "      <td>manuell</td>\n",
       "      <td>0</td>\n",
       "      <td>golf</td>\n",
       "      <td>150000</td>\n",
       "      <td>0</td>\n",
       "      <td>benzin</td>\n",
       "      <td>volkswagen</td>\n",
       "      <td>NaN</td>\n",
       "    </tr>\n",
       "    <tr>\n",
       "      <th>1</th>\n",
       "      <td>18300</td>\n",
       "      <td>test</td>\n",
       "      <td>coupe</td>\n",
       "      <td>2011</td>\n",
       "      <td>manuell</td>\n",
       "      <td>190</td>\n",
       "      <td>NaN</td>\n",
       "      <td>125000</td>\n",
       "      <td>5</td>\n",
       "      <td>diesel</td>\n",
       "      <td>audi</td>\n",
       "      <td>ja</td>\n",
       "    </tr>\n",
       "    <tr>\n",
       "      <th>2</th>\n",
       "      <td>9800</td>\n",
       "      <td>test</td>\n",
       "      <td>suv</td>\n",
       "      <td>2004</td>\n",
       "      <td>automatik</td>\n",
       "      <td>163</td>\n",
       "      <td>grand</td>\n",
       "      <td>125000</td>\n",
       "      <td>8</td>\n",
       "      <td>diesel</td>\n",
       "      <td>jeep</td>\n",
       "      <td>NaN</td>\n",
       "    </tr>\n",
       "    <tr>\n",
       "      <th>3</th>\n",
       "      <td>1500</td>\n",
       "      <td>test</td>\n",
       "      <td>kleinwagen</td>\n",
       "      <td>2001</td>\n",
       "      <td>manuell</td>\n",
       "      <td>75</td>\n",
       "      <td>golf</td>\n",
       "      <td>150000</td>\n",
       "      <td>6</td>\n",
       "      <td>benzin</td>\n",
       "      <td>volkswagen</td>\n",
       "      <td>nein</td>\n",
       "    </tr>\n",
       "    <tr>\n",
       "      <th>4</th>\n",
       "      <td>3600</td>\n",
       "      <td>test</td>\n",
       "      <td>kleinwagen</td>\n",
       "      <td>2008</td>\n",
       "      <td>manuell</td>\n",
       "      <td>69</td>\n",
       "      <td>fabia</td>\n",
       "      <td>90000</td>\n",
       "      <td>7</td>\n",
       "      <td>diesel</td>\n",
       "      <td>skoda</td>\n",
       "      <td>nein</td>\n",
       "    </tr>\n",
       "  </tbody>\n",
       "</table>\n",
       "</div>"
      ],
      "text/plain": [
       "   price abtest vehicleType  yearOfRegistration    gearbox  powerPS  model  \\\n",
       "0    480   test         NaN                1993    manuell        0   golf   \n",
       "1  18300   test       coupe                2011    manuell      190    NaN   \n",
       "2   9800   test         suv                2004  automatik      163  grand   \n",
       "3   1500   test  kleinwagen                2001    manuell       75   golf   \n",
       "4   3600   test  kleinwagen                2008    manuell       69  fabia   \n",
       "\n",
       "   kilometer  monthOfRegistration fuelType       brand notRepairedDamage  \n",
       "0     150000                    0   benzin  volkswagen               NaN  \n",
       "1     125000                    5   diesel        audi                ja  \n",
       "2     125000                    8   diesel        jeep               NaN  \n",
       "3     150000                    6   benzin  volkswagen              nein  \n",
       "4      90000                    7   diesel       skoda              nein  "
      ]
     },
     "execution_count": 18,
     "metadata": {},
     "output_type": "execute_result"
    }
   ],
   "source": [
    "base.head()"
   ]
  },
  {
   "cell_type": "code",
   "execution_count": 19,
   "id": "09f53e8d-df3d-41b4-bd4d-505497230ef1",
   "metadata": {},
   "outputs": [
    {
     "data": {
      "text/plain": [
       "(12118, 12)"
      ]
     },
     "execution_count": 19,
     "metadata": {},
     "output_type": "execute_result"
    }
   ],
   "source": [
    "i1 = base.loc[base.price <= 10]\n",
    "i1.shape"
   ]
  },
  {
   "cell_type": "code",
   "execution_count": 20,
   "id": "22bb8d42-b569-462f-ab52-76ca330c4542",
   "metadata": {},
   "outputs": [],
   "source": [
    "base = base[base.price > 10]"
   ]
  },
  {
   "cell_type": "code",
   "execution_count": 21,
   "id": "87f33bdd-74cf-488f-8d36-82c80b1719a4",
   "metadata": {},
   "outputs": [
    {
     "data": {
      "text/plain": [
       "(359410, 12)"
      ]
     },
     "execution_count": 21,
     "metadata": {},
     "output_type": "execute_result"
    }
   ],
   "source": [
    "base.shape"
   ]
  },
  {
   "cell_type": "code",
   "execution_count": 22,
   "id": "32a986a2-def6-4ba4-b6cd-4eb43d85c244",
   "metadata": {},
   "outputs": [
    {
     "data": {
      "text/plain": [
       "(115, 12)"
      ]
     },
     "execution_count": 22,
     "metadata": {},
     "output_type": "execute_result"
    }
   ],
   "source": [
    "i2 = base.loc[base.price > 350000]\n",
    "i2.shape"
   ]
  },
  {
   "cell_type": "code",
   "execution_count": 23,
   "id": "dd376cec-a1aa-4929-b0a8-5f873294f3d3",
   "metadata": {},
   "outputs": [],
   "source": [
    "base = base[base.price < 350000]"
   ]
  },
  {
   "cell_type": "code",
   "execution_count": 24,
   "id": "f9cae7ae-b48a-481f-a8f5-a96a5d4152cf",
   "metadata": {},
   "outputs": [
    {
     "data": {
      "text/plain": [
       "(359291, 12)"
      ]
     },
     "execution_count": 24,
     "metadata": {},
     "output_type": "execute_result"
    }
   ],
   "source": [
    "base.shape"
   ]
  },
  {
   "cell_type": "code",
   "execution_count": 25,
   "id": "3fa77d00-b22b-4046-a41e-b9fea7f8e47c",
   "metadata": {},
   "outputs": [
    {
     "data": {
      "text/plain": [
       "<Axes: >"
      ]
     },
     "execution_count": 25,
     "metadata": {},
     "output_type": "execute_result"
    },
    {
     "data": {
      "image/png": "[encoded data removed]",
      "text/plain": [
       "<Figure size 640x480 with 2 Axes>"
      ]
     },
     "metadata": {},
     "output_type": "display_data"
    }
   ],
   "source": [
    "sns.heatmap(base.isnull())"
   ]
  },
  {
   "cell_type": "code",
   "execution_count": 26,
   "id": "6799247e-ccbb-470c-994b-c02c075ca71f",
   "metadata": {},
   "outputs": [
    {
     "data": {
      "text/plain": [
       "(33546, 12)"
      ]
     },
     "execution_count": 26,
     "metadata": {},
     "output_type": "execute_result"
    }
   ],
   "source": [
    "base.loc[pd.isnull(base[\"vehicleType\"])].shape"
   ]
  },
  {
   "cell_type": "code",
   "execution_count": 27,
   "id": "5085cc42-bd17-4d64-b050-def5bc3166d4",
   "metadata": {},
   "outputs": [
    {
     "data": {
      "text/plain": [
       "vehicleType\n",
       "limousine     93614\n",
       "kleinwagen    78014\n",
       "kombi         65921\n",
       "bus           29699\n",
       "cabrio        22509\n",
       "coupe         18386\n",
       "suv           14477\n",
       "andere         3125\n",
       "Name: count, dtype: int64"
      ]
     },
     "execution_count": 27,
     "metadata": {},
     "output_type": "execute_result"
    }
   ],
   "source": [
    "base[\"vehicleType\"].value_counts() #limousine"
   ]
  },
  {
   "cell_type": "code",
   "execution_count": 28,
   "id": "4b14e31f-9f07-4453-8400-20bf751c61a6",
   "metadata": {},
   "outputs": [
    {
     "data": {
      "text/plain": [
       "(17236, 12)"
      ]
     },
     "execution_count": 28,
     "metadata": {},
     "output_type": "execute_result"
    }
   ],
   "source": [
    "base.loc[pd.isnull(base[\"gearbox\"])].shape"
   ]
  },
  {
   "cell_type": "code",
   "execution_count": 29,
   "id": "80bd3faa-1f12-418b-94ca-d1a01525b073",
   "metadata": {},
   "outputs": [
    {
     "data": {
      "text/plain": [
       "gearbox\n",
       "manuell      266547\n",
       "automatik     75508\n",
       "Name: count, dtype: int64"
      ]
     },
     "execution_count": 29,
     "metadata": {},
     "output_type": "execute_result"
    }
   ],
   "source": [
    "base[\"gearbox\"].value_counts() #manuell"
   ]
  },
  {
   "cell_type": "code",
   "execution_count": 30,
   "id": "1fa63019-e4d0-42fc-a230-9da67606cc00",
   "metadata": {},
   "outputs": [
    {
     "data": {
      "text/plain": [
       "(17967, 12)"
      ]
     },
     "execution_count": 30,
     "metadata": {},
     "output_type": "execute_result"
    }
   ],
   "source": [
    "base.loc[pd.isnull(base[\"model\"])].shape"
   ]
  },
  {
   "cell_type": "code",
   "execution_count": 31,
   "id": "6d5d00de-f10c-4540-b5c8-2caaf3ebca89",
   "metadata": {},
   "outputs": [
    {
     "data": {
      "text/plain": [
       "model\n",
       "golf               28989\n",
       "andere             25560\n",
       "3er                19905\n",
       "polo               12604\n",
       "corsa              12149\n",
       "                   ...  \n",
       "serie_2                8\n",
       "rangerover             6\n",
       "serie_3                3\n",
       "serie_1                1\n",
       "discovery_sport        1\n",
       "Name: count, Length: 251, dtype: int64"
      ]
     },
     "execution_count": 31,
     "metadata": {},
     "output_type": "execute_result"
    }
   ],
   "source": [
    "base[\"model\"].value_counts() #golf"
   ]
  },
  {
   "cell_type": "code",
   "execution_count": 32,
   "id": "ce026138-d962-4e46-b46e-4d791ad46ed1",
   "metadata": {},
   "outputs": [
    {
     "data": {
      "text/plain": [
       "(29391, 12)"
      ]
     },
     "execution_count": 32,
     "metadata": {},
     "output_type": "execute_result"
    }
   ],
   "source": [
    "base.loc[pd.isnull(base[\"fuelType\"])].shape"
   ]
  },
  {
   "cell_type": "code",
   "execution_count": 33,
   "id": "372eea55-9c98-4156-9a6f-03d775b19ae1",
   "metadata": {},
   "outputs": [
    {
     "data": {
      "text/plain": [
       "fuelType\n",
       "benzin     217582\n",
       "diesel     106002\n",
       "lpg          5222\n",
       "cng           557\n",
       "hybrid        271\n",
       "andere        165\n",
       "elektro       101\n",
       "Name: count, dtype: int64"
      ]
     },
     "execution_count": 33,
     "metadata": {},
     "output_type": "execute_result"
    }
   ],
   "source": [
    "base[\"fuelType\"].value_counts() #benzin"
   ]
  },
  {
   "cell_type": "code",
   "execution_count": 34,
   "id": "c643af54-5b51-45bc-a3a6-a061b11b6c00",
   "metadata": {},
   "outputs": [
    {
     "data": {
      "text/plain": [
       "(65986, 12)"
      ]
     },
     "execution_count": 34,
     "metadata": {},
     "output_type": "execute_result"
    }
   ],
   "source": [
    "base.loc[pd.isnull(base[\"notRepairedDamage\"])].shape"
   ]
  },
  {
   "cell_type": "code",
   "execution_count": 35,
   "id": "076c1f33-496a-4f7e-a141-0056c044e99a",
   "metadata": {},
   "outputs": [
    {
     "data": {
      "text/plain": [
       "notRepairedDamage\n",
       "nein    259301\n",
       "ja       34004\n",
       "Name: count, dtype: int64"
      ]
     },
     "execution_count": 35,
     "metadata": {},
     "output_type": "execute_result"
    }
   ],
   "source": [
    "base[\"notRepairedDamage\"].value_counts()"
   ]
  },
  {
   "cell_type": "code",
   "execution_count": 36,
   "id": "b56d0c4f-86f2-4ac4-9b34-1d99c0c59c14",
   "metadata": {},
   "outputs": [],
   "source": [
    "valores = {\"vehicleType\": \"limousine\",\n",
    "           \"gearbox\": \"manuell\",\n",
    "           \"model\": \"golf\",\n",
    "           \"fuelType\": \"benzin\",\n",
    "           \"notRepairedDamage\": \"nein\"\n",
    "}"
   ]
  },
  {
   "cell_type": "code",
   "execution_count": 37,
   "id": "ef5afc02-4a58-4382-826e-a33c7aeb219a",
   "metadata": {},
   "outputs": [],
   "source": [
    "base = base.fillna(value = valores)"
   ]
  },
  {
   "cell_type": "code",
   "execution_count": 38,
   "id": "7baac2b1-47e0-4fc4-be48-dff5084c34d0",
   "metadata": {},
   "outputs": [
    {
     "data": {
      "text/plain": [
       "price                  0\n",
       "abtest                 0\n",
       "vehicleType            0\n",
       "yearOfRegistration     0\n",
       "gearbox                0\n",
       "powerPS                0\n",
       "model                  0\n",
       "kilometer              0\n",
       "monthOfRegistration    0\n",
       "fuelType               0\n",
       "brand                  0\n",
       "notRepairedDamage      0\n",
       "dtype: int64"
      ]
     },
     "execution_count": 38,
     "metadata": {},
     "output_type": "execute_result"
    }
   ],
   "source": [
    "base.isna().sum()"
   ]
  },
  {
   "cell_type": "code",
   "execution_count": 39,
   "id": "8eb040ad-79b9-4e2f-b6f1-e224089896da",
   "metadata": {},
   "outputs": [],
   "source": [
    "preco_real = base[\"price\"]"
   ]
  },
  {
   "cell_type": "code",
   "execution_count": 40,
   "id": "831b1e1a-120a-4096-a82c-2b9bf5f2d85b",
   "metadata": {},
   "outputs": [],
   "source": [
    "previsores = base.drop(columns=\"price\")"
   ]
  },
  {
   "cell_type": "code",
   "execution_count": 41,
   "id": "8d9d7a47-5f99-4dea-9f93-de8f7ec377a6",
   "metadata": {},
   "outputs": [
    {
     "data": {
      "text/plain": [
       "Index(['abtest', 'vehicleType', 'yearOfRegistration', 'gearbox', 'powerPS',\n",
       "       'model', 'kilometer', 'monthOfRegistration', 'fuelType', 'brand',\n",
       "       'notRepairedDamage'],\n",
       "      dtype='object')"
      ]
     },
     "execution_count": 41,
     "metadata": {},
     "output_type": "execute_result"
    }
   ],
   "source": [
    "previsores.columns"
   ]
  },
  {
   "cell_type": "code",
   "execution_count": 42,
   "id": "ecc3c726-fa6b-471e-82b1-424f80f0a295",
   "metadata": {},
   "outputs": [],
   "source": [
    "onehotencoder = ColumnTransformer(transformers=[(\"OneHot\", \n",
    "                                                 OneHotEncoder(), \n",
    "                                                 [0,1,3,5,8,9,10])],\n",
    "                                                 remainder=\"passthrough\"\n",
    "                                                )"
   ]
  },
  {
   "cell_type": "code",
   "execution_count": 43,
   "id": "987e0b75-a635-4e35-bcb3-dc611f3c0e03",
   "metadata": {},
   "outputs": [],
   "source": [
    "previsores = onehotencoder.fit_transform(previsores).toarray()"
   ]
  },
  {
   "cell_type": "code",
   "execution_count": 44,
   "id": "1922afb8-e64b-4484-868a-cb211555476c",
   "metadata": {},
   "outputs": [
    {
     "data": {
      "text/plain": [
       "(359291, 316)"
      ]
     },
     "execution_count": 44,
     "metadata": {},
     "output_type": "execute_result"
    }
   ],
   "source": [
    "previsores.shape"
   ]
  },
  {
   "cell_type": "code",
   "execution_count": 45,
   "id": "73e05ee2-c088-4d6b-bb10-39793175515d",
   "metadata": {},
   "outputs": [],
   "source": [
    "previsores = np.array(previsores)\n",
    "preco_real = np.array(preco_real)"
   ]
  },
  {
   "cell_type": "code",
   "execution_count": 46,
   "id": "9b15f8d5-daae-407e-af5b-06874e03a79a",
   "metadata": {},
   "outputs": [],
   "source": [
    "previsores = previsores.astype('float32')\n",
    "preco_real = preco_real.astype('int64')"
   ]
  },
  {
   "cell_type": "markdown",
   "id": "d9cef944-62b6-487b-8676-2a5c403fc5c6",
   "metadata": {},
   "source": [
    "## 3. Construção do modelo"
   ]
  },
  {
   "cell_type": "code",
   "execution_count": 47,
   "id": "35374596-a16b-403e-af04-9ed87eefca8a",
   "metadata": {},
   "outputs": [],
   "source": [
    "class regressao_torch(nn.Module):\n",
    "    def __init__(self):\n",
    "        super().__init__()\n",
    "\n",
    "        self.dense0 = nn.Linear(316, 158)\n",
    "        self.activation0 = nn.ReLU()\n",
    "        \n",
    "        self.dense1 = nn.Linear(158, 158)\n",
    "        self.activation1 = nn.ReLU()\n",
    "        \n",
    "        self.dense2 = nn.Linear(158, 1)\n",
    "\n",
    "    def forward(self, X):\n",
    "        X = self.dense0(X)\n",
    "        X = self.activation0(X)\n",
    "\n",
    "        X = self.dense1(X)\n",
    "        X = self.activation1(X)\n",
    "\n",
    "        X = self.dense2(X)\n",
    "        return X"
   ]
  },
  {
   "cell_type": "code",
   "execution_count": 48,
   "id": "3939d416-5dfd-411b-bb6b-bfdb3c1b7ab4",
   "metadata": {},
   "outputs": [],
   "source": [
    "regressao_sklearn = NeuralNetRegressor(module=regressao_torch,\n",
    "                                          criterion=torch.nn.L1Loss,\n",
    "                                          optimizer=torch.optim.Adam,\n",
    "                                          max_epochs=100,\n",
    "                                          batch_size=300,\n",
    "                                          train_split=False)"
   ]
  },
  {
   "cell_type": "markdown",
   "id": "a2aa3297-0d6b-4d24-bdab-353c2f443481",
   "metadata": {},
   "source": [
    "## 4. Validação Cruzada"
   ]
  },
  {
   "cell_type": "code",
   "execution_count": 49,
   "id": "06e36b16-58b5-4574-8e79-d5cdadd7af5d",
   "metadata": {},
   "outputs": [
    {
     "name": "stderr",
     "output_type": "stream",
     "text": [
      "/Users/michelarruda/miniconda3/envs/deep-learning-deAaZ-Pytorch/lib/python3.10/site-packages/torch/nn/modules/loss.py:128: UserWarning: Using a target size (torch.Size([300])) that is different to the input size (torch.Size([300, 1])). This will likely lead to incorrect results due to broadcasting. Please ensure they have the same size.\n",
      "  return F.l1_loss(input, target, reduction=self.reduction)\n"
     ]
    },
    {
     "name": "stdout",
     "output_type": "stream",
     "text": [
      "  epoch    train_loss     dur\n",
      "-------  ------------  ------\n",
      "      1     \u001b[36m4566.8289\u001b[0m  1.4805\n"
     ]
    },
    {
     "name": "stderr",
     "output_type": "stream",
     "text": [
      "/Users/michelarruda/miniconda3/envs/deep-learning-deAaZ-Pytorch/lib/python3.10/site-packages/torch/nn/modules/loss.py:128: UserWarning: Using a target size (torch.Size([261])) that is different to the input size (torch.Size([261, 1])). This will likely lead to incorrect results due to broadcasting. Please ensure they have the same size.\n",
      "  return F.l1_loss(input, target, reduction=self.reduction)\n"
     ]
    },
    {
     "name": "stdout",
     "output_type": "stream",
     "text": [
      "      2     \u001b[36m4541.4288\u001b[0m  1.4577\n",
      "      3     \u001b[36m4539.8249\u001b[0m  1.5578\n",
      "      4     \u001b[36m4539.2682\u001b[0m  1.4397\n",
      "      5     \u001b[36m4538.5074\u001b[0m  1.4484\n",
      "      6     \u001b[36m4536.8198\u001b[0m  1.4442\n",
      "      7     \u001b[36m4536.6350\u001b[0m  1.4413\n",
      "      8     4536.8699  1.4342\n",
      "      9     \u001b[36m4536.1486\u001b[0m  1.4866\n",
      "     10     4536.3173  1.4270\n",
      "     11     \u001b[36m4536.1091\u001b[0m  1.4712\n",
      "     12     \u001b[36m4535.9997\u001b[0m  1.6253\n",
      "     13     \u001b[36m4535.9006\u001b[0m  1.4400\n",
      "     14     \u001b[36m4535.6416\u001b[0m  1.4291\n",
      "     15     \u001b[36m4535.5743\u001b[0m  1.3985\n",
      "     16     4535.8022  1.4285\n",
      "     17     4535.8238  1.4534\n",
      "     18     4535.6079  1.4537\n",
      "     19     4535.5811  1.4276\n",
      "     20     4535.6685  1.4211\n",
      "     21     \u001b[36m4535.3832\u001b[0m  1.4282\n",
      "     22     4535.4170  1.4095\n",
      "     23     \u001b[36m4535.2759\u001b[0m  1.4273\n",
      "     24     4535.2845  1.4117\n",
      "     25     4535.3845  1.4091\n",
      "     26     \u001b[36m4535.2180\u001b[0m  1.4134\n",
      "     27     4535.4418  1.4533\n",
      "     28     4535.2858  1.4503\n",
      "     29     4535.3066  1.4638\n",
      "     30     4535.2786  1.7016\n",
      "     31     \u001b[36m4535.1846\u001b[0m  1.4540\n",
      "     32     4535.3004  2.3195\n",
      "     33     \u001b[36m4535.1715\u001b[0m  1.8586\n",
      "     34     4535.2060  2.0768\n",
      "     35     4535.2551  2.1266\n",
      "     36     4535.3177  1.6778\n",
      "     37     4535.2157  1.5806\n",
      "     38     4535.1902  1.7625\n",
      "     39     4535.3317  1.6605\n",
      "     40     4535.2328  1.4581\n",
      "     41     4535.1979  1.4460\n",
      "     42     4535.2388  1.5023\n",
      "     43     4535.1800  1.5158\n",
      "     44     \u001b[36m4535.1502\u001b[0m  1.5171\n",
      "     45     4535.2026  1.7121\n",
      "     46     4535.1834  1.4288\n",
      "     47     4535.1731  1.4682\n",
      "     48     4535.2235  1.4368\n",
      "     49     4535.1875  1.6412\n",
      "     50     \u001b[36m4535.1233\u001b[0m  1.6706\n",
      "     51     4535.2004  1.6473\n",
      "     52     4535.1918  2.3758\n",
      "     53     4535.1704  1.8888\n",
      "     54     4535.1719  1.4629\n",
      "     55     4535.1701  1.4244\n",
      "     56     \u001b[36m4535.1175\u001b[0m  1.4140\n",
      "     57     4535.1271  1.4017\n",
      "     58     4535.1344  1.4863\n",
      "     59     4535.1530  1.5048\n",
      "     60     4535.1367  1.4328\n",
      "     61     4535.1303  1.4243\n",
      "     62     4535.1465  1.5800\n",
      "     63     4535.1556  1.4325\n",
      "     64     4535.2173  1.4604\n",
      "     65     4535.1328  1.4534\n",
      "     66     4535.1363  1.4301\n",
      "     67     4535.2130  1.5062\n",
      "     68     4535.2497  1.4328\n",
      "     69     4535.1526  1.4288\n",
      "     70     4535.2478  1.4359\n",
      "     71     \u001b[36m4535.0869\u001b[0m  1.4041\n",
      "     72     4535.0916  1.4446\n",
      "     73     4535.1236  1.6173\n",
      "     74     4535.1191  1.4496\n",
      "     75     4535.1185  1.6469\n",
      "     76     4535.1739  1.4417\n",
      "     77     4535.1688  1.4313\n",
      "     78     4535.1331  1.7595\n",
      "     79     4535.1660  1.4734\n",
      "     80     4535.0979  1.7601\n",
      "     81     4535.0955  1.6686\n",
      "     82     4535.1164  1.4327\n",
      "     83     4535.1142  1.4507\n",
      "     84     4535.1086  1.4061\n",
      "     85     4535.1002  1.4080\n",
      "     86     \u001b[36m4535.0805\u001b[0m  1.4737\n",
      "     87     4535.1195  1.4847\n",
      "     88     4535.1300  1.4236\n",
      "     89     4535.1119  1.4323\n",
      "     90     4535.1043  1.4134\n",
      "     91     4535.1237  1.4204\n",
      "     92     4535.0888  1.4235\n",
      "     93     4535.1229  1.4104\n",
      "     94     4535.1386  1.4187\n",
      "     95     \u001b[36m4535.0666\u001b[0m  1.4134\n",
      "     96     4535.0697  1.4111\n",
      "     97     4535.1177  1.4259\n",
      "     98     4535.1239  1.4073\n",
      "     99     4535.1260  1.4281\n",
      "    100     4535.0824  1.4160\n"
     ]
    },
    {
     "name": "stderr",
     "output_type": "stream",
     "text": [
      "/Users/michelarruda/miniconda3/envs/deep-learning-deAaZ-Pytorch/lib/python3.10/site-packages/torch/nn/modules/loss.py:128: UserWarning: Using a target size (torch.Size([300])) that is different to the input size (torch.Size([300, 1])). This will likely lead to incorrect results due to broadcasting. Please ensure they have the same size.\n",
      "  return F.l1_loss(input, target, reduction=self.reduction)\n"
     ]
    },
    {
     "name": "stdout",
     "output_type": "stream",
     "text": [
      "  epoch    train_loss     dur\n",
      "-------  ------------  ------\n",
      "      1     \u001b[36m4559.1576\u001b[0m  1.4149\n"
     ]
    },
    {
     "name": "stderr",
     "output_type": "stream",
     "text": [
      "/Users/michelarruda/miniconda3/envs/deep-learning-deAaZ-Pytorch/lib/python3.10/site-packages/torch/nn/modules/loss.py:128: UserWarning: Using a target size (torch.Size([262])) that is different to the input size (torch.Size([262, 1])). This will likely lead to incorrect results due to broadcasting. Please ensure they have the same size.\n",
      "  return F.l1_loss(input, target, reduction=self.reduction)\n"
     ]
    },
    {
     "name": "stdout",
     "output_type": "stream",
     "text": [
      "      2     \u001b[36m4539.4903\u001b[0m  1.4229\n",
      "      3     \u001b[36m4536.6547\u001b[0m  1.4003\n",
      "      4     \u001b[36m4532.5075\u001b[0m  1.4200\n",
      "      5     \u001b[36m4532.4199\u001b[0m  1.4283\n",
      "      6     \u001b[36m4532.0120\u001b[0m  1.5104\n",
      "      7     \u001b[36m4531.6952\u001b[0m  1.4076\n",
      "      8     \u001b[36m4530.9811\u001b[0m  1.4327\n",
      "      9     \u001b[36m4530.6939\u001b[0m  1.4218\n",
      "     10     4530.8785  1.4226\n",
      "     11     \u001b[36m4530.3102\u001b[0m  1.4047\n",
      "     12     4530.4615  1.4036\n",
      "     13     4530.4886  1.4089\n",
      "     14     \u001b[36m4530.3039\u001b[0m  1.4075\n",
      "     15     4530.3515  1.4430\n",
      "     16     \u001b[36m4529.9045\u001b[0m  1.4101\n",
      "     17     \u001b[36m4529.5383\u001b[0m  1.4519\n",
      "     18     4529.8963  1.4048\n",
      "     19     4529.8724  1.5584\n",
      "     20     4529.6677  1.4345\n",
      "     21     4529.5994  1.4200\n",
      "     22     4529.8017  1.4238\n",
      "     23     \u001b[36m4529.5315\u001b[0m  1.4085\n",
      "     24     4529.6743  1.4073\n",
      "     25     4529.6403  1.4556\n",
      "     26     \u001b[36m4529.4836\u001b[0m  1.5230\n",
      "     27     4529.5679  1.4709\n",
      "     28     4529.5363  1.4542\n",
      "     29     4529.5345  1.4975\n",
      "     30     4529.4924  1.5483\n",
      "     31     \u001b[36m4529.4409\u001b[0m  1.5281\n",
      "     32     \u001b[36m4529.3909\u001b[0m  1.6779\n",
      "     33     \u001b[36m4529.3053\u001b[0m  1.4408\n",
      "     34     \u001b[36m4529.2985\u001b[0m  1.4319\n",
      "     35     \u001b[36m4529.2861\u001b[0m  1.4344\n",
      "     36     4529.3776  1.4074\n",
      "     37     4529.3277  1.4145\n",
      "     38     4529.3242  1.5214\n",
      "     39     4529.3621  1.4151\n",
      "     40     4529.2912  1.4199\n",
      "     41     4529.4264  1.4117\n",
      "     42     4529.3042  1.4059\n",
      "     43     4529.2982  1.4179\n",
      "     44     \u001b[36m4529.2823\u001b[0m  1.4008\n",
      "     45     \u001b[36m4529.2524\u001b[0m  1.4467\n",
      "     46     4529.5342  1.4186\n",
      "     47     4529.3141  1.4035\n",
      "     48     4529.2940  1.4213\n",
      "     49     4529.2802  1.4167\n",
      "     50     4529.3067  1.4077\n",
      "     51     4529.3125  1.4217\n",
      "     52     4529.2870  1.4124\n",
      "     53     \u001b[36m4529.1983\u001b[0m  1.4610\n",
      "     54     4529.3402  1.4006\n",
      "     55     4529.2602  1.4212\n",
      "     56     4529.2179  1.4176\n",
      "     57     4529.3047  1.4003\n",
      "     58     4529.2326  1.4103\n",
      "     59     4529.2270  1.4055\n",
      "     60     4529.2349  1.4498\n",
      "     61     4529.2186  1.4567\n",
      "     62     4529.2381  1.5331\n",
      "     63     4529.2641  1.4426\n",
      "     64     4529.2187  1.4366\n",
      "     65     4529.2422  1.4177\n",
      "     66     \u001b[36m4529.1872\u001b[0m  1.4339\n",
      "     67     4529.2333  1.4300\n",
      "     68     4529.2582  1.4326\n",
      "     69     4529.2568  1.4017\n",
      "     70     4529.2233  1.4284\n",
      "     71     4529.2121  1.4268\n",
      "     72     4529.2065  1.4391\n",
      "     73     4529.2153  1.4654\n",
      "     74     4529.2223  1.4174\n",
      "     75     4529.2288  1.4198\n",
      "     76     4529.2153  1.4243\n",
      "     77     \u001b[36m4529.1839\u001b[0m  1.4251\n",
      "     78     4529.1992  1.4140\n",
      "     79     4529.1891  1.4112\n",
      "     80     4529.2841  1.4208\n",
      "     81     4529.2300  1.4137\n",
      "     82     4529.2597  1.4257\n",
      "     83     4529.2528  1.4135\n",
      "     84     4529.2198  1.4281\n",
      "     85     4529.2344  1.4198\n",
      "     86     4529.2437  1.5041\n",
      "     87     4529.2103  1.4020\n",
      "     88     4529.2190  1.4144\n",
      "     89     \u001b[36m4529.1622\u001b[0m  1.4298\n",
      "     90     4529.1816  1.4632\n",
      "     91     4529.1923  1.4470\n",
      "     92     4529.1929  1.4343\n",
      "     93     \u001b[36m4529.1519\u001b[0m  1.4206\n",
      "     94     4529.2445  1.4190\n",
      "     95     4529.2255  1.4365\n",
      "     96     4529.2008  1.4102\n",
      "     97     4529.1838  1.4226\n",
      "     98     4529.1849  1.4607\n",
      "     99     4529.1855  1.4234\n",
      "    100     4529.1814  1.4088\n"
     ]
    },
    {
     "name": "stderr",
     "output_type": "stream",
     "text": [
      "/Users/michelarruda/miniconda3/envs/deep-learning-deAaZ-Pytorch/lib/python3.10/site-packages/torch/nn/modules/loss.py:128: UserWarning: Using a target size (torch.Size([300])) that is different to the input size (torch.Size([300, 1])). This will likely lead to incorrect results due to broadcasting. Please ensure they have the same size.\n",
      "  return F.l1_loss(input, target, reduction=self.reduction)\n"
     ]
    },
    {
     "name": "stdout",
     "output_type": "stream",
     "text": [
      "  epoch    train_loss     dur\n",
      "-------  ------------  ------\n",
      "      1     \u001b[36m4560.2440\u001b[0m  1.4341\n"
     ]
    },
    {
     "name": "stderr",
     "output_type": "stream",
     "text": [
      "/Users/michelarruda/miniconda3/envs/deep-learning-deAaZ-Pytorch/lib/python3.10/site-packages/torch/nn/modules/loss.py:128: UserWarning: Using a target size (torch.Size([262])) that is different to the input size (torch.Size([262, 1])). This will likely lead to incorrect results due to broadcasting. Please ensure they have the same size.\n",
      "  return F.l1_loss(input, target, reduction=self.reduction)\n"
     ]
    },
    {
     "name": "stdout",
     "output_type": "stream",
     "text": [
      "      2     \u001b[36m4533.9099\u001b[0m  1.4228\n",
      "      3     \u001b[36m4531.5563\u001b[0m  1.4385\n",
      "      4     \u001b[36m4530.4457\u001b[0m  1.4482\n",
      "      5     \u001b[36m4529.5230\u001b[0m  1.4804\n",
      "      6     \u001b[36m4529.1783\u001b[0m  1.5757\n",
      "      7     \u001b[36m4528.2240\u001b[0m  1.4157\n",
      "      8     \u001b[36m4527.9394\u001b[0m  1.4341\n",
      "      9     \u001b[36m4527.6303\u001b[0m  1.4155\n",
      "     10     4528.0229  1.4231\n",
      "     11     \u001b[36m4527.1734\u001b[0m  1.4574\n",
      "     12     4527.7089  1.4681\n",
      "     13     4527.3626  1.4194\n",
      "     14     \u001b[36m4526.9904\u001b[0m  1.4213\n",
      "     15     \u001b[36m4526.9142\u001b[0m  1.4107\n",
      "     16     4527.2595  1.4092\n",
      "     17     4527.0207  1.4211\n",
      "     18     4527.1966  1.3962\n",
      "     19     4527.1078  1.4239\n",
      "     20     4526.9887  1.4304\n",
      "     21     4527.1004  1.4261\n",
      "     22     \u001b[36m4526.9072\u001b[0m  1.4433\n",
      "     23     \u001b[36m4526.8320\u001b[0m  1.4285\n",
      "     24     \u001b[36m4526.8312\u001b[0m  1.4234\n",
      "     25     \u001b[36m4526.8020\u001b[0m  1.3879\n",
      "     26     \u001b[36m4526.8012\u001b[0m  1.4082\n",
      "     27     \u001b[36m4526.7395\u001b[0m  1.4375\n",
      "     28     4526.8057  1.4153\n",
      "     29     4526.8090  1.4109\n",
      "     30     \u001b[36m4526.7295\u001b[0m  1.4194\n",
      "     31     4526.7804  1.4109\n",
      "     32     \u001b[36m4526.6699\u001b[0m  1.4237\n",
      "     33     4526.6708  1.4298\n",
      "     34     \u001b[36m4526.6383\u001b[0m  1.4369\n",
      "     35     4526.6770  1.5666\n",
      "     36     4526.6556  1.4282\n",
      "     37     4526.7316  1.4157\n",
      "     38     4526.6736  1.4012\n",
      "     39     4526.6881  1.4156\n",
      "     40     \u001b[36m4526.6332\u001b[0m  1.4182\n",
      "     41     4526.7305  1.4062\n",
      "     42     4526.7219  1.4488\n",
      "     43     4526.7082  1.4353\n",
      "     44     \u001b[36m4526.6115\u001b[0m  1.4278\n",
      "     45     4526.7407  1.4239\n",
      "     46     4526.6671  1.4335\n",
      "     47     \u001b[36m4526.5705\u001b[0m  1.4321\n",
      "     48     4526.6086  1.4122\n",
      "     49     4526.6367  1.4318\n",
      "     50     4526.5818  1.4266\n",
      "     51     4526.5731  1.4259\n",
      "     52     4526.6501  1.4292\n",
      "     53     4526.6009  1.4141\n",
      "     54     4526.6378  1.4595\n",
      "     55     4526.6233  1.4198\n",
      "     56     4526.6407  1.4788\n",
      "     57     4526.7019  1.4433\n",
      "     58     4526.6306  1.4315\n",
      "     59     4526.6455  1.4112\n",
      "     60     4526.5883  1.4344\n",
      "     61     4526.6303  1.4145\n",
      "     62     4526.6151  1.4421\n",
      "     63     4526.5917  1.4403\n",
      "     64     4526.6566  1.4547\n",
      "     65     4526.5749  1.4395\n",
      "     66     4526.6230  1.4398\n",
      "     67     4526.6046  1.4079\n",
      "     68     4526.6092  1.5763\n",
      "     69     4526.6100  1.8542\n",
      "     70     4526.5732  1.4784\n",
      "     71     \u001b[36m4526.5590\u001b[0m  1.4208\n",
      "     72     4526.5750  1.4197\n",
      "     73     4526.5956  1.4060\n",
      "     74     4526.6400  1.4218\n",
      "     75     4526.6124  1.4313\n",
      "     76     4526.5903  1.4348\n",
      "     77     \u001b[36m4526.5330\u001b[0m  1.6378\n",
      "     78     \u001b[36m4526.5193\u001b[0m  1.4903\n",
      "     79     4526.5982  1.4825\n",
      "     80     4526.5884  1.4197\n",
      "     81     4526.5691  1.4283\n",
      "     82     4526.5923  1.4041\n",
      "     83     4526.5794  1.4247\n",
      "     84     4526.5514  1.4249\n",
      "     85     4526.5761  1.4125\n",
      "     86     4526.5847  1.4156\n",
      "     87     4526.5899  1.4080\n",
      "     88     4526.5285  1.4286\n",
      "     89     4526.5218  1.4322\n",
      "     90     4526.5458  1.4032\n",
      "     91     4526.5193  1.4211\n",
      "     92     \u001b[36m4526.5175\u001b[0m  1.4426\n",
      "     93     4526.5328  1.4247\n",
      "     94     4526.5434  1.4643\n",
      "     95     4526.5395  1.4831\n",
      "     96     \u001b[36m4526.5134\u001b[0m  1.4434\n",
      "     97     4526.5754  1.4489\n",
      "     98     4526.5160  1.4285\n",
      "     99     4526.5142  1.4313\n",
      "    100     \u001b[36m4526.4875\u001b[0m  1.4273\n"
     ]
    },
    {
     "name": "stderr",
     "output_type": "stream",
     "text": [
      "/Users/michelarruda/miniconda3/envs/deep-learning-deAaZ-Pytorch/lib/python3.10/site-packages/torch/nn/modules/loss.py:128: UserWarning: Using a target size (torch.Size([300])) that is different to the input size (torch.Size([300, 1])). This will likely lead to incorrect results due to broadcasting. Please ensure they have the same size.\n",
      "  return F.l1_loss(input, target, reduction=self.reduction)\n"
     ]
    },
    {
     "name": "stdout",
     "output_type": "stream",
     "text": [
      "  epoch    train_loss     dur\n",
      "-------  ------------  ------\n",
      "      1     \u001b[36m4560.3895\u001b[0m  1.4540\n"
     ]
    },
    {
     "name": "stderr",
     "output_type": "stream",
     "text": [
      "/Users/michelarruda/miniconda3/envs/deep-learning-deAaZ-Pytorch/lib/python3.10/site-packages/torch/nn/modules/loss.py:128: UserWarning: Using a target size (torch.Size([262])) that is different to the input size (torch.Size([262, 1])). This will likely lead to incorrect results due to broadcasting. Please ensure they have the same size.\n",
      "  return F.l1_loss(input, target, reduction=self.reduction)\n"
     ]
    },
    {
     "name": "stdout",
     "output_type": "stream",
     "text": [
      "      2     \u001b[36m4537.6150\u001b[0m  1.4457\n",
      "      3     \u001b[36m4535.2297\u001b[0m  1.4454\n",
      "      4     4535.2962  1.4554\n",
      "      5     \u001b[36m4534.7219\u001b[0m  1.4065\n",
      "      6     \u001b[36m4533.9962\u001b[0m  1.4527\n",
      "      7     \u001b[36m4532.6505\u001b[0m  1.4249\n",
      "      8     \u001b[36m4531.8479\u001b[0m  1.4210\n",
      "      9     \u001b[36m4531.4821\u001b[0m  1.4374\n",
      "     10     \u001b[36m4531.2364\u001b[0m  1.4204\n",
      "     11     \u001b[36m4530.8880\u001b[0m  1.4358\n",
      "     12     4530.9414  1.4370\n",
      "     13     \u001b[36m4530.6177\u001b[0m  1.4606\n",
      "     14     \u001b[36m4530.3805\u001b[0m  1.4523\n",
      "     15     \u001b[36m4530.3515\u001b[0m  1.4491\n",
      "     16     4530.5272  1.4390\n",
      "     17     4530.7460  1.4550\n",
      "     18     4530.5016  1.4732\n",
      "     19     4530.5279  1.4326\n",
      "     20     4530.4135  1.4316\n",
      "     21     \u001b[36m4530.2245\u001b[0m  1.4257\n",
      "     22     \u001b[36m4530.1614\u001b[0m  1.4372\n",
      "     23     4530.4086  1.4386\n",
      "     24     4530.2604  1.4642\n",
      "     25     4530.3362  1.4489\n",
      "     26     4530.3287  1.4400\n",
      "     27     4530.3022  1.4732\n",
      "     28     4530.2610  1.4495\n",
      "     29     4530.2177  1.4774\n",
      "     30     4530.3388  1.4656\n",
      "     31     \u001b[36m4530.1060\u001b[0m  1.4123\n",
      "     32     4530.1666  1.4058\n",
      "     33     4530.1847  1.4169\n",
      "     34     4530.1288  1.4486\n",
      "     35     4530.1691  1.4427\n",
      "     36     4530.1065  1.4505\n",
      "     37     \u001b[36m4530.0977\u001b[0m  1.5060\n",
      "     38     \u001b[36m4530.0879\u001b[0m  1.4665\n",
      "     39     4530.1211  1.4828\n",
      "     40     \u001b[36m4530.0527\u001b[0m  1.4523\n",
      "     41     \u001b[36m4530.0172\u001b[0m  1.4493\n",
      "     42     4530.1038  1.4578\n",
      "     43     4530.0717  1.4256\n",
      "     44     4530.2054  1.8306\n",
      "     45     4530.1663  1.4309\n",
      "     46     4530.0825  1.4272\n",
      "     47     4530.1246  1.4470\n",
      "     48     4530.1009  1.4388\n",
      "     49     4530.0764  1.4583\n",
      "     50     4530.0628  1.4445\n",
      "     51     4530.0852  1.4255\n",
      "     52     4530.0844  1.4687\n",
      "     53     4530.0931  1.4488\n",
      "     54     4530.0587  1.4589\n",
      "     55     4530.0838  1.4398\n",
      "     56     4530.0849  1.4660\n",
      "     57     4530.0262  1.4389\n",
      "     58     4530.1277  1.4315\n",
      "     59     4530.0646  1.4562\n",
      "     60     4530.0591  1.4401\n",
      "     61     4530.0904  1.4203\n",
      "     62     4530.0692  1.4209\n",
      "     63     4530.0586  1.4404\n",
      "     64     4530.0373  1.4234\n",
      "     65     4530.0462  1.4237\n",
      "     66     4530.0448  1.4277\n",
      "     67     4530.0426  1.4458\n",
      "     68     4530.0445  1.4294\n",
      "     69     4530.0437  1.4391\n",
      "     70     4530.0635  1.4610\n",
      "     71     4530.0503  1.4562\n",
      "     72     4530.1025  1.6200\n",
      "     73     4530.0375  1.5602\n",
      "     74     4530.0431  1.9705\n",
      "     75     4530.0403  1.7625\n",
      "     76     4530.0434  1.4756\n",
      "     77     4530.0269  1.9719\n",
      "     78     4530.0379  1.4504\n",
      "     79     4530.0447  1.4314\n",
      "     80     4530.0523  1.4867\n",
      "     81     4530.0285  1.9098\n",
      "     82     4530.0400  1.6721\n",
      "     83     \u001b[36m4529.9793\u001b[0m  1.6034\n",
      "     84     4530.0359  1.4393\n",
      "     85     4530.0578  1.7990\n",
      "     86     \u001b[36m4529.9656\u001b[0m  1.5255\n",
      "     87     4530.0167  1.4366\n",
      "     88     4530.0185  1.4625\n",
      "     89     4530.0184  1.4442\n",
      "     90     4530.0193  1.4534\n",
      "     91     4530.0058  1.4573\n",
      "     92     4529.9750  1.4866\n",
      "     93     4529.9985  1.4511\n",
      "     94     4529.9741  1.4350\n",
      "     95     4529.9664  1.4029\n",
      "     96     \u001b[36m4529.9597\u001b[0m  1.4547\n",
      "     97     \u001b[36m4529.9537\u001b[0m  1.5921\n",
      "     98     \u001b[36m4529.9446\u001b[0m  1.4335\n",
      "     99     \u001b[36m4529.9397\u001b[0m  1.5390\n",
      "    100     4529.9447  1.7210\n"
     ]
    },
    {
     "name": "stderr",
     "output_type": "stream",
     "text": [
      "/Users/michelarruda/miniconda3/envs/deep-learning-deAaZ-Pytorch/lib/python3.10/site-packages/torch/nn/modules/loss.py:128: UserWarning: Using a target size (torch.Size([300])) that is different to the input size (torch.Size([300, 1])). This will likely lead to incorrect results due to broadcasting. Please ensure they have the same size.\n",
      "  return F.l1_loss(input, target, reduction=self.reduction)\n"
     ]
    },
    {
     "name": "stdout",
     "output_type": "stream",
     "text": [
      "  epoch    train_loss     dur\n",
      "-------  ------------  ------\n",
      "      1     \u001b[36m4565.8191\u001b[0m  1.5230\n"
     ]
    },
    {
     "name": "stderr",
     "output_type": "stream",
     "text": [
      "/Users/michelarruda/miniconda3/envs/deep-learning-deAaZ-Pytorch/lib/python3.10/site-packages/torch/nn/modules/loss.py:128: UserWarning: Using a target size (torch.Size([262])) that is different to the input size (torch.Size([262, 1])). This will likely lead to incorrect results due to broadcasting. Please ensure they have the same size.\n",
      "  return F.l1_loss(input, target, reduction=self.reduction)\n"
     ]
    },
    {
     "name": "stdout",
     "output_type": "stream",
     "text": [
      "      2     \u001b[36m4542.6339\u001b[0m  1.4403\n",
      "      3     \u001b[36m4539.3808\u001b[0m  1.4832\n",
      "      4     \u001b[36m4539.0282\u001b[0m  1.4678\n",
      "      5     \u001b[36m4536.9922\u001b[0m  1.5543\n",
      "      6     \u001b[36m4536.8649\u001b[0m  1.4810\n",
      "      7     \u001b[36m4536.3757\u001b[0m  1.5915\n",
      "      8     \u001b[36m4535.9979\u001b[0m  1.4873\n",
      "      9     \u001b[36m4535.7602\u001b[0m  1.5086\n",
      "     10     \u001b[36m4535.6985\u001b[0m  1.5372\n",
      "     11     \u001b[36m4535.3028\u001b[0m  1.4336\n",
      "     12     4535.3912  1.4240\n",
      "     13     4535.3819  1.5789\n",
      "     14     \u001b[36m4535.1019\u001b[0m  1.4072\n",
      "     15     4535.2565  1.4889\n",
      "     16     \u001b[36m4535.0237\u001b[0m  1.4410\n",
      "     17     \u001b[36m4534.9478\u001b[0m  1.4529\n",
      "     18     \u001b[36m4534.7301\u001b[0m  1.4514\n",
      "     19     4535.2147  1.4917\n",
      "     20     4535.0171  1.4707\n",
      "     21     4535.1650  1.4560\n",
      "     22     4534.8409  1.5368\n",
      "     23     4534.8396  1.7392\n",
      "     24     4534.9801  1.4960\n",
      "     25     4534.8671  1.4159\n",
      "     26     4534.8224  1.4204\n",
      "     27     \u001b[36m4534.6874\u001b[0m  1.4274\n",
      "     28     \u001b[36m4534.5986\u001b[0m  1.4236\n",
      "     29     4534.8452  1.4564\n",
      "     30     4534.7712  1.4430\n",
      "     31     4534.8176  1.4070\n",
      "     32     4534.7501  1.4154\n",
      "     33     4534.6859  1.4264\n",
      "     34     4534.6999  1.4047\n",
      "     35     4534.7840  1.4210\n",
      "     36     4534.6590  1.4178\n",
      "     37     4534.7199  1.4179\n",
      "     38     \u001b[36m4534.5627\u001b[0m  1.4465\n",
      "     39     4534.6256  1.4381\n",
      "     40     \u001b[36m4534.5456\u001b[0m  1.4318\n",
      "     41     4534.5851  1.4376\n",
      "     42     4534.6073  1.4297\n",
      "     43     4534.5950  1.4069\n",
      "     44     4534.5816  1.4135\n",
      "     45     4534.5660  1.4354\n",
      "     46     4534.6075  1.4031\n",
      "     47     4534.5643  1.4175\n",
      "     48     \u001b[36m4534.5139\u001b[0m  1.4111\n",
      "     49     4534.5306  1.4191\n",
      "     50     4534.6115  1.4349\n",
      "     51     4534.6633  1.4281\n",
      "     52     \u001b[36m4534.5000\u001b[0m  1.4230\n",
      "     53     4534.5282  1.4182\n",
      "     54     4534.6325  1.4103\n",
      "     55     4534.5530  1.4622\n",
      "     56     4534.5516  1.4224\n",
      "     57     \u001b[36m4534.4967\u001b[0m  1.4490\n",
      "     58     4534.6184  1.4473\n",
      "     59     4534.6207  1.4363\n",
      "     60     4534.5048  1.4338\n",
      "     61     \u001b[36m4534.4727\u001b[0m  1.4367\n",
      "     62     4534.5946  1.4150\n",
      "     63     4534.5509  1.4064\n",
      "     64     4534.5744  1.4868\n",
      "     65     4534.5401  1.4378\n",
      "     66     4534.5099  1.4206\n",
      "     67     4534.4776  1.4312\n",
      "     68     \u001b[36m4534.4381\u001b[0m  1.4222\n",
      "     69     4534.4916  1.4103\n",
      "     70     4534.5104  1.4118\n",
      "     71     4534.4843  1.4305\n",
      "     72     4534.5329  1.4260\n",
      "     73     4534.5727  1.5478\n",
      "     74     4534.5285  1.5290\n",
      "     75     4534.4932  1.5489\n",
      "     76     4534.4755  1.5322\n",
      "     77     4534.4773  1.4992\n",
      "     78     4534.5330  1.4586\n",
      "     79     4534.5165  1.4302\n",
      "     80     4534.4823  1.4060\n",
      "     81     4534.5024  1.4279\n",
      "     82     4534.4431  1.4272\n",
      "     83     4534.4690  1.4722\n",
      "     84     4534.5342  1.4773\n",
      "     85     4534.4732  1.4646\n",
      "     86     4534.5270  1.3947\n",
      "     87     4534.5109  1.4156\n",
      "     88     4534.4460  1.6768\n",
      "     89     4534.4623  1.7857\n",
      "     90     4534.5312  1.4287\n",
      "     91     4534.4910  1.4132\n",
      "     92     4534.5094  1.4061\n",
      "     93     4534.4781  1.4161\n",
      "     94     \u001b[36m4534.4275\u001b[0m  1.4730\n",
      "     95     \u001b[36m4534.3829\u001b[0m  1.4612\n",
      "     96     4534.4721  1.4183\n",
      "     97     4534.4282  1.4230\n",
      "     98     4534.4560  1.4184\n",
      "     99     4534.4553  1.4704\n",
      "    100     4534.4938  1.4477\n"
     ]
    },
    {
     "name": "stderr",
     "output_type": "stream",
     "text": [
      "/Users/michelarruda/miniconda3/envs/deep-learning-deAaZ-Pytorch/lib/python3.10/site-packages/torch/nn/modules/loss.py:128: UserWarning: Using a target size (torch.Size([300])) that is different to the input size (torch.Size([300, 1])). This will likely lead to incorrect results due to broadcasting. Please ensure they have the same size.\n",
      "  return F.l1_loss(input, target, reduction=self.reduction)\n"
     ]
    },
    {
     "name": "stdout",
     "output_type": "stream",
     "text": [
      "  epoch    train_loss     dur\n",
      "-------  ------------  ------\n",
      "      1     \u001b[36m4557.6171\u001b[0m  1.4430\n"
     ]
    },
    {
     "name": "stderr",
     "output_type": "stream",
     "text": [
      "/Users/michelarruda/miniconda3/envs/deep-learning-deAaZ-Pytorch/lib/python3.10/site-packages/torch/nn/modules/loss.py:128: UserWarning: Using a target size (torch.Size([262])) that is different to the input size (torch.Size([262, 1])). This will likely lead to incorrect results due to broadcasting. Please ensure they have the same size.\n",
      "  return F.l1_loss(input, target, reduction=self.reduction)\n"
     ]
    },
    {
     "name": "stdout",
     "output_type": "stream",
     "text": [
      "      2     \u001b[36m4538.8250\u001b[0m  1.4971\n",
      "      3     \u001b[36m4535.7901\u001b[0m  1.4383\n",
      "      4     \u001b[36m4534.8223\u001b[0m  1.4296\n",
      "      5     \u001b[36m4533.4300\u001b[0m  1.4696\n",
      "      6     \u001b[36m4533.2543\u001b[0m  1.6036\n",
      "      7     \u001b[36m4532.7331\u001b[0m  1.4549\n",
      "      8     \u001b[36m4532.2982\u001b[0m  1.4705\n",
      "      9     \u001b[36m4531.9600\u001b[0m  1.4418\n",
      "     10     \u001b[36m4531.6796\u001b[0m  1.4298\n",
      "     11     \u001b[36m4531.5956\u001b[0m  1.5262\n",
      "     12     \u001b[36m4531.2088\u001b[0m  1.6690\n",
      "     13     4531.2327  1.7681\n",
      "     14     \u001b[36m4531.1493\u001b[0m  1.5175\n",
      "     15     4531.2377  1.4075\n",
      "     16     \u001b[36m4530.9712\u001b[0m  1.5354\n",
      "     17     4530.9751  1.4222\n",
      "     18     \u001b[36m4530.7704\u001b[0m  1.4288\n",
      "     19     \u001b[36m4530.7606\u001b[0m  1.4211\n",
      "     20     \u001b[36m4530.4521\u001b[0m  1.4207\n",
      "     21     \u001b[36m4530.4027\u001b[0m  1.4342\n",
      "     22     \u001b[36m4530.0445\u001b[0m  1.4633\n",
      "     23     4530.2026  1.4289\n",
      "     24     \u001b[36m4529.8857\u001b[0m  1.5676\n",
      "     25     4529.8957  1.4102\n",
      "     26     4530.0224  1.4289\n",
      "     27     \u001b[36m4529.8714\u001b[0m  1.4093\n",
      "     28     4529.9313  1.4791\n",
      "     29     4529.9079  1.4422\n",
      "     30     4529.9303  1.4262\n",
      "     31     \u001b[36m4529.8186\u001b[0m  1.4211\n",
      "     32     \u001b[36m4529.7695\u001b[0m  1.4412\n",
      "     33     4529.8951  1.4909\n",
      "     34     4529.8218  1.6495\n",
      "     35     4529.8664  1.5858\n",
      "     36     4529.9295  1.4539\n",
      "     37     \u001b[36m4529.7419\u001b[0m  1.5776\n",
      "     38     4529.7459  2.1873\n",
      "     39     \u001b[36m4529.7089\u001b[0m  1.4486\n",
      "     40     4529.7113  1.4468\n",
      "     41     4529.7494  1.4239\n",
      "     42     4529.7336  1.6752\n",
      "     43     4529.7432  1.5321\n",
      "     44     4529.7801  1.4391\n",
      "     45     \u001b[36m4529.6971\u001b[0m  1.4868\n",
      "     46     4529.7195  1.4187\n",
      "     47     \u001b[36m4529.6850\u001b[0m  1.4136\n",
      "     48     4529.6977  1.3992\n",
      "     49     4529.7376  1.4480\n",
      "     50     4529.7397  1.7638\n",
      "     51     4529.6984  1.9172\n",
      "     52     4529.6975  2.1392\n",
      "     53     \u001b[36m4529.6508\u001b[0m  1.4850\n",
      "     54     4529.7333  1.6662\n",
      "     55     4529.6539  1.5543\n",
      "     56     4529.6775  1.6625\n",
      "     57     4529.7006  1.6696\n",
      "     58     4529.7347  1.4310\n",
      "     59     4529.6556  1.4172\n",
      "     60     4529.7260  1.5299\n",
      "     61     4529.6823  1.4078\n",
      "     62     \u001b[36m4529.6222\u001b[0m  1.4255\n",
      "     63     4529.7336  1.4286\n",
      "     64     4529.6547  1.4222\n",
      "     65     4529.6618  2.5210\n",
      "     66     4529.6239  1.4307\n",
      "     67     4529.6474  1.4269\n",
      "     68     4529.6613  1.4162\n",
      "     69     4529.6315  1.4336\n",
      "     70     4529.6452  1.4113\n",
      "     71     \u001b[36m4529.6192\u001b[0m  1.4226\n",
      "     72     \u001b[36m4529.6081\u001b[0m  1.4472\n",
      "     73     \u001b[36m4529.5945\u001b[0m  1.4089\n",
      "     74     4529.6024  1.4016\n",
      "     75     4529.5994  1.4118\n",
      "     76     \u001b[36m4529.5915\u001b[0m  1.4068\n",
      "     77     4529.5940  1.4428\n",
      "     78     \u001b[36m4529.5785\u001b[0m  1.5469\n",
      "     79     \u001b[36m4529.5603\u001b[0m  1.4284\n",
      "     80     \u001b[36m4529.5440\u001b[0m  1.4484\n",
      "     81     \u001b[36m4529.5371\u001b[0m  1.4655\n",
      "     82     4529.5750  1.4261\n",
      "     83     4529.5398  1.4290\n",
      "     84     4529.5376  1.4144\n",
      "     85     \u001b[36m4529.5364\u001b[0m  1.4930\n",
      "     86     \u001b[36m4529.5314\u001b[0m  1.4301\n",
      "     87     \u001b[36m4529.5257\u001b[0m  1.4348\n",
      "     88     \u001b[36m4529.5234\u001b[0m  1.4170\n",
      "     89     \u001b[36m4529.5133\u001b[0m  1.4166\n",
      "     90     \u001b[36m4529.5105\u001b[0m  1.4139\n",
      "     91     \u001b[36m4529.5059\u001b[0m  1.4443\n",
      "     92     \u001b[36m4529.5036\u001b[0m  1.4721\n",
      "     93     \u001b[36m4529.4918\u001b[0m  1.4147\n",
      "     94     4529.4993  1.4213\n",
      "     95     \u001b[36m4529.4832\u001b[0m  1.4146\n",
      "     96     4529.4855  1.4145\n",
      "     97     \u001b[36m4529.4796\u001b[0m  1.4059\n",
      "     98     \u001b[36m4529.4547\u001b[0m  1.4148\n",
      "     99     \u001b[36m4529.4436\u001b[0m  1.4875\n",
      "    100     \u001b[36m4529.4352\u001b[0m  1.6226\n"
     ]
    },
    {
     "name": "stderr",
     "output_type": "stream",
     "text": [
      "/Users/michelarruda/miniconda3/envs/deep-learning-deAaZ-Pytorch/lib/python3.10/site-packages/torch/nn/modules/loss.py:128: UserWarning: Using a target size (torch.Size([300])) that is different to the input size (torch.Size([300, 1])). This will likely lead to incorrect results due to broadcasting. Please ensure they have the same size.\n",
      "  return F.l1_loss(input, target, reduction=self.reduction)\n"
     ]
    },
    {
     "name": "stdout",
     "output_type": "stream",
     "text": [
      "  epoch    train_loss     dur\n",
      "-------  ------------  ------\n",
      "      1     \u001b[36m4566.5924\u001b[0m  1.4981\n"
     ]
    },
    {
     "name": "stderr",
     "output_type": "stream",
     "text": [
      "/Users/michelarruda/miniconda3/envs/deep-learning-deAaZ-Pytorch/lib/python3.10/site-packages/torch/nn/modules/loss.py:128: UserWarning: Using a target size (torch.Size([262])) that is different to the input size (torch.Size([262, 1])). This will likely lead to incorrect results due to broadcasting. Please ensure they have the same size.\n",
      "  return F.l1_loss(input, target, reduction=self.reduction)\n"
     ]
    },
    {
     "name": "stdout",
     "output_type": "stream",
     "text": [
      "      2     \u001b[36m4541.2683\u001b[0m  1.4153\n",
      "      3     \u001b[36m4539.0973\u001b[0m  1.4179\n",
      "      4     \u001b[36m4537.8907\u001b[0m  1.4439\n",
      "      5     \u001b[36m4537.4089\u001b[0m  2.0499\n",
      "      6     \u001b[36m4536.9770\u001b[0m  1.8667\n",
      "      7     \u001b[36m4536.5774\u001b[0m  1.5961\n",
      "      8     \u001b[36m4536.3997\u001b[0m  1.4743\n",
      "      9     \u001b[36m4536.1152\u001b[0m  1.4709\n",
      "     10     \u001b[36m4536.0245\u001b[0m  1.6650\n",
      "     11     \u001b[36m4535.9397\u001b[0m  1.5385\n",
      "     12     \u001b[36m4535.5464\u001b[0m  1.6197\n",
      "     13     \u001b[36m4534.4124\u001b[0m  1.5262\n",
      "     14     4534.8528  1.4112\n",
      "     15     4534.5077  1.4381\n",
      "     16     4534.6302  1.5287\n",
      "     17     4534.5937  1.4085\n",
      "     18     \u001b[36m4534.3322\u001b[0m  1.4590\n",
      "     19     \u001b[36m4534.1402\u001b[0m  1.4365\n",
      "     20     \u001b[36m4533.9347\u001b[0m  1.4430\n",
      "     21     \u001b[36m4533.8647\u001b[0m  1.4259\n",
      "     22     4534.2092  1.5148\n",
      "     23     \u001b[36m4533.8482\u001b[0m  1.5746\n",
      "     24     4533.9123  1.5665\n",
      "     25     4533.9492  1.5734\n",
      "     26     4533.8710  1.4174\n",
      "     27     \u001b[36m4533.7401\u001b[0m  1.4531\n",
      "     28     4533.8424  1.4264\n",
      "     29     4533.8412  1.4639\n",
      "     30     4533.7670  1.5708\n",
      "     31     4533.8517  1.9833\n",
      "     32     4533.8449  1.9631\n",
      "     33     \u001b[36m4533.7152\u001b[0m  1.9906\n",
      "     34     4533.7554  1.6869\n",
      "     35     4533.7875  1.4464\n",
      "     36     4533.8312  1.5112\n",
      "     37     4533.7522  1.7271\n",
      "     38     4533.7586  1.4723\n",
      "     39     4533.7273  1.5134\n",
      "     40     4533.7338  1.4588\n",
      "     41     4533.7469  1.5291\n",
      "     42     \u001b[36m4533.6865\u001b[0m  1.4419\n",
      "     43     \u001b[36m4533.6739\u001b[0m  1.4216\n",
      "     44     4533.7147  1.4135\n",
      "     45     4533.6797  1.4239\n",
      "     46     4533.6766  1.5070\n",
      "     47     \u001b[36m4533.6460\u001b[0m  1.4384\n",
      "     48     4533.6715  1.4336\n",
      "     49     4533.6659  1.4242\n",
      "     50     4533.6520  1.4093\n",
      "     51     \u001b[36m4533.6244\u001b[0m  1.4196\n",
      "     52     4533.6261  1.4453\n",
      "     53     4533.6659  1.4487\n",
      "     54     \u001b[36m4533.5932\u001b[0m  1.4282\n",
      "     55     4533.6388  1.4388\n",
      "     56     4533.6043  1.4644\n",
      "     57     4533.6061  1.5484\n",
      "     58     4533.6943  1.4464\n",
      "     59     4533.5988  1.4169\n",
      "     60     4533.5993  1.5447\n",
      "     61     4533.6542  1.4578\n",
      "     62     4533.6578  1.4211\n",
      "     63     \u001b[36m4533.5915\u001b[0m  1.4199\n",
      "     64     4533.5974  1.5054\n",
      "     65     4533.6191  1.4346\n",
      "     66     4533.5938  1.4272\n",
      "     67     4533.6519  1.4340\n",
      "     68     \u001b[36m4533.5640\u001b[0m  1.4287\n",
      "     69     4533.6446  1.4772\n",
      "     70     4533.5974  1.4617\n",
      "     71     4533.5698  1.4605\n",
      "     72     4533.6016  1.4842\n",
      "     73     4533.5849  1.4187\n",
      "     74     4533.5811  1.4217\n",
      "     75     \u001b[36m4533.5438\u001b[0m  1.4245\n",
      "     76     4533.5494  1.6466\n",
      "     77     4533.5544  1.5599\n",
      "     78     4533.5513  1.7743\n",
      "     79     \u001b[36m4533.5333\u001b[0m  1.4571\n",
      "     80     \u001b[36m4533.5329\u001b[0m  1.5605\n",
      "     81     \u001b[36m4533.5238\u001b[0m  1.4252\n",
      "     82     \u001b[36m4533.5205\u001b[0m  2.5959\n",
      "     83     \u001b[36m4533.5183\u001b[0m  2.2862\n",
      "     84     4533.5304  2.1747\n",
      "     85     \u001b[36m4533.5120\u001b[0m  1.6876\n",
      "     86     \u001b[36m4533.5119\u001b[0m  1.4251\n",
      "     87     \u001b[36m4533.5084\u001b[0m  1.5672\n",
      "     88     \u001b[36m4533.5049\u001b[0m  1.8831\n",
      "     89     \u001b[36m4533.5030\u001b[0m  1.7067\n",
      "     90     4533.5092  1.4240\n",
      "     91     \u001b[36m4533.5016\u001b[0m  1.6887\n",
      "     92     \u001b[36m4533.5011\u001b[0m  1.6525\n",
      "     93     \u001b[36m4533.4971\u001b[0m  1.7189\n",
      "     94     \u001b[36m4533.4938\u001b[0m  1.6914\n",
      "     95     \u001b[36m4533.4915\u001b[0m  1.5909\n",
      "     96     \u001b[36m4533.4910\u001b[0m  1.7890\n",
      "     97     \u001b[36m4533.4889\u001b[0m  1.4496\n",
      "     98     \u001b[36m4533.4819\u001b[0m  1.4427\n",
      "     99     \u001b[36m4533.4780\u001b[0m  1.7049\n",
      "    100     \u001b[36m4533.4561\u001b[0m  1.6660\n"
     ]
    },
    {
     "name": "stderr",
     "output_type": "stream",
     "text": [
      "/Users/michelarruda/miniconda3/envs/deep-learning-deAaZ-Pytorch/lib/python3.10/site-packages/torch/nn/modules/loss.py:128: UserWarning: Using a target size (torch.Size([300])) that is different to the input size (torch.Size([300, 1])). This will likely lead to incorrect results due to broadcasting. Please ensure they have the same size.\n",
      "  return F.l1_loss(input, target, reduction=self.reduction)\n"
     ]
    },
    {
     "name": "stdout",
     "output_type": "stream",
     "text": [
      "  epoch    train_loss     dur\n",
      "-------  ------------  ------\n",
      "      1     \u001b[36m4567.7273\u001b[0m  1.4856\n"
     ]
    },
    {
     "name": "stderr",
     "output_type": "stream",
     "text": [
      "/Users/michelarruda/miniconda3/envs/deep-learning-deAaZ-Pytorch/lib/python3.10/site-packages/torch/nn/modules/loss.py:128: UserWarning: Using a target size (torch.Size([262])) that is different to the input size (torch.Size([262, 1])). This will likely lead to incorrect results due to broadcasting. Please ensure they have the same size.\n",
      "  return F.l1_loss(input, target, reduction=self.reduction)\n"
     ]
    },
    {
     "name": "stdout",
     "output_type": "stream",
     "text": [
      "      2     \u001b[36m4545.2496\u001b[0m  1.6327\n",
      "      3     \u001b[36m4539.8596\u001b[0m  1.4705\n",
      "      4     \u001b[36m4539.2034\u001b[0m  1.6530\n",
      "      5     \u001b[36m4539.1119\u001b[0m  1.7361\n",
      "      6     \u001b[36m4538.8791\u001b[0m  1.6450\n",
      "      7     \u001b[36m4537.6697\u001b[0m  2.0038\n",
      "      8     4537.7557  1.5436\n",
      "      9     \u001b[36m4537.2230\u001b[0m  1.4409\n",
      "     10     \u001b[36m4536.3841\u001b[0m  1.4969\n",
      "     11     \u001b[36m4536.1163\u001b[0m  1.8414\n",
      "     12     4536.1933  1.6340\n",
      "     13     \u001b[36m4536.0410\u001b[0m  2.0719\n",
      "     14     \u001b[36m4535.7333\u001b[0m  1.9331\n",
      "     15     \u001b[36m4535.4046\u001b[0m  1.5657\n",
      "     16     4535.4187  1.4179\n",
      "     17     \u001b[36m4535.3684\u001b[0m  1.6902\n",
      "     18     \u001b[36m4535.2543\u001b[0m  1.6604\n",
      "     19     \u001b[36m4535.1567\u001b[0m  1.4991\n",
      "     20     4535.2174  1.6375\n",
      "     21     \u001b[36m4535.0090\u001b[0m  1.5838\n",
      "     22     4535.1410  1.7612\n",
      "     23     \u001b[36m4534.9996\u001b[0m  1.5339\n",
      "     24     4535.0999  1.4409\n",
      "     25     \u001b[36m4534.9938\u001b[0m  1.7534\n",
      "     26     4534.9963  1.6462\n",
      "     27     4535.0543  1.5758\n",
      "     28     4535.0868  1.4254\n",
      "     29     \u001b[36m4534.9189\u001b[0m  1.5480\n",
      "     30     \u001b[36m4534.8486\u001b[0m  1.5342\n",
      "     31     4534.9554  1.4033\n",
      "     32     4535.0350  1.4883\n",
      "     33     4534.9055  1.4030\n",
      "     34     4534.8699  1.7068\n",
      "     35     4534.8929  1.4363\n",
      "     36     4534.8928  1.7108\n",
      "     37     4534.9852  1.4107\n",
      "     38     4534.8739  1.3931\n",
      "     39     4534.8779  1.4418\n",
      "     40     4534.8799  1.4691\n",
      "     41     4534.8740  1.6560\n",
      "     42     4534.8563  1.8191\n",
      "     43     \u001b[36m4534.8110\u001b[0m  1.9143\n",
      "     44     4534.8790  1.5832\n",
      "     45     \u001b[36m4534.7525\u001b[0m  1.5808\n",
      "     46     4534.8142  1.5087\n",
      "     47     4534.8398  1.5157\n",
      "     48     4534.8299  1.7693\n",
      "     49     4534.7635  1.4468\n",
      "     50     4534.7856  1.4493\n",
      "     51     4534.7824  1.4832\n",
      "     52     4534.8124  1.4220\n",
      "     53     4534.8278  1.4246\n",
      "     54     4534.7814  1.4171\n",
      "     55     \u001b[36m4534.7455\u001b[0m  1.4143\n",
      "     56     4534.7759  1.4302\n",
      "     57     4534.8081  1.6161\n",
      "     58     4534.7617  1.4278\n",
      "     59     \u001b[36m4534.7426\u001b[0m  1.4367\n",
      "     60     4534.7580  1.4917\n",
      "     61     4534.7460  1.5084\n",
      "     62     4534.7603  1.6705\n",
      "     63     4534.7493  1.5830\n",
      "     64     \u001b[36m4534.7242\u001b[0m  1.5179\n",
      "     65     4534.7513  1.5181\n",
      "     66     4534.7587  1.4411\n",
      "     67     4534.7296  1.4206\n",
      "     68     4534.7493  1.4283\n",
      "     69     \u001b[36m4534.6855\u001b[0m  1.4123\n",
      "     70     4534.7533  1.3951\n",
      "     71     4534.7510  1.4427\n",
      "     72     4534.7421  1.4347\n",
      "     73     4534.7083  1.5698\n",
      "     74     4534.7005  1.6342\n",
      "     75     4534.7205  1.7130\n",
      "     76     4534.7452  1.5844\n",
      "     77     4534.7060  1.4332\n",
      "     78     4534.7124  1.5234\n",
      "     79     \u001b[36m4534.6802\u001b[0m  1.5497\n",
      "     80     4534.7311  1.4821\n",
      "     81     4534.6938  1.4665\n",
      "     82     4534.7056  1.4673\n",
      "     83     4534.6887  1.4616\n",
      "     84     4534.6910  1.4559\n",
      "     85     4534.6971  1.5494\n",
      "     86     4534.6896  1.5268\n",
      "     87     4534.6872  1.5705\n",
      "     88     \u001b[36m4534.6648\u001b[0m  1.4625\n",
      "     89     \u001b[36m4534.6639\u001b[0m  1.4693\n",
      "     90     \u001b[36m4534.6615\u001b[0m  1.5181\n",
      "     91     \u001b[36m4534.6602\u001b[0m  1.6643\n",
      "     92     4534.6633  1.4315\n",
      "     93     \u001b[36m4534.6507\u001b[0m  1.4490\n",
      "     94     \u001b[36m4534.6494\u001b[0m  1.4473\n",
      "     95     \u001b[36m4534.6483\u001b[0m  1.5987\n",
      "     96     \u001b[36m4534.6441\u001b[0m  1.5267\n",
      "     97     4534.6464  1.4670\n",
      "     98     \u001b[36m4534.6427\u001b[0m  1.5995\n",
      "     99     \u001b[36m4534.6403\u001b[0m  1.4330\n",
      "    100     \u001b[36m4534.6381\u001b[0m  1.6087\n"
     ]
    },
    {
     "name": "stderr",
     "output_type": "stream",
     "text": [
      "/Users/michelarruda/miniconda3/envs/deep-learning-deAaZ-Pytorch/lib/python3.10/site-packages/torch/nn/modules/loss.py:128: UserWarning: Using a target size (torch.Size([300])) that is different to the input size (torch.Size([300, 1])). This will likely lead to incorrect results due to broadcasting. Please ensure they have the same size.\n",
      "  return F.l1_loss(input, target, reduction=self.reduction)\n"
     ]
    },
    {
     "name": "stdout",
     "output_type": "stream",
     "text": [
      "  epoch    train_loss     dur\n",
      "-------  ------------  ------\n",
      "      1     \u001b[36m4572.5597\u001b[0m  1.7536\n"
     ]
    },
    {
     "name": "stderr",
     "output_type": "stream",
     "text": [
      "/Users/michelarruda/miniconda3/envs/deep-learning-deAaZ-Pytorch/lib/python3.10/site-packages/torch/nn/modules/loss.py:128: UserWarning: Using a target size (torch.Size([262])) that is different to the input size (torch.Size([262, 1])). This will likely lead to incorrect results due to broadcasting. Please ensure they have the same size.\n",
      "  return F.l1_loss(input, target, reduction=self.reduction)\n"
     ]
    },
    {
     "name": "stdout",
     "output_type": "stream",
     "text": [
      "      2     \u001b[36m4547.4522\u001b[0m  1.8504\n",
      "      3     \u001b[36m4546.7094\u001b[0m  1.6326\n",
      "      4     \u001b[36m4546.1003\u001b[0m  1.5332\n",
      "      5     \u001b[36m4544.0982\u001b[0m  1.6278\n",
      "      6     \u001b[36m4543.4627\u001b[0m  1.5900\n",
      "      7     4543.4731  1.5986\n",
      "      8     \u001b[36m4543.2630\u001b[0m  1.8836\n",
      "      9     \u001b[36m4542.6728\u001b[0m  1.4409\n",
      "     10     \u001b[36m4542.5290\u001b[0m  1.5411\n",
      "     11     \u001b[36m4542.3298\u001b[0m  1.5063\n",
      "     12     \u001b[36m4542.1928\u001b[0m  1.7619\n",
      "     13     \u001b[36m4542.1003\u001b[0m  1.8562\n",
      "     14     4542.3910  1.5324\n",
      "     15     4542.3867  1.7484\n",
      "     16     \u001b[36m4541.8571\u001b[0m  1.4603\n",
      "     17     4542.0111  1.5441\n",
      "     18     \u001b[36m4541.7558\u001b[0m  1.4984\n",
      "     19     \u001b[36m4541.6274\u001b[0m  1.6364\n",
      "     20     4541.7182  1.4450\n",
      "     21     \u001b[36m4541.3532\u001b[0m  1.5528\n",
      "     22     \u001b[36m4541.3467\u001b[0m  1.6266\n",
      "     23     \u001b[36m4541.1839\u001b[0m  1.7268\n",
      "     24     4541.3360  1.4589\n",
      "     25     4541.2747  1.4451\n",
      "     26     4541.3340  1.4372\n",
      "     27     4541.4632  1.4415\n",
      "     28     4541.3432  1.5007\n",
      "     29     4541.4540  1.4588\n",
      "     30     4541.2747  1.4794\n",
      "     31     4541.2613  1.5624\n",
      "     32     4541.2989  1.4278\n",
      "     33     4541.3341  1.6876\n",
      "     34     4541.2131  1.4228\n",
      "     35     4541.1942  1.4938\n",
      "     36     \u001b[36m4541.1809\u001b[0m  1.4762\n",
      "     37     4541.2974  1.7789\n",
      "     38     4541.3193  1.4851\n",
      "     39     \u001b[36m4541.1196\u001b[0m  1.5393\n",
      "     40     \u001b[36m4541.0824\u001b[0m  1.6294\n",
      "     41     4541.1020  1.7152\n",
      "     42     \u001b[36m4541.0479\u001b[0m  1.4840\n",
      "     43     4541.0794  1.4758\n",
      "     44     4541.1148  1.4642\n",
      "     45     4541.0845  1.4293\n",
      "     46     4541.0915  1.4427\n",
      "     47     4541.1081  1.4519\n",
      "     48     4541.0869  1.4365\n",
      "     49     4541.1332  1.6806\n",
      "     50     4541.0538  1.5114\n",
      "     51     4541.0783  1.4715\n",
      "     52     \u001b[36m4541.0296\u001b[0m  1.7528\n",
      "     53     \u001b[36m4541.0241\u001b[0m  1.5973\n",
      "     54     4541.1230  1.4213\n",
      "     55     \u001b[36m4541.0133\u001b[0m  1.4291\n",
      "     56     4541.0267  1.4325\n",
      "     57     4541.0532  1.4303\n",
      "     58     \u001b[36m4541.0073\u001b[0m  1.4359\n",
      "     59     4541.1059  1.4750\n",
      "     60     4541.0540  1.5089\n",
      "     61     4541.0339  1.6341\n",
      "     62     4541.0444  1.7004\n",
      "     63     4541.0928  1.4373\n",
      "     64     4541.0635  1.5006\n",
      "     65     4541.0747  1.5393\n",
      "     66     4541.0384  1.8795\n",
      "     67     4541.0252  1.4684\n",
      "     68     4541.0277  1.6013\n",
      "     69     \u001b[36m4540.9987\u001b[0m  1.5038\n",
      "     70     4541.0241  1.4641\n",
      "     71     4541.0165  1.4849\n",
      "     72     4541.0038  1.5468\n",
      "     73     4541.0156  1.4382\n",
      "     74     4541.0069  1.4394\n",
      "     75     \u001b[36m4540.9539\u001b[0m  1.5529\n",
      "     76     4540.9785  1.4516\n",
      "     77     4540.9550  1.4906\n",
      "     78     4540.9937  1.4424\n",
      "     79     4541.0029  1.4623\n",
      "     80     4540.9694  1.4615\n",
      "     81     4540.9891  1.4673\n",
      "     82     \u001b[36m4540.9155\u001b[0m  1.4252\n",
      "     83     4540.9700  1.6583\n",
      "     84     4540.9439  1.4296\n",
      "     85     4540.9411  1.5986\n",
      "     86     4540.9224  1.4400\n",
      "     87     4540.9216  1.7391\n",
      "     88     \u001b[36m4540.9057\u001b[0m  1.5077\n",
      "     89     4540.9209  1.4702\n",
      "     90     4540.9445  1.4732\n",
      "     91     4540.9267  1.4576\n",
      "     92     4540.9594  1.4212\n",
      "     93     4540.9193  1.4315\n",
      "     94     4540.9103  1.4379\n",
      "     95     \u001b[36m4540.8898\u001b[0m  1.4612\n",
      "     96     4540.9278  1.4746\n",
      "     97     \u001b[36m4540.8888\u001b[0m  1.4589\n",
      "     98     4540.9191  1.5247\n",
      "     99     4540.9126  1.4198\n",
      "    100     4540.9315  1.4981\n"
     ]
    },
    {
     "name": "stderr",
     "output_type": "stream",
     "text": [
      "/Users/michelarruda/miniconda3/envs/deep-learning-deAaZ-Pytorch/lib/python3.10/site-packages/torch/nn/modules/loss.py:128: UserWarning: Using a target size (torch.Size([300])) that is different to the input size (torch.Size([300, 1])). This will likely lead to incorrect results due to broadcasting. Please ensure they have the same size.\n",
      "  return F.l1_loss(input, target, reduction=self.reduction)\n"
     ]
    },
    {
     "name": "stdout",
     "output_type": "stream",
     "text": [
      "  epoch    train_loss     dur\n",
      "-------  ------------  ------\n",
      "      1     \u001b[36m4575.1717\u001b[0m  1.4325\n"
     ]
    },
    {
     "name": "stderr",
     "output_type": "stream",
     "text": [
      "/Users/michelarruda/miniconda3/envs/deep-learning-deAaZ-Pytorch/lib/python3.10/site-packages/torch/nn/modules/loss.py:128: UserWarning: Using a target size (torch.Size([262])) that is different to the input size (torch.Size([262, 1])). This will likely lead to incorrect results due to broadcasting. Please ensure they have the same size.\n",
      "  return F.l1_loss(input, target, reduction=self.reduction)\n"
     ]
    },
    {
     "name": "stdout",
     "output_type": "stream",
     "text": [
      "      2     \u001b[36m4549.4168\u001b[0m  1.6074\n",
      "      3     \u001b[36m4547.7454\u001b[0m  1.6502\n",
      "      4     \u001b[36m4546.0546\u001b[0m  1.4709\n",
      "      5     \u001b[36m4544.7173\u001b[0m  1.7046\n",
      "      6     \u001b[36m4544.2759\u001b[0m  1.6866\n",
      "      7     \u001b[36m4543.8609\u001b[0m  1.4367\n",
      "      8     \u001b[36m4542.8765\u001b[0m  1.4087\n",
      "      9     \u001b[36m4542.8367\u001b[0m  1.4905\n",
      "     10     \u001b[36m4542.5595\u001b[0m  1.4228\n",
      "     11     \u001b[36m4542.3290\u001b[0m  1.5811\n",
      "     12     4542.7089  1.6820\n",
      "     13     \u001b[36m4541.9926\u001b[0m  1.4235\n",
      "     14     4542.4641  1.4464\n",
      "     15     4542.3629  1.4502\n",
      "     16     4542.3750  1.5330\n",
      "     17     4542.1740  1.5113\n",
      "     18     4542.1884  1.7867\n",
      "     19     4542.0630  1.8197\n",
      "     20     \u001b[36m4541.7863\u001b[0m  1.5767\n",
      "     21     4541.9221  1.5313\n",
      "     22     4542.0366  1.4307\n",
      "     23     4541.9516  1.4376\n",
      "     24     4542.0773  1.4089\n",
      "     25     4541.8437  1.4448\n",
      "     26     \u001b[36m4541.5588\u001b[0m  1.5406\n",
      "     27     4541.7873  1.4984\n",
      "     28     4541.8680  1.4867\n",
      "     29     4541.8438  1.4172\n",
      "     30     4541.7844  1.4438\n",
      "     31     4541.6994  1.4477\n",
      "     32     4541.7408  1.7676\n",
      "     33     4541.7595  1.4113\n",
      "     34     4541.6941  1.4316\n",
      "     35     4541.7731  1.3992\n",
      "     36     4541.6555  1.4133\n",
      "     37     4541.6302  1.4358\n",
      "     38     4541.6230  1.6210\n",
      "     39     4541.5921  1.4983\n",
      "     40     4541.6448  1.4592\n",
      "     41     4541.6777  1.6351\n",
      "     42     4541.6735  1.5305\n",
      "     43     4541.6404  1.4197\n",
      "     44     4541.6104  1.4471\n",
      "     45     4541.6103  1.4401\n",
      "     46     4541.6320  1.4333\n",
      "     47     4541.6054  1.4135\n",
      "     48     4541.5604  1.4277\n",
      "     49     4541.5748  1.4265\n",
      "     50     4541.5717  1.7378\n",
      "     51     4541.5864  1.5371\n",
      "     52     \u001b[36m4541.5409\u001b[0m  1.4387\n",
      "     53     4541.5958  1.4270\n",
      "     54     4541.5919  1.4374\n",
      "     55     4541.5729  1.4310\n",
      "     56     4541.6076  1.4783\n",
      "     57     \u001b[36m4541.5379\u001b[0m  1.4256\n",
      "     58     4541.5465  1.4435\n",
      "     59     4541.5433  1.4169\n",
      "     60     4541.5969  1.4342\n",
      "     61     4541.5948  1.7628\n",
      "     62     4541.5562  1.6588\n",
      "     63     \u001b[36m4541.5325\u001b[0m  1.4261\n",
      "     64     4541.5438  1.5651\n",
      "     65     4541.5473  1.5856\n",
      "     66     \u001b[36m4541.5077\u001b[0m  1.6213\n",
      "     67     4541.5439  1.5731\n",
      "     68     4541.5276  1.6289\n",
      "     69     4541.5377  2.0137\n",
      "     70     4541.5387  1.5307\n",
      "     71     4541.5577  1.4514\n",
      "     72     4541.5377  1.4572\n",
      "     73     4541.5445  1.7391\n",
      "     74     4541.5151  1.5132\n",
      "     75     4541.5443  1.5543\n",
      "     76     \u001b[36m4541.4988\u001b[0m  1.4711\n",
      "     77     4541.5029  1.5378\n",
      "     78     \u001b[36m4541.4955\u001b[0m  1.6299\n",
      "     79     \u001b[36m4541.4767\u001b[0m  1.5110\n",
      "     80     4541.4951  1.4627\n",
      "     81     4541.4883  1.8423\n",
      "     82     \u001b[36m4541.4476\u001b[0m  1.7474\n",
      "     83     4541.5125  1.8704\n",
      "     84     4541.4602  1.8615\n",
      "     85     4541.4510  1.5588\n",
      "     86     \u001b[36m4541.4463\u001b[0m  1.4455\n",
      "     87     4541.4681  1.4574\n",
      "     88     4541.4838  1.4101\n",
      "     89     4541.4612  1.4457\n",
      "     90     4541.4555  1.4199\n",
      "     91     4541.4988  1.4484\n",
      "     92     4541.5045  1.6358\n",
      "     93     4541.4673  1.4156\n",
      "     94     4541.4798  1.4771\n",
      "     95     \u001b[36m4541.4388\u001b[0m  1.9459\n",
      "     96     4541.4430  1.8847\n",
      "     97     4541.4607  1.4206\n",
      "     98     4541.4561  1.4740\n",
      "     99     4541.4918  1.4182\n",
      "    100     4541.4582  1.8901\n"
     ]
    }
   ],
   "source": [
    "resultados = cross_val_score(regressao_sklearn, \n",
    "                             previsores, \n",
    "                             preco_real, \n",
    "                             cv = 10, \n",
    "                             scoring = 'neg_mean_absolute_error')"
   ]
  },
  {
   "cell_type": "markdown",
   "id": "b2910974-bd27-424d-99cf-317a6eb88553",
   "metadata": {},
   "source": [
    "## 5. Resultados"
   ]
  },
  {
   "cell_type": "code",
   "execution_count": 50,
   "id": "935ec4fa-1a02-4946-a47c-d4f92573efeb",
   "metadata": {},
   "outputs": [],
   "source": [
    "media = resultados.mean()\n",
    "desvio = resultados.std()"
   ]
  },
  {
   "cell_type": "code",
   "execution_count": 51,
   "id": "c1ad25e3-b1eb-4189-b525-6c3bc5e6517d",
   "metadata": {},
   "outputs": [
    {
     "data": {
      "text/plain": [
       "(np.float64(-4533.014599609375), np.float64(40.579130202994236))"
      ]
     },
     "execution_count": 51,
     "metadata": {},
     "output_type": "execute_result"
    }
   ],
   "source": [
    "media, desvio"
   ]
  },
  {
   "cell_type": "code",
   "execution_count": 52,
   "id": "5c99be5d-0308-4770-8544-0dbafaa245af",
   "metadata": {},
   "outputs": [
    {
     "data": {
      "text/plain": [
       "array([-4516.47949219, -4571.37744141, -4595.82470703, -4565.91894531,\n",
       "       -4520.25830078, -4565.5078125 , -4533.96826172, -4523.72607422,\n",
       "       -4462.43066406, -4474.65429688])"
      ]
     },
     "execution_count": 52,
     "metadata": {},
     "output_type": "execute_result"
    }
   ],
   "source": [
    "resultados"
   ]
  }
 ],
 "metadata": {
  "kernelspec": {
   "display_name": "Python 3 (ipykernel)",
   "language": "python",
   "name": "python3"
  },
  "language_info": {
   "codemirror_mode": {
    "name": "ipython",
    "version": 3
   },
   "file_extension": ".py",
   "mimetype": "text/x-python",
   "name": "python",
   "nbconvert_exporter": "python",
   "pygments_lexer": "ipython3",
   "version": "3.10.16"
  }
 },
 "nbformat": 4,
 "nbformat_minor": 5
}
