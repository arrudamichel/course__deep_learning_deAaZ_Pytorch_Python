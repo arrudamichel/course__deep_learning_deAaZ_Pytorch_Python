{
 "cells": [
  {
   "cell_type": "markdown",
   "id": "14caa8d7-7c57-43b8-9f3f-d57c89f0de3f",
   "metadata": {},
   "source": [
    "# Projeto 12 - Rede Neural Convolucional MNIST - Validação Cruzada"
   ]
  },
  {
   "cell_type": "markdown",
   "id": "6da4e324-96c5-4541-a249-df0abc16db12",
   "metadata": {},
   "source": [
    "# 1. Importando bibliotecas"
   ]
  },
  {
   "cell_type": "code",
   "execution_count": 1,
   "id": "a405e0ff-4cef-45d1-8b75-3ecb684f4eec",
   "metadata": {},
   "outputs": [
    {
     "data": {
      "text/plain": [
       "'2.5.0'"
      ]
     },
     "execution_count": 1,
     "metadata": {},
     "output_type": "execute_result"
    }
   ],
   "source": [
    "import torch\n",
    "import torch.nn as nn\n",
    "from torch import optim\n",
    "import torch.nn.functional as F\n",
    "import numpy as np\n",
    "import matplotlib.pyplot as plt\n",
    "from torchvision import datasets\n",
    "import torchvision.transforms as transforms\n",
    "\n",
    "from skorch import NeuralNetClassifier\n",
    "from sklearn.model_selection import cross_val_score\n",
    "\n",
    "torch.__version__"
   ]
  },
  {
   "cell_type": "code",
   "execution_count": 2,
   "id": "7f29a36f-e684-47c5-af35-ef894fefa083",
   "metadata": {},
   "outputs": [],
   "source": [
    "torch.set_default_device(\"mps\")\n",
    "device = torch.device(\"mps\")\n",
    "\n",
    "# torch.set_default_device(\"cpu\")\n",
    "# device = torch.device(\"cpu\")"
   ]
  },
  {
   "cell_type": "code",
   "execution_count": 3,
   "id": "672e84a2-5cf2-4799-bec6-6ee0b790461f",
   "metadata": {},
   "outputs": [
    {
     "name": "stdout",
     "output_type": "stream",
     "text": [
      "True\n",
      "True\n"
     ]
    }
   ],
   "source": [
    "print(torch.backends.mps.is_available())  # Deve retornar True\n",
    "print(torch.backends.mps.is_built())  # Deve retornar True"
   ]
  },
  {
   "cell_type": "markdown",
   "id": "b53c90e9-0430-40ed-ac50-d937a939a1e1",
   "metadata": {},
   "source": [
    "## 2. Importando dados"
   ]
  },
  {
   "cell_type": "code",
   "execution_count": 4,
   "id": "bceca3f4-77b7-4882-8d45-633d410834bf",
   "metadata": {},
   "outputs": [
    {
     "data": {
      "text/plain": [
       "<torch._C.Generator at 0x1209e63f0>"
      ]
     },
     "execution_count": 4,
     "metadata": {},
     "output_type": "execute_result"
    }
   ],
   "source": [
    "torch.manual_seed(123)"
   ]
  },
  {
   "cell_type": "code",
   "execution_count": 5,
   "id": "72a17c86-7180-4452-929c-ed82f10c9758",
   "metadata": {},
   "outputs": [],
   "source": [
    "transform = transforms.ToTensor()"
   ]
  },
  {
   "cell_type": "code",
   "execution_count": 6,
   "id": "4fb1ed1d-22f6-4af5-a297-f2d3730bdd4e",
   "metadata": {},
   "outputs": [],
   "source": [
    "train = datasets.MNIST(root = '.', train = True, download = True, transform = transform)"
   ]
  },
  {
   "cell_type": "markdown",
   "id": "3c46e122-2c8b-4520-a6f7-a0d1791774d9",
   "metadata": {},
   "source": [
    "## 3. Construção do modelo"
   ]
  },
  {
   "cell_type": "code",
   "execution_count": 12,
   "id": "226be8d3-1be9-47e2-86e4-5ac5b75f17b9",
   "metadata": {},
   "outputs": [],
   "source": [
    "class classificador(nn.Module):\n",
    "    def __init__(self):\n",
    "        super().__init__()\n",
    "\n",
    "        self.conv1 = nn.Conv2d(in_channels=1, out_channels=32, kernel_size=(3, 3)) # operador de convolucao\n",
    "        self.conv2 = nn.Conv2d(in_channels=32, out_channels=32, kernel_size=(3, 3)) # operador 2 de convolucao\n",
    "        \n",
    "        self.activation = nn.ReLU()\n",
    "        self.bnorm = nn.BatchNorm2d(num_features=32) # normalizacao dos dados em camadas ocultas\n",
    "\n",
    "        self.pool = nn.MaxPool2d(kernel_size=(2,2))\n",
    "\n",
    "        self.flatten = nn.Flatten()\n",
    "\n",
    "        # 800 -> 128\n",
    "        # output = (input - filter + 1) / (stride)\n",
    "        # convolucao 1: (28 - 3 + 1) / 1 (stride) = 26\n",
    "        # pooling 1: 13 x 13\n",
    "        # convolucao 1: (13 - 3 + 1) / 1 (stride) = 26\n",
    "        # pooling 2: 5x5\n",
    "        # 5 * 5 * 32 = imagem (5x5) * quantidade de filtros\n",
    "        # 800 -> 128 -> 128 -> 10\n",
    "        \n",
    "        self.linear1 = nn.Linear(in_features=32*5*5, out_features=128)\n",
    "        self.linear2 = nn.Linear(128, 128)\n",
    "        self.output = nn.Linear(128, 10)\n",
    "        \n",
    "        self.dropout = nn.Dropout(p=0.2)\n",
    "\n",
    "    def forward(self, X):\n",
    "        X = X.view(-1, 1, 28, 28)\n",
    "        X = self.pool(self.bnorm(self.activation(self.conv1(X))))\n",
    "        X = self.pool(self.bnorm(self.activation(self.conv2(X))))\n",
    "        \n",
    "        X = self.flatten(X)\n",
    "\n",
    "        X = self.dropout(self.activation(self.linear1(X)))\n",
    "        X = self.dropout(self.activation(self.linear2(X)))\n",
    "        X = self.output(X)\n",
    "\n",
    "        return X\n",
    "        "
   ]
  },
  {
   "cell_type": "code",
   "execution_count": 13,
   "id": "6776786b-d235-44dc-9744-59e2beaff11d",
   "metadata": {},
   "outputs": [],
   "source": [
    "classificador_sklearn = NeuralNetClassifier(module=classificador,\n",
    "                                              criterion=torch.nn.CrossEntropyLoss,\n",
    "                                              optimizer=torch.optim.Adam,\n",
    "                                              max_epochs=3,\n",
    "                                              batch_size=10,\n",
    "                                              train_split=False)"
   ]
  },
  {
   "cell_type": "markdown",
   "id": "a8d6167f-25a7-4974-82f7-e467ae7175f7",
   "metadata": {},
   "source": [
    "## 4. Validação Cruzada"
   ]
  },
  {
   "cell_type": "code",
   "execution_count": 14,
   "id": "cf2fdd9f-6aa8-48b7-b414-cb4096d701bc",
   "metadata": {},
   "outputs": [],
   "source": [
    "X = train.data.type('torch.FloatTensor')\n",
    "y = train.targets.type('torch.LongTensor')"
   ]
  },
  {
   "cell_type": "code",
   "execution_count": 15,
   "id": "cf9653fb-cfe1-4c78-9df8-f22dda1b7073",
   "metadata": {},
   "outputs": [
    {
     "name": "stdout",
     "output_type": "stream",
     "text": [
      "  epoch    train_loss      dur\n",
      "-------  ------------  -------\n",
      "      1        \u001b[36m0.4593\u001b[0m  20.9589\n",
      "      2        \u001b[36m0.3920\u001b[0m  20.5173\n",
      "      3        \u001b[36m0.3903\u001b[0m  19.3340\n",
      "  epoch    train_loss      dur\n",
      "-------  ------------  -------\n",
      "      1        \u001b[36m0.4144\u001b[0m  19.4422\n",
      "      2        \u001b[36m0.3695\u001b[0m  19.5391\n",
      "      3        0.3975  19.8027\n",
      "  epoch    train_loss      dur\n",
      "-------  ------------  -------\n",
      "      1        \u001b[36m0.3982\u001b[0m  20.1207\n",
      "      2        \u001b[36m0.3470\u001b[0m  20.3929\n",
      "      3        0.3783  21.1877\n",
      "  epoch    train_loss      dur\n",
      "-------  ------------  -------\n",
      "      1        \u001b[36m0.4165\u001b[0m  22.2306\n",
      "      2        \u001b[36m0.3563\u001b[0m  19.7268\n",
      "      3        0.4650  19.5956\n",
      "  epoch    train_loss      dur\n",
      "-------  ------------  -------\n",
      "      1        \u001b[36m0.4266\u001b[0m  21.0251\n",
      "      2        \u001b[36m0.3782\u001b[0m  20.4406\n",
      "      3        \u001b[36m0.3678\u001b[0m  20.1232\n"
     ]
    }
   ],
   "source": [
    "resultados = cross_val_score(classificador_sklearn, X, y, cv = 5, scoring = 'accuracy')"
   ]
  },
  {
   "cell_type": "markdown",
   "id": "dd4624e3-23e3-4bca-85f0-914da35e5c5e",
   "metadata": {},
   "source": [
    "## 5. Avaliação do modelo"
   ]
  },
  {
   "cell_type": "code",
   "execution_count": 16,
   "id": "b5ab7ce3-a0e4-46bf-9352-6538738d372d",
   "metadata": {},
   "outputs": [],
   "source": [
    "media = resultados.mean()\n",
    "desvio = resultados.std()"
   ]
  },
  {
   "cell_type": "code",
   "execution_count": 17,
   "id": "e38d90bc-189c-491d-b5f9-e18dc04a245b",
   "metadata": {},
   "outputs": [
    {
     "data": {
      "text/plain": [
       "(np.float64(0.5957333333333332), np.float64(0.16236380959643276))"
      ]
     },
     "execution_count": 17,
     "metadata": {},
     "output_type": "execute_result"
    }
   ],
   "source": [
    "media, desvio"
   ]
  },
  {
   "cell_type": "code",
   "execution_count": 18,
   "id": "00d9d5a1-c3ee-4865-b635-2577e0b52230",
   "metadata": {},
   "outputs": [
    {
     "data": {
      "text/plain": [
       "array([0.5415    , 0.60775   , 0.37025   , 0.58458333, 0.87458333])"
      ]
     },
     "execution_count": 18,
     "metadata": {},
     "output_type": "execute_result"
    }
   ],
   "source": [
    "resultados"
   ]
  }
 ],
 "metadata": {
  "kernelspec": {
   "display_name": "Python 3 (ipykernel)",
   "language": "python",
   "name": "python3"
  },
  "language_info": {
   "codemirror_mode": {
    "name": "ipython",
    "version": 3
   },
   "file_extension": ".py",
   "mimetype": "text/x-python",
   "name": "python",
   "nbconvert_exporter": "python",
   "pygments_lexer": "ipython3",
   "version": "3.10.16"
  }
 },
 "nbformat": 4,
 "nbformat_minor": 5
}
