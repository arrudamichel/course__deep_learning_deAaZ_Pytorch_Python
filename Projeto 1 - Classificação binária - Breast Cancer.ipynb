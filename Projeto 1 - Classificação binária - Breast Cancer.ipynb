{
 "cells": [
  {
   "cell_type": "markdown",
   "id": "6720ee6f-0b9d-4a40-8e05-32e819a49f9d",
   "metadata": {},
   "source": [
    "# Projeto 1 - Classificação binária - Breast Cancer"
   ]
  },
  {
   "cell_type": "markdown",
   "id": "45a8e735-24e0-4fab-b754-c2888a70431f",
   "metadata": {},
   "source": [
    "## 1. Importando bibliotecas"
   ]
  },
  {
   "cell_type": "code",
   "execution_count": 1,
   "id": "bf855f60-6fb8-44bd-8091-7f23e2fa572b",
   "metadata": {},
   "outputs": [],
   "source": [
    "import torch.nn as nn\n",
    "import pandas as pd\n",
    "import numpy as np\n",
    "import seaborn as sns\n",
    "from sklearn.model_selection import train_test_split\n",
    "from sklearn.metrics import confusion_matrix, accuracy_score\n",
    "import torch"
   ]
  },
  {
   "cell_type": "code",
   "execution_count": 2,
   "id": "20b0e182-a59e-446b-88aa-bce6e89f7f7e",
   "metadata": {},
   "outputs": [],
   "source": [
    "torch.set_default_device(\"mps\")\n",
    "device = torch.device(\"mps\")\n",
    "\n",
    "# torch.set_default_device(\"cpu\")\n",
    "# device = torch.device(\"cpu\")"
   ]
  },
  {
   "cell_type": "code",
   "execution_count": 3,
   "id": "3e67972a-bc3e-4c4e-b177-25343b54a7cf",
   "metadata": {},
   "outputs": [
    {
     "name": "stdout",
     "output_type": "stream",
     "text": [
      "True\n",
      "True\n"
     ]
    }
   ],
   "source": [
    "print(torch.backends.mps.is_available())  # Deve retornar True\n",
    "print(torch.backends.mps.is_built())  # Deve retornar True"
   ]
  },
  {
   "cell_type": "markdown",
   "id": "127329fd-47e2-423e-81a4-599f2c5cbad2",
   "metadata": {},
   "source": [
    "## 2. Importando dados"
   ]
  },
  {
   "cell_type": "code",
   "execution_count": 4,
   "id": "c238683f-efbe-431c-a4f0-4b8644c414c2",
   "metadata": {},
   "outputs": [
    {
     "data": {
      "text/plain": [
       "<torch._C.Generator at 0x113fe23d0>"
      ]
     },
     "execution_count": 4,
     "metadata": {},
     "output_type": "execute_result"
    }
   ],
   "source": [
    "np.random.seed(123)\n",
    "torch.manual_seed(123)"
   ]
  },
  {
   "cell_type": "code",
   "execution_count": 5,
   "id": "98f768a6-9050-480d-9b32-c0c70bf83d06",
   "metadata": {},
   "outputs": [],
   "source": [
    "previsores = pd.read_csv(\"data/entradas_breast.csv\")\n",
    "classe = pd.read_csv(\"data/saidas_breast.csv\")"
   ]
  },
  {
   "cell_type": "code",
   "execution_count": 6,
   "id": "ff904cbb-4f9d-4979-851d-924b94c9679d",
   "metadata": {},
   "outputs": [
    {
     "data": {
      "text/html": [
       "<div>\n",
       "<style scoped>\n",
       "    .dataframe tbody tr th:only-of-type {\n",
       "        vertical-align: middle;\n",
       "    }\n",
       "\n",
       "    .dataframe tbody tr th {\n",
       "        vertical-align: top;\n",
       "    }\n",
       "\n",
       "    .dataframe thead th {\n",
       "        text-align: right;\n",
       "    }\n",
       "</style>\n",
       "<table border=\"1\" class=\"dataframe\">\n",
       "  <thead>\n",
       "    <tr style=\"text-align: right;\">\n",
       "      <th></th>\n",
       "      <th>radius_mean</th>\n",
       "      <th>texture_mean</th>\n",
       "      <th>perimeter_mean</th>\n",
       "      <th>area_mean</th>\n",
       "      <th>smoothness_mean</th>\n",
       "      <th>compactness_mean</th>\n",
       "      <th>concavity_mean</th>\n",
       "      <th>concave_points_mean</th>\n",
       "      <th>symmetry_mean</th>\n",
       "      <th>fractal_dimension_mean</th>\n",
       "      <th>...</th>\n",
       "      <th>radius_worst</th>\n",
       "      <th>texture_worst</th>\n",
       "      <th>perimeter_worst</th>\n",
       "      <th>area_worst</th>\n",
       "      <th>smoothness_worst</th>\n",
       "      <th>compactness_worst</th>\n",
       "      <th>concavity_worst</th>\n",
       "      <th>concave_points_worst</th>\n",
       "      <th>symmetry_worst</th>\n",
       "      <th>fractal_dimension_worst</th>\n",
       "    </tr>\n",
       "  </thead>\n",
       "  <tbody>\n",
       "    <tr>\n",
       "      <th>0</th>\n",
       "      <td>17.99</td>\n",
       "      <td>10.38</td>\n",
       "      <td>122.80</td>\n",
       "      <td>1001.0</td>\n",
       "      <td>0.11840</td>\n",
       "      <td>0.27760</td>\n",
       "      <td>0.3001</td>\n",
       "      <td>0.14710</td>\n",
       "      <td>0.2419</td>\n",
       "      <td>0.07871</td>\n",
       "      <td>...</td>\n",
       "      <td>25.38</td>\n",
       "      <td>17.33</td>\n",
       "      <td>184.60</td>\n",
       "      <td>2019.0</td>\n",
       "      <td>0.1622</td>\n",
       "      <td>0.6656</td>\n",
       "      <td>0.7119</td>\n",
       "      <td>0.2654</td>\n",
       "      <td>0.4601</td>\n",
       "      <td>0.11890</td>\n",
       "    </tr>\n",
       "    <tr>\n",
       "      <th>1</th>\n",
       "      <td>20.57</td>\n",
       "      <td>17.77</td>\n",
       "      <td>132.90</td>\n",
       "      <td>1326.0</td>\n",
       "      <td>0.08474</td>\n",
       "      <td>0.07864</td>\n",
       "      <td>0.0869</td>\n",
       "      <td>0.07017</td>\n",
       "      <td>0.1812</td>\n",
       "      <td>0.05667</td>\n",
       "      <td>...</td>\n",
       "      <td>24.99</td>\n",
       "      <td>23.41</td>\n",
       "      <td>158.80</td>\n",
       "      <td>1956.0</td>\n",
       "      <td>0.1238</td>\n",
       "      <td>0.1866</td>\n",
       "      <td>0.2416</td>\n",
       "      <td>186.0000</td>\n",
       "      <td>275.0000</td>\n",
       "      <td>0.08902</td>\n",
       "    </tr>\n",
       "    <tr>\n",
       "      <th>2</th>\n",
       "      <td>19.69</td>\n",
       "      <td>21.25</td>\n",
       "      <td>130.00</td>\n",
       "      <td>1203.0</td>\n",
       "      <td>0.10960</td>\n",
       "      <td>0.15990</td>\n",
       "      <td>0.1974</td>\n",
       "      <td>0.12790</td>\n",
       "      <td>0.2069</td>\n",
       "      <td>0.05999</td>\n",
       "      <td>...</td>\n",
       "      <td>23.57</td>\n",
       "      <td>25.53</td>\n",
       "      <td>152.50</td>\n",
       "      <td>1709.0</td>\n",
       "      <td>0.1444</td>\n",
       "      <td>0.4245</td>\n",
       "      <td>0.4504</td>\n",
       "      <td>243.0000</td>\n",
       "      <td>0.3613</td>\n",
       "      <td>0.08758</td>\n",
       "    </tr>\n",
       "    <tr>\n",
       "      <th>3</th>\n",
       "      <td>11.42</td>\n",
       "      <td>20.38</td>\n",
       "      <td>77.58</td>\n",
       "      <td>386.1</td>\n",
       "      <td>0.14250</td>\n",
       "      <td>0.28390</td>\n",
       "      <td>0.2414</td>\n",
       "      <td>0.10520</td>\n",
       "      <td>0.2597</td>\n",
       "      <td>0.09744</td>\n",
       "      <td>...</td>\n",
       "      <td>14.91</td>\n",
       "      <td>26.50</td>\n",
       "      <td>98.87</td>\n",
       "      <td>567.7</td>\n",
       "      <td>0.2098</td>\n",
       "      <td>0.8663</td>\n",
       "      <td>0.6869</td>\n",
       "      <td>0.2575</td>\n",
       "      <td>0.6638</td>\n",
       "      <td>173.00000</td>\n",
       "    </tr>\n",
       "    <tr>\n",
       "      <th>4</th>\n",
       "      <td>20.29</td>\n",
       "      <td>14.34</td>\n",
       "      <td>135.10</td>\n",
       "      <td>1297.0</td>\n",
       "      <td>0.10030</td>\n",
       "      <td>0.13280</td>\n",
       "      <td>198.0000</td>\n",
       "      <td>0.10430</td>\n",
       "      <td>0.1809</td>\n",
       "      <td>0.05883</td>\n",
       "      <td>...</td>\n",
       "      <td>22.54</td>\n",
       "      <td>16.67</td>\n",
       "      <td>152.20</td>\n",
       "      <td>1575.0</td>\n",
       "      <td>0.1374</td>\n",
       "      <td>205.0000</td>\n",
       "      <td>0.4000</td>\n",
       "      <td>0.1625</td>\n",
       "      <td>0.2364</td>\n",
       "      <td>0.07678</td>\n",
       "    </tr>\n",
       "  </tbody>\n",
       "</table>\n",
       "<p>5 rows × 30 columns</p>\n",
       "</div>"
      ],
      "text/plain": [
       "    radius_mean   texture_mean   perimeter_mean   area_mean   smoothness_mean  \\\n",
       "0         17.99          10.38           122.80      1001.0           0.11840   \n",
       "1         20.57          17.77           132.90      1326.0           0.08474   \n",
       "2         19.69          21.25           130.00      1203.0           0.10960   \n",
       "3         11.42          20.38            77.58       386.1           0.14250   \n",
       "4         20.29          14.34           135.10      1297.0           0.10030   \n",
       "\n",
       "    compactness_mean   concavity_mean  concave_points_mean   symmetry_mean  \\\n",
       "0            0.27760           0.3001              0.14710          0.2419   \n",
       "1            0.07864           0.0869              0.07017          0.1812   \n",
       "2            0.15990           0.1974              0.12790          0.2069   \n",
       "3            0.28390           0.2414              0.10520          0.2597   \n",
       "4            0.13280         198.0000              0.10430          0.1809   \n",
       "\n",
       "    fractal_dimension_mean  ...   radius_worst   texture_worst  \\\n",
       "0                  0.07871  ...          25.38           17.33   \n",
       "1                  0.05667  ...          24.99           23.41   \n",
       "2                  0.05999  ...          23.57           25.53   \n",
       "3                  0.09744  ...          14.91           26.50   \n",
       "4                  0.05883  ...          22.54           16.67   \n",
       "\n",
       "    perimeter_worst   area_worst   smoothness_worst   compactness_worst  \\\n",
       "0            184.60       2019.0             0.1622              0.6656   \n",
       "1            158.80       1956.0             0.1238              0.1866   \n",
       "2            152.50       1709.0             0.1444              0.4245   \n",
       "3             98.87        567.7             0.2098              0.8663   \n",
       "4            152.20       1575.0             0.1374            205.0000   \n",
       "\n",
       "    concavity_worst   concave_points_worst   symmetry_worst  \\\n",
       "0            0.7119                 0.2654           0.4601   \n",
       "1            0.2416               186.0000         275.0000   \n",
       "2            0.4504               243.0000           0.3613   \n",
       "3            0.6869                 0.2575           0.6638   \n",
       "4            0.4000                 0.1625           0.2364   \n",
       "\n",
       "    fractal_dimension_worst  \n",
       "0                   0.11890  \n",
       "1                   0.08902  \n",
       "2                   0.08758  \n",
       "3                 173.00000  \n",
       "4                   0.07678  \n",
       "\n",
       "[5 rows x 30 columns]"
      ]
     },
     "execution_count": 6,
     "metadata": {},
     "output_type": "execute_result"
    }
   ],
   "source": [
    "previsores.head()"
   ]
  },
  {
   "cell_type": "code",
   "execution_count": 7,
   "id": "86c8d292-0141-4fe9-bea2-a28a5b81b6db",
   "metadata": {},
   "outputs": [
    {
     "data": {
      "text/html": [
       "<div>\n",
       "<style scoped>\n",
       "    .dataframe tbody tr th:only-of-type {\n",
       "        vertical-align: middle;\n",
       "    }\n",
       "\n",
       "    .dataframe tbody tr th {\n",
       "        vertical-align: top;\n",
       "    }\n",
       "\n",
       "    .dataframe thead th {\n",
       "        text-align: right;\n",
       "    }\n",
       "</style>\n",
       "<table border=\"1\" class=\"dataframe\">\n",
       "  <thead>\n",
       "    <tr style=\"text-align: right;\">\n",
       "      <th></th>\n",
       "      <th>0</th>\n",
       "    </tr>\n",
       "  </thead>\n",
       "  <tbody>\n",
       "    <tr>\n",
       "      <th>0</th>\n",
       "      <td>0</td>\n",
       "    </tr>\n",
       "    <tr>\n",
       "      <th>1</th>\n",
       "      <td>0</td>\n",
       "    </tr>\n",
       "    <tr>\n",
       "      <th>2</th>\n",
       "      <td>0</td>\n",
       "    </tr>\n",
       "    <tr>\n",
       "      <th>3</th>\n",
       "      <td>0</td>\n",
       "    </tr>\n",
       "    <tr>\n",
       "      <th>4</th>\n",
       "      <td>0</td>\n",
       "    </tr>\n",
       "  </tbody>\n",
       "</table>\n",
       "</div>"
      ],
      "text/plain": [
       "   0\n",
       "0  0\n",
       "1  0\n",
       "2  0\n",
       "3  0\n",
       "4  0"
      ]
     },
     "execution_count": 7,
     "metadata": {},
     "output_type": "execute_result"
    }
   ],
   "source": [
    "classe.head()"
   ]
  },
  {
   "cell_type": "code",
   "execution_count": 8,
   "id": "26579c68-d8b0-43d7-8942-b39a9c31c170",
   "metadata": {},
   "outputs": [
    {
     "data": {
      "text/plain": [
       "array([0, 1])"
      ]
     },
     "execution_count": 8,
     "metadata": {},
     "output_type": "execute_result"
    }
   ],
   "source": [
    "np.unique(classe)"
   ]
  },
  {
   "cell_type": "code",
   "execution_count": 9,
   "id": "d3c798d9-3225-4d02-9368-fe7e7866ddd6",
   "metadata": {},
   "outputs": [
    {
     "data": {
      "text/html": [
       "<div>\n",
       "<style scoped>\n",
       "    .dataframe tbody tr th:only-of-type {\n",
       "        vertical-align: middle;\n",
       "    }\n",
       "\n",
       "    .dataframe tbody tr th {\n",
       "        vertical-align: top;\n",
       "    }\n",
       "\n",
       "    .dataframe thead th {\n",
       "        text-align: right;\n",
       "    }\n",
       "</style>\n",
       "<table border=\"1\" class=\"dataframe\">\n",
       "  <thead>\n",
       "    <tr style=\"text-align: right;\">\n",
       "      <th></th>\n",
       "      <th>0</th>\n",
       "    </tr>\n",
       "  </thead>\n",
       "  <tbody>\n",
       "    <tr>\n",
       "      <th>0</th>\n",
       "      <td>0</td>\n",
       "    </tr>\n",
       "    <tr>\n",
       "      <th>1</th>\n",
       "      <td>0</td>\n",
       "    </tr>\n",
       "    <tr>\n",
       "      <th>2</th>\n",
       "      <td>0</td>\n",
       "    </tr>\n",
       "    <tr>\n",
       "      <th>3</th>\n",
       "      <td>0</td>\n",
       "    </tr>\n",
       "    <tr>\n",
       "      <th>4</th>\n",
       "      <td>0</td>\n",
       "    </tr>\n",
       "    <tr>\n",
       "      <th>...</th>\n",
       "      <td>...</td>\n",
       "    </tr>\n",
       "    <tr>\n",
       "      <th>564</th>\n",
       "      <td>0</td>\n",
       "    </tr>\n",
       "    <tr>\n",
       "      <th>565</th>\n",
       "      <td>0</td>\n",
       "    </tr>\n",
       "    <tr>\n",
       "      <th>566</th>\n",
       "      <td>0</td>\n",
       "    </tr>\n",
       "    <tr>\n",
       "      <th>567</th>\n",
       "      <td>0</td>\n",
       "    </tr>\n",
       "    <tr>\n",
       "      <th>568</th>\n",
       "      <td>1</td>\n",
       "    </tr>\n",
       "  </tbody>\n",
       "</table>\n",
       "<p>569 rows × 1 columns</p>\n",
       "</div>"
      ],
      "text/plain": [
       "     0\n",
       "0    0\n",
       "1    0\n",
       "2    0\n",
       "3    0\n",
       "4    0\n",
       "..  ..\n",
       "564  0\n",
       "565  0\n",
       "566  0\n",
       "567  0\n",
       "568  1\n",
       "\n",
       "[569 rows x 1 columns]"
      ]
     },
     "execution_count": 9,
     "metadata": {},
     "output_type": "execute_result"
    }
   ],
   "source": [
    "classe"
   ]
  },
  {
   "cell_type": "markdown",
   "id": "de2fbdad-f7e6-4bf1-b9da-5380148ba813",
   "metadata": {},
   "source": [
    "#### Dividindo em treino e teste"
   ]
  },
  {
   "cell_type": "code",
   "execution_count": 10,
   "id": "3e9dd65b-b3e3-4eb1-b2c6-3fe909a7251c",
   "metadata": {},
   "outputs": [],
   "source": [
    "previsores_treino, previsores_teste, classe_treino, classe_teste = train_test_split(previsores, classe, test_size = 0.25)"
   ]
  },
  {
   "cell_type": "markdown",
   "id": "1644453b-dff7-4a1e-8efe-6e6ba68bbea9",
   "metadata": {},
   "source": [
    "## 3. Transformando dados para tensores"
   ]
  },
  {
   "cell_type": "code",
   "execution_count": 11,
   "id": "2aeaf130-8252-47df-86fb-a1f3a5b50cb3",
   "metadata": {},
   "outputs": [],
   "source": [
    "previsores_treino = torch.tensor(np.array(previsores_treino), dtype=torch.float)\n",
    "classe_treino = torch.tensor(np.array(classe_treino), dtype=torch.float)"
   ]
  },
  {
   "cell_type": "code",
   "execution_count": 12,
   "id": "0d86cd0a-72d3-4e2d-89e3-b8dc5289218c",
   "metadata": {},
   "outputs": [
    {
     "data": {
      "text/plain": [
       "(torch.Tensor, torch.Tensor)"
      ]
     },
     "execution_count": 12,
     "metadata": {},
     "output_type": "execute_result"
    }
   ],
   "source": [
    "type(previsores_treino), type(classe_treino)"
   ]
  },
  {
   "cell_type": "code",
   "execution_count": 13,
   "id": "05e1dd25-3343-4b13-b2f6-36b6cf1fa818",
   "metadata": {},
   "outputs": [],
   "source": [
    "dataset = torch.utils.data.TensorDataset(previsores_treino, classe_treino)"
   ]
  },
  {
   "cell_type": "code",
   "execution_count": 14,
   "id": "dd3897f3-e9f8-4b5a-94b4-88fd85bab2cb",
   "metadata": {},
   "outputs": [
    {
     "data": {
      "text/plain": [
       "<torch.utils.data.dataset.TensorDataset at 0x130c66ce0>"
      ]
     },
     "execution_count": 14,
     "metadata": {},
     "output_type": "execute_result"
    }
   ],
   "source": [
    "dataset"
   ]
  },
  {
   "cell_type": "code",
   "execution_count": 15,
   "id": "250690d6-4651-408b-951c-fbc40aa14fdd",
   "metadata": {},
   "outputs": [],
   "source": [
    "train_loader = torch.utils.data.DataLoader(dataset, batch_size=10, shuffle=True, pin_memory=False,  # MPS não suporta pin_memory=True\n",
    "                                                                              generator=torch.Generator(device=device))"
   ]
  },
  {
   "cell_type": "code",
   "execution_count": 16,
   "id": "ce41af26-ed99-40a8-9bbb-f441e922864b",
   "metadata": {},
   "outputs": [
    {
     "data": {
      "text/plain": [
       "tensor([[1.1540e+01, 1.4440e+01, 7.4650e+01,  ..., 6.9180e-02, 2.3290e-01,\n",
       "         8.1340e-02],\n",
       "        [2.0310e+01, 2.7060e+01, 1.3290e+02,  ..., 1.6970e-01, 3.1510e-01,\n",
       "         7.9990e-02],\n",
       "        [1.1360e+01, 1.7570e+01, 7.2490e+01,  ..., 8.6980e-02, 2.9730e-01,\n",
       "         7.7450e-02],\n",
       "        ...,\n",
       "        [1.2050e+01, 2.2720e+01, 7.8750e+01,  ..., 1.0920e-01, 2.1910e-01,\n",
       "         9.3490e-02],\n",
       "        [2.0440e+01, 2.1780e+01, 1.3380e+02,  ..., 1.7650e-01, 2.6090e-01,\n",
       "         6.7350e-02],\n",
       "        [1.1740e+01, 1.4690e+01, 7.6310e+01,  ..., 1.0560e-01, 2.6040e-01,\n",
       "         9.8790e-02]], device='mps:0')"
      ]
     },
     "execution_count": 16,
     "metadata": {},
     "output_type": "execute_result"
    }
   ],
   "source": [
    "previsores_treino"
   ]
  },
  {
   "cell_type": "markdown",
   "id": "b5fecf1a-812e-450d-ba9a-8801934b9560",
   "metadata": {},
   "source": [
    "## 4. Construção do Modelo"
   ]
  },
  {
   "cell_type": "markdown",
   "id": "84e0f23b-9706-46f0-94bc-45281c5087bf",
   "metadata": {},
   "source": [
    "##### 30 neuronios entrada > 16 > 16 > 1"
   ]
  },
  {
   "cell_type": "code",
   "execution_count": 17,
   "id": "a917738b-0f06-4a80-9949-e734caba8ca2",
   "metadata": {},
   "outputs": [],
   "source": [
    "classificador = nn.Sequential(\n",
    "    nn.Linear(in_features=30, out_features=16),\n",
    "    nn.ReLU(),\n",
    "    nn.Linear(in_features=16, out_features=16),\n",
    "    nn.ReLU(),\n",
    "    nn.Linear(in_features=16, out_features=1),\n",
    "    nn.Sigmoid()\n",
    ")\n",
    "\n",
    "classificador = classificador.to(device)"
   ]
  },
  {
   "cell_type": "code",
   "execution_count": 18,
   "id": "54b74606-dea7-413b-9382-33e4c7ff1f29",
   "metadata": {},
   "outputs": [
    {
     "data": {
      "text/plain": [
       "<bound method Module.parameters of Sequential(\n",
       "  (0): Linear(in_features=30, out_features=16, bias=True)\n",
       "  (1): ReLU()\n",
       "  (2): Linear(in_features=16, out_features=16, bias=True)\n",
       "  (3): ReLU()\n",
       "  (4): Linear(in_features=16, out_features=1, bias=True)\n",
       "  (5): Sigmoid()\n",
       ")>"
      ]
     },
     "execution_count": 18,
     "metadata": {},
     "output_type": "execute_result"
    }
   ],
   "source": [
    "classificador.parameters"
   ]
  },
  {
   "cell_type": "code",
   "execution_count": 19,
   "id": "ba007bb7-484d-44db-b764-7a1bd0deab02",
   "metadata": {},
   "outputs": [],
   "source": [
    "criterion = nn.BCELoss()"
   ]
  },
  {
   "cell_type": "code",
   "execution_count": 20,
   "id": "29643ae9-1e04-4902-8367-7b937d3fe1ce",
   "metadata": {},
   "outputs": [
    {
     "name": "stdout",
     "output_type": "stream",
     "text": [
      "mps:0\n",
      "mps:0\n",
      "mps:0\n",
      "mps:0\n",
      "mps:0\n",
      "mps:0\n"
     ]
    }
   ],
   "source": [
    "for param in classificador.parameters():\n",
    "    print(param.device)"
   ]
  },
  {
   "cell_type": "code",
   "execution_count": 21,
   "id": "110f6ad7-8c96-409b-88dd-d15ef00f023d",
   "metadata": {},
   "outputs": [],
   "source": [
    "optimizer = torch.optim.Adam(classificador.parameters(), lr=0.001, weight_decay=0.0001)"
   ]
  },
  {
   "cell_type": "markdown",
   "id": "ccf9ca2f-e2a0-4366-8342-ebdcccf9659f",
   "metadata": {},
   "source": [
    "## 5. Treinamento do Modelo"
   ]
  },
  {
   "cell_type": "code",
   "execution_count": 22,
   "id": "20a7fb6c-d38e-46b8-a6a3-42de9bebcb51",
   "metadata": {},
   "outputs": [
    {
     "data": {
      "text/plain": [
       "<torch.utils.data.dataloader.DataLoader at 0x1319ac940>"
      ]
     },
     "execution_count": 22,
     "metadata": {},
     "output_type": "execute_result"
    }
   ],
   "source": [
    "train_loader"
   ]
  },
  {
   "cell_type": "code",
   "execution_count": 23,
   "id": "0ff3a3e7-e4b4-4d27-bd90-582212eccbbc",
   "metadata": {},
   "outputs": [
    {
     "name": "stdout",
     "output_type": "stream",
     "text": [
      "Epoch: 0, loss: 11.251024766023768\n",
      "Epoch: 1, loss: 2.6486547930642614\n",
      "Epoch: 2, loss: 0.6743210117917421\n",
      "Epoch: 3, loss: 0.6711822730857272\n",
      "Epoch: 4, loss: 0.4064685710554206\n",
      "Epoch: 5, loss: 0.3932128299114316\n",
      "Epoch: 6, loss: 0.36739525913672394\n",
      "Epoch: 7, loss: 0.3312414515503617\n",
      "Epoch: 8, loss: 0.3608907426512519\n",
      "Epoch: 9, loss: 0.3619464353420014\n",
      "Epoch: 10, loss: 0.3785589252446973\n",
      "Epoch: 11, loss: 0.35524273533807244\n",
      "Epoch: 12, loss: 0.3858393608744061\n",
      "Epoch: 13, loss: 0.3302256726594858\n",
      "Epoch: 14, loss: 0.2834021557382373\n",
      "Epoch: 15, loss: 0.27898945851078216\n",
      "Epoch: 16, loss: 0.3497392293282373\n",
      "Epoch: 17, loss: 0.2625129025342853\n",
      "Epoch: 18, loss: 0.2651733042195786\n",
      "Epoch: 19, loss: 0.3678687696513005\n",
      "Epoch: 20, loss: 0.22731209593976653\n",
      "Epoch: 21, loss: 0.2494706579072531\n",
      "Epoch: 22, loss: 0.2512568621138154\n",
      "Epoch: 23, loss: 0.3334894825292881\n",
      "Epoch: 24, loss: 0.2553250377694535\n",
      "Epoch: 25, loss: 0.22400240890335205\n",
      "Epoch: 26, loss: 0.25096760222385095\n",
      "Epoch: 27, loss: 0.24919250681129998\n",
      "Epoch: 28, loss: 0.22524399262701356\n",
      "Epoch: 29, loss: 0.2585028325055921\n",
      "Epoch: 30, loss: 0.22484763655378376\n",
      "Epoch: 31, loss: 0.22449018368714077\n",
      "Epoch: 32, loss: 0.19746732222306174\n",
      "Epoch: 33, loss: 0.23443895400783352\n",
      "Epoch: 34, loss: 0.24772894651044247\n",
      "Epoch: 35, loss: 0.2023720616518065\n",
      "Epoch: 36, loss: 0.212309118230329\n",
      "Epoch: 37, loss: 0.22151494342400585\n",
      "Epoch: 38, loss: 0.27566879353117807\n",
      "Epoch: 39, loss: 0.17657882269731787\n",
      "Epoch: 40, loss: 0.19508775501230427\n",
      "Epoch: 41, loss: 0.16914020076957206\n",
      "Epoch: 42, loss: 0.18969807760833307\n",
      "Epoch: 43, loss: 0.1708900688952485\n",
      "Epoch: 44, loss: 0.29274264622349727\n",
      "Epoch: 45, loss: 0.1846372048955324\n",
      "Epoch: 46, loss: 0.23346119351295191\n",
      "Epoch: 47, loss: 0.17375018094601327\n",
      "Epoch: 48, loss: 0.1620771783555663\n",
      "Epoch: 49, loss: 0.2032662537490386\n",
      "Epoch: 50, loss: 0.21879838064832743\n",
      "Epoch: 51, loss: 0.23997438703338766\n",
      "Epoch: 52, loss: 0.1704861239725074\n",
      "Epoch: 53, loss: 0.2198829185217619\n",
      "Epoch: 54, loss: 0.17916890966900906\n",
      "Epoch: 55, loss: 0.1745496363985504\n",
      "Epoch: 56, loss: 0.18147418793117584\n",
      "Epoch: 57, loss: 0.20367472356748442\n",
      "Epoch: 58, loss: 0.16470550321215807\n",
      "Epoch: 59, loss: 0.17749758005185529\n",
      "Epoch: 60, loss: 0.17314422754354256\n",
      "Epoch: 61, loss: 0.16501080226369721\n",
      "Epoch: 62, loss: 0.17204264022929724\n",
      "Epoch: 63, loss: 0.2081419735887023\n",
      "Epoch: 64, loss: 0.2416104217016593\n",
      "Epoch: 65, loss: 0.16006936825985132\n",
      "Epoch: 66, loss: 0.2050485573709011\n",
      "Epoch: 67, loss: 0.1906789581529623\n",
      "Epoch: 68, loss: 0.17557383574502067\n",
      "Epoch: 69, loss: 0.17264402395677428\n",
      "Epoch: 70, loss: 0.16071700142306644\n",
      "Epoch: 71, loss: 0.13727368752277175\n",
      "Epoch: 72, loss: 0.20609702600902596\n",
      "Epoch: 73, loss: 0.18054114344941322\n",
      "Epoch: 74, loss: 0.16410018198278753\n",
      "Epoch: 75, loss: 0.14940372911866667\n",
      "Epoch: 76, loss: 0.2900648906388385\n",
      "Epoch: 77, loss: 0.18744214650698351\n",
      "Epoch: 78, loss: 0.16579851707400278\n",
      "Epoch: 79, loss: 0.19560522627258717\n",
      "Epoch: 80, loss: 0.1638786805533739\n",
      "Epoch: 81, loss: 0.13250480940955323\n",
      "Epoch: 82, loss: 0.12497816909494441\n",
      "Epoch: 83, loss: 0.13439762648086734\n",
      "Epoch: 84, loss: 0.1441566371006978\n",
      "Epoch: 85, loss: 0.1284468957699489\n",
      "Epoch: 86, loss: 0.22796602590486062\n",
      "Epoch: 87, loss: 0.14861843269318342\n",
      "Epoch: 88, loss: 0.15750413796821133\n",
      "Epoch: 89, loss: 0.14480287692141394\n",
      "Epoch: 90, loss: 0.15168829576848725\n",
      "Epoch: 91, loss: 0.12592836446670252\n",
      "Epoch: 92, loss: 0.13892169421820275\n",
      "Epoch: 93, loss: 0.2028266268045923\n",
      "Epoch: 94, loss: 0.13543817748553877\n",
      "Epoch: 95, loss: 0.13006315304529528\n",
      "Epoch: 96, loss: 0.13997269168409499\n",
      "Epoch: 97, loss: 0.13440977034787105\n",
      "Epoch: 98, loss: 0.15102559559826934\n",
      "Epoch: 99, loss: 0.21627692871748708\n"
     ]
    }
   ],
   "source": [
    "for epoch in range(100):\n",
    "    running_loss = 0.\n",
    "\n",
    "    for data in train_loader:\n",
    "        inputs, labels = data #previsores, classes - tensor com quantidade batch_size\n",
    "        inputs, labels = inputs.to(device), labels.to(device)\n",
    "        \n",
    "        optimizer.zero_grad() #zerar o gradiente para o calculo\n",
    "\n",
    "        # Forward\n",
    "        outputs = classificador(inputs) # classificador.forward(inputs) -> previsões\n",
    "        #print(outputs)\n",
    "\n",
    "        # Calculo do Erro\n",
    "        loss = criterion(outputs, labels) #\n",
    "        #print(loss)\n",
    "\n",
    "        # Backpropagation\n",
    "        loss.backward()\n",
    "        optimizer.step()\n",
    "\n",
    "        # atualiza o erro\n",
    "        running_loss += loss.item()\n",
    "\n",
    "    print(f\"Epoch: {epoch}, loss: {running_loss/len(train_loader)}\")\n",
    "        "
   ]
  },
  {
   "cell_type": "markdown",
   "id": "8a5ae9c6-ac59-41c3-aceb-7600db511111",
   "metadata": {},
   "source": [
    "## 6. Visualização dos pesos"
   ]
  },
  {
   "cell_type": "code",
   "execution_count": 24,
   "id": "12664ea9-82ae-4edf-a3bc-4593c43debc5",
   "metadata": {},
   "outputs": [],
   "source": [
    "params = list(classificador.parameters())"
   ]
  },
  {
   "cell_type": "code",
   "execution_count": 25,
   "id": "aed5e1a7-4f6f-4669-a134-d3a3c549843c",
   "metadata": {},
   "outputs": [
    {
     "data": {
      "text/plain": [
       "torch.Size([16, 30])"
      ]
     },
     "execution_count": 25,
     "metadata": {},
     "output_type": "execute_result"
    }
   ],
   "source": [
    "pesos0 = params[0]\n",
    "pesos0.shape"
   ]
  },
  {
   "cell_type": "code",
   "execution_count": 26,
   "id": "5aee32a6-813d-4647-bdc7-08e3407beb1b",
   "metadata": {},
   "outputs": [
    {
     "data": {
      "text/plain": [
       "Parameter containing:\n",
       "tensor([[ 1.7269e-01,  1.0874e-01,  2.9318e-01,  8.1048e-03, -5.0530e-01,\n",
       "         -3.6947e-01,  6.4259e-02, -7.5210e-02,  1.5010e-01,  2.8459e-01,\n",
       "          8.9032e-02, -2.2256e-01,  1.2595e-02, -2.2087e-01,  1.9787e-03,\n",
       "         -6.8040e-02,  3.3674e-02,  1.6470e-01,  1.2392e-01, -4.9893e-03,\n",
       "          3.5700e-01,  7.3902e-02,  5.0374e-02,  3.9721e-02,  1.3876e-01,\n",
       "          1.1353e-01,  8.7007e-02, -1.1745e-01, -2.1853e-02,  8.6304e-02],\n",
       "        [ 2.8616e-02,  4.6899e-03, -1.2149e-01, -1.1138e-01, -1.0158e-33,\n",
       "         -1.0559e-33,  9.6204e-34,  1.0278e-33,  3.8981e-06, -9.9920e-34,\n",
       "          5.4601e-04, -1.6650e-01, -3.0158e-02,  2.2729e-04,  1.0511e-33,\n",
       "          1.0566e-33,  1.0524e-33, -1.0545e-33,  1.0293e-33,  9.5550e-34,\n",
       "         -1.6180e-02,  5.7146e-03, -8.0155e-02,  9.7647e-03, -9.9899e-34,\n",
       "         -9.7427e-34, -1.0249e-33,  9.5662e-34, -1.0082e-33, -1.0310e-33],\n",
       "        [-1.4288e-01,  7.1748e-02,  7.4040e-02, -1.5844e-01,  1.2009e-01,\n",
       "          2.7815e-02, -3.7915e-02,  7.6802e-02,  2.1040e-01,  4.2258e-01,\n",
       "          7.5996e-02, -9.8174e-02,  4.5026e-02, -1.9135e-01, -6.2740e-03,\n",
       "         -9.8378e-03,  1.2646e-01,  4.0952e-01, -3.4850e-01, -4.7940e-03,\n",
       "         -6.0637e-03,  4.5369e-02,  6.1752e-02,  1.2974e-01, -1.4975e-01,\n",
       "          7.7347e-02,  2.9592e-01, -8.1397e-02, -5.7965e-02, -2.3630e-01],\n",
       "        [-4.7415e-01, -1.6701e-01, -4.3776e-01, -1.2187e-02,  2.5698e-01,\n",
       "          1.5387e-01, -1.8380e-01, -3.7462e-02, -1.4127e-01, -1.7114e-01,\n",
       "         -1.1225e-01,  1.4155e-03,  1.3078e-01,  1.0833e-01,  1.0024e-02,\n",
       "          4.9973e-02, -3.3637e-01, -3.4739e-02,  1.2818e-01,  2.2152e-01,\n",
       "         -1.5559e-01,  1.6315e-01, -3.6029e-01,  1.2385e-02,  7.2239e-02,\n",
       "         -1.7435e-01, -1.2909e-01, -1.1932e-01,  2.1574e-01,  2.9358e-01],\n",
       "        [-2.5725e-02,  4.7599e-02,  6.9248e-02, -4.3515e-02,  1.0170e-02,\n",
       "         -1.3208e-01, -9.7181e-02, -1.0121e-33,  4.0532e-03, -1.0593e-33,\n",
       "          8.1408e-34, -1.4072e-01, -4.8962e-02,  1.6131e-01,  1.0528e-33,\n",
       "         -1.0095e-33,  1.0286e-33, -1.1719e-33,  1.1515e-33,  1.1586e-33,\n",
       "          1.3306e-03,  3.0755e-02, -4.1595e-03, -1.2844e-01, -1.4832e-26,\n",
       "          1.4768e-22,  2.2801e-02, -1.0001e-33,  2.7133e-17, -4.1634e-03],\n",
       "        [-1.0560e-33, -1.0136e-33, -1.0226e-33, -2.6550e-12,  9.7703e-34,\n",
       "         -1.1141e-33,  9.8174e-34, -9.9371e-34, -9.8293e-34, -1.0485e-33,\n",
       "          1.0519e-33, -7.2685e-12, -4.7940e-05, -6.3218e-03, -9.7227e-34,\n",
       "         -1.0051e-33,  1.0513e-33,  1.0086e-33, -1.1358e-33,  1.0737e-33,\n",
       "         -9.5819e-34,  1.0191e-33,  1.0353e-33, -8.0146e-11, -1.0874e-33,\n",
       "          1.0553e-33, -1.0291e-33,  1.0695e-33,  5.3703e-21,  9.8393e-34],\n",
       "        [-2.7983e-02,  9.1990e-02, -3.8732e-02, -9.1295e-02,  6.4163e-02,\n",
       "          3.5187e-02,  1.1253e-01,  3.1911e-05,  7.3085e-03, -5.8136e-02,\n",
       "          2.9106e-02,  1.5728e-02, -1.2794e-01,  1.4593e-01,  6.8330e-05,\n",
       "          1.7645e-02,  7.9385e-05,  6.5610e-05, -1.8449e-02,  4.1390e-05,\n",
       "          5.4236e-02,  1.9972e-02, -1.1918e-01,  2.9155e-02,  3.4735e-02,\n",
       "          1.0594e-01,  3.3999e-02,  5.4428e-02,  2.5835e-01,  2.0467e-02],\n",
       "        [ 3.0521e-02, -1.2872e-01,  1.6959e-01,  1.3768e-01, -8.9377e-02,\n",
       "         -2.1708e-01,  8.0573e-02,  1.5497e-01, -1.9081e-01, -3.6225e-01,\n",
       "         -1.5119e-01,  8.7619e-02,  5.1577e-02, -3.1109e-01, -6.4071e-03,\n",
       "          1.0691e-01,  2.0454e-01,  6.2835e-02,  7.2680e-02, -1.9988e-01,\n",
       "          8.0662e-02, -2.1984e-01,  2.3514e-01, -2.0923e-01,  2.2286e-01,\n",
       "          1.0327e-01,  5.1562e-02, -3.0496e-01, -2.5525e-02,  9.7584e-02],\n",
       "        [-2.5946e-01, -3.6632e-01, -2.5042e-02, -5.0392e-02, -2.6119e-02,\n",
       "          1.7547e-01,  2.4390e-01,  1.4349e-02,  7.3331e-02, -1.7275e-01,\n",
       "          1.4191e-01, -2.6721e-02, -7.5305e-02,  3.8563e-03, -3.2886e-03,\n",
       "          3.0540e-02,  5.4701e-02, -4.6092e-01,  1.3696e-01,  2.2933e-03,\n",
       "         -2.0483e-01, -3.1704e-01, -5.8231e-02,  9.8098e-02, -3.1428e-02,\n",
       "          2.2834e-02,  4.9566e-02,  1.6757e-01,  9.0638e-02,  3.1689e-02],\n",
       "        [-3.6315e-01, -4.8337e-03, -3.7210e-01,  5.0246e-02, -1.1349e-01,\n",
       "         -6.4338e-02,  2.6046e-02, -1.0209e-01, -1.6795e-01,  2.2010e-01,\n",
       "         -8.2921e-02,  1.1534e-01,  5.3306e-02,  1.9903e-01,  4.0628e-02,\n",
       "          1.4174e-03, -2.3556e-01, -2.5918e-01, -7.8577e-02,  1.8964e-01,\n",
       "         -1.1288e-01,  2.0201e-01, -1.3800e-01,  1.6738e-01,  1.8217e-01,\n",
       "          1.6115e-01,  4.2727e-02, -9.6137e-02, -1.1133e-01,  3.1217e-01],\n",
       "        [ 1.2944e-01, -9.2300e-02,  2.5554e-01,  4.7421e-02, -8.3034e-02,\n",
       "          7.2902e-02, -4.5265e-02,  4.9608e-02,  4.0305e-02,  4.2398e-01,\n",
       "         -1.1180e-01,  2.7641e-02,  3.7537e-02,  2.1481e-03, -2.2289e-02,\n",
       "         -1.4456e-01,  2.3541e-01,  1.2504e-01,  3.6876e-01, -3.3146e-01,\n",
       "          2.2404e-01, -2.6250e-01,  2.2518e-01, -9.1427e-02,  3.0367e-02,\n",
       "         -1.2087e-02,  4.8059e-02, -3.8568e-02,  1.9298e-02, -8.8274e-02],\n",
       "        [ 4.1225e-02,  1.0558e-01,  2.9814e-01, -7.3793e-02, -2.5787e-01,\n",
       "         -3.1094e-01, -1.5382e-01,  2.1254e-01,  3.4341e-01, -4.4291e-01,\n",
       "          1.4217e-01,  5.9934e-02,  2.8067e-02, -7.8413e-03, -1.2414e-02,\n",
       "          3.6015e-01,  1.6564e-01, -5.9728e-03, -3.4430e-01, -3.7371e-01,\n",
       "          3.1927e-01,  9.5711e-03,  1.2005e-01, -1.7591e-02,  2.4853e-03,\n",
       "          1.0065e-01,  4.1203e-01,  1.6407e-01, -6.3288e-02, -2.4488e-01],\n",
       "        [-1.4075e-18, -2.9640e-16, -7.7234e-05, -4.7106e-03, -9.9758e-34,\n",
       "          5.4157e-15, -1.0307e-33,  4.5836e-22,  1.0144e-33, -2.0264e-06,\n",
       "          1.0504e-33, -9.5581e-34,  9.9251e-34, -6.5663e-10, -9.6946e-34,\n",
       "         -1.0558e-33,  1.0864e-33, -9.5590e-34,  1.0268e-33, -1.1445e-33,\n",
       "         -2.8635e-17, -2.2051e-13, -1.0903e-04, -4.2364e-03,  1.0069e-33,\n",
       "         -1.0397e-33, -7.8710e-07,  1.0483e-33, -1.0373e-33,  9.4700e-34],\n",
       "        [-1.1116e-01, -5.7419e-02, -9.8886e-02,  8.5596e-03,  1.0609e-04,\n",
       "          6.9308e-03,  1.0995e-04,  1.6607e-03, -5.8546e-03,  1.0334e-01,\n",
       "          1.7233e-01,  3.4054e-03, -3.3823e-02,  7.0726e-02, -3.0951e-06,\n",
       "         -3.4303e-02,  2.3691e-05, -1.3671e-06,  1.8171e-02,  8.6121e-07,\n",
       "         -5.9244e-02, -3.7918e-02, -2.0993e-02, -3.9619e-02, -8.6869e-02,\n",
       "         -4.5131e-02, -3.5976e-02,  1.3415e-01, -2.5475e-02,  8.3515e-05],\n",
       "        [-2.8622e-01, -4.4022e-01, -8.8614e-02,  6.3309e-02,  1.7952e-01,\n",
       "          5.4920e-02,  7.4958e-02,  1.7287e-01, -3.3342e-01,  2.6573e-02,\n",
       "          9.3455e-02,  1.3921e-01, -6.5016e-02,  1.4960e-01, -1.0412e-03,\n",
       "         -4.0292e-01, -5.7881e-02, -2.2322e-01,  3.9546e-01,  3.8885e-02,\n",
       "         -4.9465e-02, -2.3343e-01, -1.1325e-01,  1.0261e-01, -2.6646e-01,\n",
       "         -2.0974e-01, -2.3167e-01, -1.2312e-01, -5.2650e-02,  8.6725e-02],\n",
       "        [ 5.2355e-02, -1.1250e-01,  5.5112e-02,  1.2673e-01, -2.5080e-01,\n",
       "          4.3947e-02, -9.4461e-02,  2.3718e-01,  4.4569e-02, -1.8612e-01,\n",
       "         -4.2263e-03,  1.0051e-01,  4.1819e-02,  1.3551e-01, -4.0045e-02,\n",
       "          1.7756e-01,  2.5109e-01,  3.1497e-01,  6.6685e-02, -2.1858e-01,\n",
       "          2.9615e-01, -5.7607e-02,  2.0550e-01, -1.1534e-02, -9.2078e-02,\n",
       "          1.0045e-01,  1.2209e-01,  7.4256e-02, -3.1130e-02, -3.3134e-01]],\n",
       "       device='mps:0', requires_grad=True)"
      ]
     },
     "execution_count": 26,
     "metadata": {},
     "output_type": "execute_result"
    }
   ],
   "source": [
    "pesos0"
   ]
  },
  {
   "cell_type": "code",
   "execution_count": 27,
   "id": "83e5bc1f-894f-40da-90a9-8c3afb0d5ed3",
   "metadata": {},
   "outputs": [
    {
     "data": {
      "text/plain": [
       "torch.Size([16])"
      ]
     },
     "execution_count": 27,
     "metadata": {},
     "output_type": "execute_result"
    }
   ],
   "source": [
    "bias0 = params[1]\n",
    "bias0.shape"
   ]
  },
  {
   "cell_type": "code",
   "execution_count": 28,
   "id": "bc7b8ae5-3a75-4169-9d58-befff99641d3",
   "metadata": {},
   "outputs": [
    {
     "data": {
      "text/plain": [
       "torch.Size([16, 16])"
      ]
     },
     "execution_count": 28,
     "metadata": {},
     "output_type": "execute_result"
    }
   ],
   "source": [
    "pesos1 = params[2]\n",
    "pesos1.shape"
   ]
  },
  {
   "cell_type": "code",
   "execution_count": 29,
   "id": "fededacd-24a7-4916-88e0-3c4ef68c489b",
   "metadata": {},
   "outputs": [
    {
     "data": {
      "text/plain": [
       "torch.Size([16])"
      ]
     },
     "execution_count": 29,
     "metadata": {},
     "output_type": "execute_result"
    }
   ],
   "source": [
    "bias1 = params[3]\n",
    "bias1.shape"
   ]
  },
  {
   "cell_type": "code",
   "execution_count": 30,
   "id": "a54b890a-1318-4953-9e3b-2101251b27d3",
   "metadata": {},
   "outputs": [
    {
     "data": {
      "text/plain": [
       "torch.Size([1, 16])"
      ]
     },
     "execution_count": 30,
     "metadata": {},
     "output_type": "execute_result"
    }
   ],
   "source": [
    "pesos2 = params[4]\n",
    "pesos2.shape"
   ]
  },
  {
   "cell_type": "code",
   "execution_count": 31,
   "id": "660bc286-c523-49dd-b82f-0a0a289a1eb6",
   "metadata": {},
   "outputs": [
    {
     "data": {
      "text/plain": [
       "torch.Size([16])"
      ]
     },
     "execution_count": 31,
     "metadata": {},
     "output_type": "execute_result"
    }
   ],
   "source": [
    "bias2 = params[3]\n",
    "bias2.shape"
   ]
  },
  {
   "cell_type": "code",
   "execution_count": 32,
   "id": "e57e69f6-5355-484f-a585-9b81f44c08aa",
   "metadata": {},
   "outputs": [
    {
     "data": {
      "text/plain": [
       "torch.Size([1])"
      ]
     },
     "execution_count": 32,
     "metadata": {},
     "output_type": "execute_result"
    }
   ],
   "source": [
    "pesos3 = params[5]\n",
    "pesos3.shape"
   ]
  },
  {
   "cell_type": "markdown",
   "id": "ee4ba327-cbb7-4ac9-b9a6-a801c75a440b",
   "metadata": {},
   "source": [
    "## 7. Avaliação do modelo"
   ]
  },
  {
   "cell_type": "code",
   "execution_count": 33,
   "id": "12d8224d-85ac-4b1c-b449-e21b83003f0f",
   "metadata": {},
   "outputs": [
    {
     "data": {
      "text/plain": [
       "Sequential(\n",
       "  (0): Linear(in_features=30, out_features=16, bias=True)\n",
       "  (1): ReLU()\n",
       "  (2): Linear(in_features=16, out_features=16, bias=True)\n",
       "  (3): ReLU()\n",
       "  (4): Linear(in_features=16, out_features=1, bias=True)\n",
       "  (5): Sigmoid()\n",
       ")"
      ]
     },
     "execution_count": 33,
     "metadata": {},
     "output_type": "execute_result"
    }
   ],
   "source": [
    "classificador.eval()"
   ]
  },
  {
   "cell_type": "code",
   "execution_count": 34,
   "id": "76aa1455-2e82-4372-ad54-6bc12c15dcd3",
   "metadata": {},
   "outputs": [
    {
     "data": {
      "text/plain": [
       "pandas.core.frame.DataFrame"
      ]
     },
     "execution_count": 34,
     "metadata": {},
     "output_type": "execute_result"
    }
   ],
   "source": [
    "type(previsores_teste)"
   ]
  },
  {
   "cell_type": "code",
   "execution_count": 35,
   "id": "94403ead-7bd6-4feb-b3b2-4e43996bc109",
   "metadata": {},
   "outputs": [],
   "source": [
    "previsores_teste = torch.tensor(np.array(previsores_teste), dtype=torch.float)"
   ]
  },
  {
   "cell_type": "code",
   "execution_count": 36,
   "id": "f6849d35-6a0c-499b-91b6-ce1b970db856",
   "metadata": {},
   "outputs": [],
   "source": [
    "previsoes = classificador.forward(previsores_teste)"
   ]
  },
  {
   "cell_type": "code",
   "execution_count": 37,
   "id": "df3f6977-c592-4ed3-9530-c2a019b6411c",
   "metadata": {},
   "outputs": [
    {
     "data": {
      "text/plain": [
       "tensor([[9.9558e-01],\n",
       "        [1.0000e+00],\n",
       "        [6.3017e-01],\n",
       "        [9.8859e-01],\n",
       "        [1.5052e-05],\n",
       "        [2.4013e-01],\n",
       "        [9.7825e-01],\n",
       "        [9.9106e-01],\n",
       "        [7.7648e-01],\n",
       "        [9.2053e-01],\n",
       "        [7.3426e-01],\n",
       "        [5.6456e-01],\n",
       "        [9.4000e-11],\n",
       "        [9.9372e-01],\n",
       "        [9.9994e-01],\n",
       "        [8.8707e-01],\n",
       "        [9.9267e-01],\n",
       "        [1.0000e+00],\n",
       "        [6.0248e-01],\n",
       "        [9.9969e-01],\n",
       "        [8.3005e-15],\n",
       "        [2.2089e-02],\n",
       "        [7.2388e-01],\n",
       "        [1.0000e+00],\n",
       "        [9.7002e-01],\n",
       "        [2.3796e-02],\n",
       "        [6.6140e-01],\n",
       "        [9.9898e-01],\n",
       "        [5.6371e-03],\n",
       "        [9.9683e-01],\n",
       "        [6.5973e-01],\n",
       "        [9.9961e-01],\n",
       "        [9.5777e-01],\n",
       "        [9.6629e-01],\n",
       "        [1.4139e-01],\n",
       "        [9.9435e-01],\n",
       "        [8.6537e-01],\n",
       "        [9.9983e-01],\n",
       "        [9.9727e-01],\n",
       "        [1.2745e-05],\n",
       "        [6.8913e-03],\n",
       "        [6.3885e-01],\n",
       "        [9.7137e-08],\n",
       "        [6.4609e-01],\n",
       "        [1.4106e-05],\n",
       "        [8.7484e-01],\n",
       "        [1.1114e-05],\n",
       "        [4.6257e-21],\n",
       "        [6.5254e-01],\n",
       "        [3.4178e-03],\n",
       "        [8.2331e-01],\n",
       "        [3.1434e-23],\n",
       "        [9.6481e-01],\n",
       "        [9.2368e-01],\n",
       "        [9.9705e-01],\n",
       "        [3.2577e-01],\n",
       "        [9.9784e-01],\n",
       "        [1.6909e-12],\n",
       "        [4.9731e-19],\n",
       "        [9.9435e-01],\n",
       "        [1.1445e-05],\n",
       "        [9.9712e-01],\n",
       "        [9.9898e-01],\n",
       "        [9.9155e-01],\n",
       "        [9.1401e-01],\n",
       "        [5.3053e-11],\n",
       "        [1.0000e+00],\n",
       "        [1.0000e+00],\n",
       "        [1.0000e+00],\n",
       "        [9.0894e-01],\n",
       "        [1.0000e+00],\n",
       "        [9.9237e-01],\n",
       "        [1.4376e-01],\n",
       "        [9.2901e-01],\n",
       "        [1.3286e-06],\n",
       "        [3.5623e-01],\n",
       "        [7.4044e-01],\n",
       "        [4.2185e-15],\n",
       "        [2.7936e-03],\n",
       "        [4.7451e-01],\n",
       "        [9.2244e-01],\n",
       "        [2.8296e-04],\n",
       "        [2.4893e-10],\n",
       "        [9.8911e-01],\n",
       "        [1.0000e+00],\n",
       "        [1.0000e+00],\n",
       "        [1.0698e-01],\n",
       "        [9.9507e-01],\n",
       "        [6.4086e-03],\n",
       "        [9.2408e-01],\n",
       "        [6.7968e-02],\n",
       "        [9.8609e-01],\n",
       "        [9.9989e-01],\n",
       "        [3.1612e-01],\n",
       "        [9.9807e-01],\n",
       "        [9.9998e-01],\n",
       "        [9.7544e-01],\n",
       "        [9.9970e-01],\n",
       "        [5.0169e-02],\n",
       "        [1.0000e+00],\n",
       "        [9.9824e-01],\n",
       "        [1.0000e+00],\n",
       "        [9.8705e-01],\n",
       "        [8.7468e-01],\n",
       "        [9.4688e-01],\n",
       "        [1.0000e+00],\n",
       "        [1.0000e+00],\n",
       "        [9.9982e-01],\n",
       "        [1.0000e+00],\n",
       "        [9.9714e-01],\n",
       "        [1.0000e+00],\n",
       "        [9.9751e-01],\n",
       "        [9.8977e-01],\n",
       "        [4.8395e-08],\n",
       "        [4.6626e-01],\n",
       "        [6.9530e-06],\n",
       "        [9.9723e-01],\n",
       "        [1.0010e-03],\n",
       "        [9.9817e-01],\n",
       "        [9.9124e-01],\n",
       "        [9.1089e-01],\n",
       "        [9.5364e-01],\n",
       "        [9.9890e-01],\n",
       "        [9.9988e-01],\n",
       "        [4.9625e-10],\n",
       "        [9.8500e-01],\n",
       "        [1.3928e-03],\n",
       "        [3.6717e-01],\n",
       "        [9.9491e-01],\n",
       "        [9.9215e-01],\n",
       "        [9.1063e-19],\n",
       "        [9.6386e-01],\n",
       "        [1.0000e+00],\n",
       "        [2.4508e-02],\n",
       "        [3.2863e-05],\n",
       "        [9.8797e-01],\n",
       "        [9.9597e-01],\n",
       "        [9.9994e-01],\n",
       "        [1.7515e-01],\n",
       "        [6.2152e-05],\n",
       "        [1.3132e-05],\n",
       "        [9.8180e-01],\n",
       "        [8.1720e-24]], device='mps:0', grad_fn=<SigmoidBackward0>)"
      ]
     },
     "execution_count": 37,
     "metadata": {},
     "output_type": "execute_result"
    }
   ],
   "source": [
    "previsoes"
   ]
  },
  {
   "cell_type": "code",
   "execution_count": 38,
   "id": "7074c8c1-2296-4a71-84c7-7066b0e5588f",
   "metadata": {},
   "outputs": [],
   "source": [
    "previsoes = previsoes.cpu()"
   ]
  },
  {
   "cell_type": "code",
   "execution_count": 39,
   "id": "e8c8508b-7e62-4d33-930a-53ec2cbdef84",
   "metadata": {},
   "outputs": [
    {
     "name": "stderr",
     "output_type": "stream",
     "text": [
      "/var/folders/rb/g2rznbp50d56w_26l6lfc72c0000gn/T/ipykernel_15102/3535737125.py:1: DeprecationWarning: __array__ implementation doesn't accept a copy keyword, so passing copy=False failed. __array__ must implement 'dtype' and 'copy' keyword arguments. To learn more, see the migration guide https://numpy.org/devdocs/numpy_2_0_migration_guide.html#adapting-to-changes-in-the-copy-keyword\n",
      "  previsoes = np.array(previsoes > 0.5)\n"
     ]
    }
   ],
   "source": [
    "previsoes = np.array(previsoes > 0.5)"
   ]
  },
  {
   "cell_type": "code",
   "execution_count": 40,
   "id": "7a703024-9916-443d-851b-bb56829c5a43",
   "metadata": {},
   "outputs": [
    {
     "data": {
      "text/plain": [
       "array([[ True],\n",
       "       [ True],\n",
       "       [ True],\n",
       "       [ True],\n",
       "       [False],\n",
       "       [False],\n",
       "       [ True],\n",
       "       [ True],\n",
       "       [ True],\n",
       "       [ True],\n",
       "       [ True],\n",
       "       [ True],\n",
       "       [False],\n",
       "       [ True],\n",
       "       [ True],\n",
       "       [ True],\n",
       "       [ True],\n",
       "       [ True],\n",
       "       [ True],\n",
       "       [ True],\n",
       "       [False],\n",
       "       [False],\n",
       "       [ True],\n",
       "       [ True],\n",
       "       [ True],\n",
       "       [False],\n",
       "       [ True],\n",
       "       [ True],\n",
       "       [False],\n",
       "       [ True],\n",
       "       [ True],\n",
       "       [ True],\n",
       "       [ True],\n",
       "       [ True],\n",
       "       [False],\n",
       "       [ True],\n",
       "       [ True],\n",
       "       [ True],\n",
       "       [ True],\n",
       "       [False],\n",
       "       [False],\n",
       "       [ True],\n",
       "       [False],\n",
       "       [ True],\n",
       "       [False],\n",
       "       [ True],\n",
       "       [False],\n",
       "       [False],\n",
       "       [ True],\n",
       "       [False],\n",
       "       [ True],\n",
       "       [False],\n",
       "       [ True],\n",
       "       [ True],\n",
       "       [ True],\n",
       "       [False],\n",
       "       [ True],\n",
       "       [False],\n",
       "       [False],\n",
       "       [ True],\n",
       "       [False],\n",
       "       [ True],\n",
       "       [ True],\n",
       "       [ True],\n",
       "       [ True],\n",
       "       [False],\n",
       "       [ True],\n",
       "       [ True],\n",
       "       [ True],\n",
       "       [ True],\n",
       "       [ True],\n",
       "       [ True],\n",
       "       [False],\n",
       "       [ True],\n",
       "       [False],\n",
       "       [False],\n",
       "       [ True],\n",
       "       [False],\n",
       "       [False],\n",
       "       [False],\n",
       "       [ True],\n",
       "       [False],\n",
       "       [False],\n",
       "       [ True],\n",
       "       [ True],\n",
       "       [ True],\n",
       "       [False],\n",
       "       [ True],\n",
       "       [False],\n",
       "       [ True],\n",
       "       [False],\n",
       "       [ True],\n",
       "       [ True],\n",
       "       [False],\n",
       "       [ True],\n",
       "       [ True],\n",
       "       [ True],\n",
       "       [ True],\n",
       "       [False],\n",
       "       [ True],\n",
       "       [ True],\n",
       "       [ True],\n",
       "       [ True],\n",
       "       [ True],\n",
       "       [ True],\n",
       "       [ True],\n",
       "       [ True],\n",
       "       [ True],\n",
       "       [ True],\n",
       "       [ True],\n",
       "       [ True],\n",
       "       [ True],\n",
       "       [ True],\n",
       "       [False],\n",
       "       [False],\n",
       "       [False],\n",
       "       [ True],\n",
       "       [False],\n",
       "       [ True],\n",
       "       [ True],\n",
       "       [ True],\n",
       "       [ True],\n",
       "       [ True],\n",
       "       [ True],\n",
       "       [False],\n",
       "       [ True],\n",
       "       [False],\n",
       "       [False],\n",
       "       [ True],\n",
       "       [ True],\n",
       "       [False],\n",
       "       [ True],\n",
       "       [ True],\n",
       "       [False],\n",
       "       [False],\n",
       "       [ True],\n",
       "       [ True],\n",
       "       [ True],\n",
       "       [False],\n",
       "       [False],\n",
       "       [False],\n",
       "       [ True],\n",
       "       [False]])"
      ]
     },
     "execution_count": 40,
     "metadata": {},
     "output_type": "execute_result"
    }
   ],
   "source": [
    "previsoes"
   ]
  },
  {
   "cell_type": "code",
   "execution_count": 41,
   "id": "dcf5560b-8a59-4b2c-ac3f-6c3657bc173c",
   "metadata": {},
   "outputs": [
    {
     "data": {
      "text/plain": [
       "0.916083916083916"
      ]
     },
     "execution_count": 41,
     "metadata": {},
     "output_type": "execute_result"
    }
   ],
   "source": [
    "taxa_acerto = accuracy_score(classe_teste, previsoes)\n",
    "taxa_acerto"
   ]
  },
  {
   "cell_type": "code",
   "execution_count": 42,
   "id": "02223ee3-0dbc-4605-91b0-7a4d7186e23b",
   "metadata": {},
   "outputs": [
    {
     "data": {
      "text/plain": [
       "array([[45,  9],\n",
       "       [ 3, 86]])"
      ]
     },
     "execution_count": 42,
     "metadata": {},
     "output_type": "execute_result"
    }
   ],
   "source": [
    "matriz = confusion_matrix(classe_teste, previsoes)\n",
    "matriz"
   ]
  },
  {
   "cell_type": "code",
   "execution_count": 43,
   "id": "2091655b-a2a5-4b1c-ac5a-099293dcd9af",
   "metadata": {},
   "outputs": [
    {
     "data": {
      "text/plain": [
       "<Axes: >"
      ]
     },
     "execution_count": 43,
     "metadata": {},
     "output_type": "execute_result"
    },
    {
     "data": {
      "image/png": "[encoded data removed]",
      "text/plain": [
       "<Figure size 640x480 with 2 Axes>"
      ]
     },
     "metadata": {},
     "output_type": "display_data"
    }
   ],
   "source": [
    "sns.heatmap(matriz, annot=True)"
   ]
  },
  {
   "cell_type": "code",
   "execution_count": null,
   "id": "c7c5c6af-bdcb-4e04-aace-0484380db267",
   "metadata": {},
   "outputs": [],
   "source": []
  }
 ],
 "metadata": {
  "kernelspec": {
   "display_name": "Python 3 (ipykernel)",
   "language": "python",
   "name": "python3"
  },
  "language_info": {
   "codemirror_mode": {
    "name": "ipython",
    "version": 3
   },
   "file_extension": ".py",
   "mimetype": "text/x-python",
   "name": "python",
   "nbconvert_exporter": "python",
   "pygments_lexer": "ipython3",
   "version": "3.10.16"
  }
 },
 "nbformat": 4,
 "nbformat_minor": 5
}
